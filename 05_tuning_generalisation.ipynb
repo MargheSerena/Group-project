{
 "cells": [
  {
   "cell_type": "code",
   "execution_count": 1,
   "id": "4b8aadf5-d65c-4704-802a-f0843751e6bd",
   "metadata": {},
   "outputs": [],
   "source": [
    "import pandas as pd\n",
    "import numpy as np\n",
    "from sklearn.model_selection import KFold\n",
    "from sklearn.model_selection import cross_val_score\n",
    "from tqdm.notebook import tqdm\n",
    "from sklearn.model_selection import GridSearchCV #, RandomizedSearchCV "
   ]
  },
  {
   "cell_type": "markdown",
   "id": "63b6db77-5f4d-4e07-a3ad-88fd59e6dc2d",
   "metadata": {},
   "source": [
    "Code to add to 03 ML set up, but created as stand alone notebook to prevent git clashes."
   ]
  },
  {
   "cell_type": "markdown",
   "id": "fa568b5f-0be6-4758-adae-478172b5be45",
   "metadata": {},
   "source": [
    "# Hyperparameter Tuning"
   ]
  },
  {
   "cell_type": "code",
   "execution_count": null,
   "id": "02921399-06b2-4890-9752-fc1184ae917b",
   "metadata": {},
   "outputs": [],
   "source": [
    "# manual tuning taken from homework solution\n",
    "# to adapt\n",
    "\n",
    "n_estimators = list(range(1, 101, 50))\n",
    "criterions = [\"squared_error\", \"poisson\"]\n",
    "\n",
    "# Initialize the dataframe.\n",
    "tuning_df = pd.DataFrame()\n",
    "counter = 0\n",
    "\n",
    "for n_estimator in n_estimators:\n",
    "    for criterion in criterions:\n",
    "        print(n_estimator, criterion)\n",
    "        rf = RandomForestRegressor(\n",
    "            n_estimators=n_estimator,\n",
    "            criterion=criterion,\n",
    "        )\n",
    "        rf.fit(X_train, y_train)\n",
    "        rf_preds = rf.predict(X_test)\n",
    "        r2 = r2_score(y_test, rf_preds)\n",
    "        tuning_df.loc[counter, \"n_estimator\"] = n_estimator\n",
    "        tuning_df.loc[counter, \"criterion\"] = criterion\n",
    "        tuning_df.loc[counter, \"r2\"] = r2\n",
    "\n",
    "        counter += 1  "
   ]
  },
  {
   "cell_type": "code",
   "execution_count": null,
   "id": "46d33d4f-ebe7-4301-bb19-648e0539c871",
   "metadata": {},
   "outputs": [],
   "source": [
    "# grid search\n",
    "# n.b. parameters in grid are from estimator e.g. RandomForestRegressor in this case - see docs\n",
    "# to adapt\n",
    "param_grid = {\n",
    "    #\"n_estimators\":[100,200,300],\n",
    "    #\"max_depth\":[10, 50, 100],\n",
    "    #\"max_features\":[6,8,10,12,14,16]\n",
    "    \"n_estimators\":[10, 20, 100],\n",
    "    \"max_depth\":[10, 50],\n",
    "    \"max_features\":[6,8,10]\n",
    "}\n",
    "# https://scikit-learn.org/stable/modules/generated/sklearn.model_selection.GridSearchCV.html#sklearn.model_selection.GridSearchCV\n",
    "grid_search = GridSearchCV(\n",
    "    estimator=RandomForestRegressor(),\n",
    "    param_grid=param_grid\n",
    ")\n",
    "\n",
    "grid_search.fit(X_train, y_train) \n",
    "print(grid_search.best_estimator_)"
   ]
  },
  {
   "cell_type": "markdown",
   "id": "f87e9923-cdcb-4bdd-9a6b-c0d37b87893c",
   "metadata": {},
   "source": [
    "# Generalisation"
   ]
  },
  {
   "cell_type": "markdown",
   "id": "106185b4-6b6b-470f-b985-48d70e7b7fc4",
   "metadata": {},
   "source": [
    "Our model is possibly at risk of overfitting if there are too many variables that don't help to explain the dependent variable. See how well the model generalises using cross validation and we could consider using regularisation (i believe this is applicable to nn and svr.)"
   ]
  },
  {
   "cell_type": "markdown",
   "id": "451a34bf-8b0a-4a8c-8f31-dd8d32f6fd45",
   "metadata": {},
   "source": [
    "## Cross validation"
   ]
  },
  {
   "cell_type": "code",
   "execution_count": null,
   "id": "8e32d6aa-6cc2-4570-a097-25870fa349cc",
   "metadata": {},
   "outputs": [],
   "source": [
    "# Define a K-fold CV class \n",
    "\n",
    "num_folds = 5\n",
    "random_seed = 42\n",
    "\n",
    "kfold = KFold(\n",
    "    n_splits=num_folds,\n",
    "    random_state=random_seed,\n",
    "    shuffle=True\n",
    ")"
   ]
  },
  {
   "cell_type": "code",
   "execution_count": null,
   "id": "378f5ea2-2eb8-47f3-b070-7880d8791897",
   "metadata": {},
   "outputs": [],
   "source": [
    "# scoring:- https://scikit-learn.org/stable/modules/model_evaluation.html\n",
    "\n",
    "model = SVR()\n",
    "score = \"neg_mean_absolute_error\"\n",
    "\n",
    "cv_results = cross_val_score(\n",
    "    model, X, y, \n",
    "    cv=kfold,\n",
    "    scoring=score\n",
    ")"
   ]
  },
  {
   "cell_type": "code",
   "execution_count": null,
   "id": "94a277b0-15e2-42d3-b722-70e8107f6314",
   "metadata": {},
   "outputs": [],
   "source": [
    "# average performance\n",
    "cv_average = round(np.mean(cv_results),2)"
   ]
  },
  {
   "cell_type": "code",
   "execution_count": null,
   "id": "e49665ae-cd1a-4e2b-b5d7-a0b2eea3fde0",
   "metadata": {},
   "outputs": [],
   "source": [
    "# std\n",
    "cv_std = round(np.std(cv_results), 2)"
   ]
  },
  {
   "cell_type": "code",
   "execution_count": null,
   "id": "eb0c9ed8-d341-4d40-8443-8dfbe5e6a0f6",
   "metadata": {},
   "outputs": [],
   "source": []
  }
 ],
 "metadata": {
  "kernelspec": {
   "display_name": "Python 3 (ipykernel)",
   "language": "python",
   "name": "python3"
  },
  "language_info": {
   "codemirror_mode": {
    "name": "ipython",
    "version": 3
   },
   "file_extension": ".py",
   "mimetype": "text/x-python",
   "name": "python",
   "nbconvert_exporter": "python",
   "pygments_lexer": "ipython3",
   "version": "3.11.4"
  }
 },
 "nbformat": 4,
 "nbformat_minor": 5
}
