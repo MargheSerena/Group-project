{
 "cells": [
  {
   "cell_type": "markdown",
   "id": "bc5d00d5-52ea-4841-8891-c961360e7556",
   "metadata": {},
   "source": [
    "# Request book cover images"
   ]
  },
  {
   "cell_type": "markdown",
   "id": "9f79a525-03d0-4c20-ba60-1035ee56cda7",
   "metadata": {},
   "source": [
    "This notebook saves images of book covers from an Amazon dataset"
   ]
  },
  {
   "cell_type": "code",
   "execution_count": 1,
   "id": "25ac7aeb-526c-4f60-a1a0-df140164603c",
   "metadata": {
    "tags": []
   },
   "outputs": [],
   "source": [
    "import pandas as pd\n",
    "import requests\n",
    "from bs4 import BeautifulSoup\n",
    "from PIL import Image\n",
    "from io import BytesIO\n",
    "import os"
   ]
  },
  {
   "cell_type": "code",
   "execution_count": 47,
   "id": "f9ffa1b7-0ada-4032-85d6-07c233306058",
   "metadata": {
    "tags": []
   },
   "outputs": [],
   "source": [
    "# original books dataset can be found here\n",
    "# an index was added to merge with other df in the project\n",
    "# https://www.kaggle.com/datasets/mohamedbakhet/amazon-books-reviews?select=books_data.csv\n",
    "amz_books = pd.read_csv('books_data_with_index.csv')"
   ]
  },
  {
   "cell_type": "code",
   "execution_count": 5,
   "id": "9bf1e70c-cbb3-496f-bf6f-451314b0aaed",
   "metadata": {
    "tags": []
   },
   "outputs": [],
   "source": [
    "# don't want any NaN in image series\n",
    "amz_books = amz_books.dropna(how=\"any\", subset=[\"image\"])"
   ]
  },
  {
   "cell_type": "code",
   "execution_count": 7,
   "id": "59e0d186-f33c-4b9c-bafd-30fec64a1eb8",
   "metadata": {
    "tags": []
   },
   "outputs": [
    {
     "data": {
      "text/plain": [
       "Title                 1\n",
       "description       23372\n",
       "authors            5302\n",
       "image                 0\n",
       "previewLink           0\n",
       "publisher         30146\n",
       "publishedDate       924\n",
       "infoLink              0\n",
       "categories         8445\n",
       "ratingsCount     113202\n",
       "index                 0\n",
       "dtype: int64"
      ]
     },
     "execution_count": 7,
     "metadata": {},
     "output_type": "execute_result"
    }
   ],
   "source": [
    "# check no Nan image series \n",
    "amz_books.isnull().sum()"
   ]
  },
  {
   "cell_type": "code",
   "execution_count": null,
   "id": "b27a2dec-4029-4a00-a78c-8941f702b15a",
   "metadata": {
    "tags": []
   },
   "outputs": [],
   "source": [
    "# get all images\n",
    "folder_path = 'images'\n",
    "\n",
    "no_images_saved = 0\n",
    "no_images_not_saved = 0\n",
    "\n",
    "for index, row in amz_books.iterrows():\n",
    "    url = row[\"image\"]\n",
    "    image_url = str(url) + \".jpg\"\n",
    "\n",
    "    # Send a GET request to the image URL\n",
    "    image_response = requests.get(image_url)\n",
    "\n",
    "    # Check if the request was successful\n",
    "    if image_response.status_code == 200:\n",
    "        \n",
    "        # Save the image to the specified folder\n",
    "        save_name = os.path.join(folder_path, str(row[\"index\"]) + \".jpg\")\n",
    "        image = Image.open(BytesIO(image_response.content))\n",
    "        image.save(save_name)\n",
    "        no_images_saved += 1\n",
    "    else:\n",
    "        no_images_not_saved += 1"
   ]
  }
 ],
 "metadata": {
  "kernelspec": {
   "display_name": "Python 3 (ipykernel)",
   "language": "python",
   "name": "python3"
  },
  "language_info": {
   "codemirror_mode": {
    "name": "ipython",
    "version": 3
   },
   "file_extension": ".py",
   "mimetype": "text/x-python",
   "name": "python",
   "nbconvert_exporter": "python",
   "pygments_lexer": "ipython3",
   "version": "3.11.4"
  }
 },
 "nbformat": 4,
 "nbformat_minor": 5
}
