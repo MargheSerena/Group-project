{
 "cells": [
  {
   "cell_type": "markdown",
   "metadata": {},
   "source": [
    "# Consolidate books dataset with information from ratings dataset"
   ]
  },
  {
   "cell_type": "markdown",
   "metadata": {},
   "source": [
    "## 0. Set up"
   ]
  },
  {
   "cell_type": "markdown",
   "metadata": {},
   "source": [
    "Libraries"
   ]
  },
  {
   "cell_type": "code",
   "execution_count": 36,
   "metadata": {},
   "outputs": [],
   "source": [
    "# pip install -r requirements.txt"
   ]
  },
  {
   "cell_type": "code",
   "execution_count": 37,
   "metadata": {},
   "outputs": [
    {
     "name": "stdout",
     "output_type": "stream",
     "text": [
      "The autoreload extension is already loaded. To reload it, use:\n",
      "  %reload_ext autoreload\n"
     ]
    }
   ],
   "source": [
    "%load_ext autoreload\n",
    "\n",
    "%autoreload 2"
   ]
  },
  {
   "cell_type": "code",
   "execution_count": 38,
   "metadata": {},
   "outputs": [],
   "source": [
    "import pandas as pd\n",
    "import os\n",
    "import numpy as np\n",
    "import seaborn as sns\n",
    "import matplotlib.pyplot as plt\n",
    "import plotly.graph_objects as go\n",
    "import plotly.express as px\n",
    "from plotly.subplots import make_subplots\n",
    "\n",
    "import re\n",
    "import datetime\n",
    "\n",
    "# EDA functions\n",
    "from EDA_functions import ratings_cleaning_steps\n",
    "from EDA_functions import folders_set_up\n",
    "from EDA_functions import books_cleaning_steps\n",
    "from NLP_preprocessing import identify_language\n",
    "from NLP_preprocessing import create_BOW_feature_for_english_descriptions, add_TFIDF_PCA_to_df\n",
    "\n",
    "# import requests\n",
    "# from bs4 import BeautifulSoup\n",
    "# from PIL import Image\n",
    "# from io import BytesIO"
   ]
  },
  {
   "cell_type": "markdown",
   "metadata": {},
   "source": [
    "Project folder"
   ]
  },
  {
   "cell_type": "code",
   "execution_count": 39,
   "metadata": {},
   "outputs": [],
   "source": [
    "github_folder, input_folder, output_folder = folders_set_up.generate_folders()"
   ]
  },
  {
   "cell_type": "markdown",
   "metadata": {},
   "source": [
    "## 1. Import data"
   ]
  },
  {
   "cell_type": "code",
   "execution_count": 40,
   "metadata": {},
   "outputs": [
    {
     "data": {
      "text/plain": [
       "(212404, 15)"
      ]
     },
     "execution_count": 40,
     "metadata": {},
     "output_type": "execute_result"
    }
   ],
   "source": [
    "ratings_info = pd.read_csv(os.path.join(output_folder, \"book_ratings_info.csv\"))\n",
    "ratings_info.shape"
   ]
  },
  {
   "cell_type": "code",
   "execution_count": 41,
   "metadata": {},
   "outputs": [
    {
     "data": {
      "text/html": [
       "<div>\n",
       "<style scoped>\n",
       "    .dataframe tbody tr th:only-of-type {\n",
       "        vertical-align: middle;\n",
       "    }\n",
       "\n",
       "    .dataframe tbody tr th {\n",
       "        vertical-align: top;\n",
       "    }\n",
       "\n",
       "    .dataframe thead th {\n",
       "        text-align: right;\n",
       "    }\n",
       "</style>\n",
       "<table border=\"1\" class=\"dataframe\">\n",
       "  <thead>\n",
       "    <tr style=\"text-align: right;\">\n",
       "      <th></th>\n",
       "      <th>Title</th>\n",
       "      <th>reviews number</th>\n",
       "      <th>average rating</th>\n",
       "      <th>median rating</th>\n",
       "      <th>reviews with missing price</th>\n",
       "      <th>average price</th>\n",
       "      <th>median price</th>\n",
       "      <th>percentage missing prices</th>\n",
       "      <th>min review date_x</th>\n",
       "      <th>max review date_x</th>\n",
       "      <th>weighted rating</th>\n",
       "      <th>min review date_y</th>\n",
       "      <th>max review date_y</th>\n",
       "      <th>min review date</th>\n",
       "      <th>max review date</th>\n",
       "    </tr>\n",
       "  </thead>\n",
       "  <tbody>\n",
       "    <tr>\n",
       "      <th>0</th>\n",
       "      <td>\" Film technique, \" and, \" Film acting \"</td>\n",
       "      <td>2</td>\n",
       "      <td>4.500</td>\n",
       "      <td>4.5</td>\n",
       "      <td>2.0</td>\n",
       "      <td>NaN</td>\n",
       "      <td>NaN</td>\n",
       "      <td>1.0</td>\n",
       "      <td>2000-02-05</td>\n",
       "      <td>2009-08-20</td>\n",
       "      <td>4.292834</td>\n",
       "      <td>2000-02-05</td>\n",
       "      <td>2009-08-20</td>\n",
       "      <td>2000-02-05</td>\n",
       "      <td>2009-08-20</td>\n",
       "    </tr>\n",
       "    <tr>\n",
       "      <th>1</th>\n",
       "      <td>\" We'll Always Have Paris\": The Definitive Gui...</td>\n",
       "      <td>2</td>\n",
       "      <td>5.000</td>\n",
       "      <td>5.0</td>\n",
       "      <td>2.0</td>\n",
       "      <td>NaN</td>\n",
       "      <td>NaN</td>\n",
       "      <td>1.0</td>\n",
       "      <td>2004-03-28</td>\n",
       "      <td>2007-12-27</td>\n",
       "      <td>4.336313</td>\n",
       "      <td>2004-03-28</td>\n",
       "      <td>2007-12-27</td>\n",
       "      <td>2004-03-28</td>\n",
       "      <td>2007-12-27</td>\n",
       "    </tr>\n",
       "    <tr>\n",
       "      <th>2</th>\n",
       "      <td>\"... And Poetry is Born ...\" Russian Classical...</td>\n",
       "      <td>1</td>\n",
       "      <td>4.000</td>\n",
       "      <td>4.0</td>\n",
       "      <td>1.0</td>\n",
       "      <td>NaN</td>\n",
       "      <td>NaN</td>\n",
       "      <td>1.0</td>\n",
       "      <td>2010-09-20</td>\n",
       "      <td>2010-09-20</td>\n",
       "      <td>4.260690</td>\n",
       "      <td>2010-09-20</td>\n",
       "      <td>2010-09-20</td>\n",
       "      <td>2010-09-20</td>\n",
       "      <td>2010-09-20</td>\n",
       "    </tr>\n",
       "    <tr>\n",
       "      <th>3</th>\n",
       "      <td>\"A Titanic hero\" Thomas Andrews, shipbuilder</td>\n",
       "      <td>8</td>\n",
       "      <td>4.875</td>\n",
       "      <td>5.0</td>\n",
       "      <td>8.0</td>\n",
       "      <td>NaN</td>\n",
       "      <td>NaN</td>\n",
       "      <td>1.0</td>\n",
       "      <td>1998-07-20</td>\n",
       "      <td>2000-09-25</td>\n",
       "      <td>4.439144</td>\n",
       "      <td>1998-07-20</td>\n",
       "      <td>2000-09-25</td>\n",
       "      <td>1998-07-20</td>\n",
       "      <td>2000-09-25</td>\n",
       "    </tr>\n",
       "    <tr>\n",
       "      <th>4</th>\n",
       "      <td>\"A Truthful Impression of the Country\": Britis...</td>\n",
       "      <td>1</td>\n",
       "      <td>4.000</td>\n",
       "      <td>4.0</td>\n",
       "      <td>0.0</td>\n",
       "      <td>70.27</td>\n",
       "      <td>70.27</td>\n",
       "      <td>0.0</td>\n",
       "      <td>2005-08-08</td>\n",
       "      <td>2005-08-08</td>\n",
       "      <td>4.260690</td>\n",
       "      <td>2005-08-08</td>\n",
       "      <td>2005-08-08</td>\n",
       "      <td>2005-08-08</td>\n",
       "      <td>2005-08-08</td>\n",
       "    </tr>\n",
       "  </tbody>\n",
       "</table>\n",
       "</div>"
      ],
      "text/plain": [
       "                                               Title  reviews number  \\\n",
       "0           \" Film technique, \" and, \" Film acting \"               2   \n",
       "1  \" We'll Always Have Paris\": The Definitive Gui...               2   \n",
       "2  \"... And Poetry is Born ...\" Russian Classical...               1   \n",
       "3       \"A Titanic hero\" Thomas Andrews, shipbuilder               8   \n",
       "4  \"A Truthful Impression of the Country\": Britis...               1   \n",
       "\n",
       "   average rating  median rating  reviews with missing price  average price  \\\n",
       "0           4.500            4.5                         2.0            NaN   \n",
       "1           5.000            5.0                         2.0            NaN   \n",
       "2           4.000            4.0                         1.0            NaN   \n",
       "3           4.875            5.0                         8.0            NaN   \n",
       "4           4.000            4.0                         0.0          70.27   \n",
       "\n",
       "   median price  percentage missing prices min review date_x  \\\n",
       "0           NaN                        1.0        2000-02-05   \n",
       "1           NaN                        1.0        2004-03-28   \n",
       "2           NaN                        1.0        2010-09-20   \n",
       "3           NaN                        1.0        1998-07-20   \n",
       "4         70.27                        0.0        2005-08-08   \n",
       "\n",
       "  max review date_x  weighted rating min review date_y max review date_y  \\\n",
       "0        2009-08-20         4.292834        2000-02-05        2009-08-20   \n",
       "1        2007-12-27         4.336313        2004-03-28        2007-12-27   \n",
       "2        2010-09-20         4.260690        2010-09-20        2010-09-20   \n",
       "3        2000-09-25         4.439144        1998-07-20        2000-09-25   \n",
       "4        2005-08-08         4.260690        2005-08-08        2005-08-08   \n",
       "\n",
       "  min review date max review date  \n",
       "0      2000-02-05      2009-08-20  \n",
       "1      2004-03-28      2007-12-27  \n",
       "2      2010-09-20      2010-09-20  \n",
       "3      1998-07-20      2000-09-25  \n",
       "4      2005-08-08      2005-08-08  "
      ]
     },
     "execution_count": 41,
     "metadata": {},
     "output_type": "execute_result"
    }
   ],
   "source": [
    "ratings_info.head()"
   ]
  },
  {
   "cell_type": "code",
   "execution_count": 42,
   "metadata": {},
   "outputs": [
    {
     "data": {
      "text/plain": [
       "(212404, 11)"
      ]
     },
     "execution_count": 42,
     "metadata": {},
     "output_type": "execute_result"
    }
   ],
   "source": [
    "books = pd.read_csv(os.path.join(input_folder,\"books_data_with_index.csv\"))\n",
    "\n",
    "books.shape"
   ]
  },
  {
   "cell_type": "markdown",
   "metadata": {},
   "source": [
    "## 2. Merge datasets"
   ]
  },
  {
   "cell_type": "code",
   "execution_count": 43,
   "metadata": {},
   "outputs": [],
   "source": [
    "full_df = pd.merge(\n",
    "    books,\n",
    "    ratings_info,\n",
    "    on = 'Title',\n",
    "    how = 'inner'\n",
    ")"
   ]
  },
  {
   "cell_type": "code",
   "execution_count": 44,
   "metadata": {
    "scrolled": true
   },
   "outputs": [
    {
     "data": {
      "text/html": [
       "<div>\n",
       "<style scoped>\n",
       "    .dataframe tbody tr th:only-of-type {\n",
       "        vertical-align: middle;\n",
       "    }\n",
       "\n",
       "    .dataframe tbody tr th {\n",
       "        vertical-align: top;\n",
       "    }\n",
       "\n",
       "    .dataframe thead th {\n",
       "        text-align: right;\n",
       "    }\n",
       "</style>\n",
       "<table border=\"1\" class=\"dataframe\">\n",
       "  <thead>\n",
       "    <tr style=\"text-align: right;\">\n",
       "      <th></th>\n",
       "      <th>Title</th>\n",
       "      <th>description</th>\n",
       "      <th>authors</th>\n",
       "      <th>image</th>\n",
       "      <th>previewLink</th>\n",
       "      <th>publisher</th>\n",
       "      <th>publishedDate</th>\n",
       "      <th>infoLink</th>\n",
       "      <th>categories</th>\n",
       "      <th>ratingsCount</th>\n",
       "      <th>...</th>\n",
       "      <th>average price</th>\n",
       "      <th>median price</th>\n",
       "      <th>percentage missing prices</th>\n",
       "      <th>min review date_x</th>\n",
       "      <th>max review date_x</th>\n",
       "      <th>weighted rating</th>\n",
       "      <th>min review date_y</th>\n",
       "      <th>max review date_y</th>\n",
       "      <th>min review date</th>\n",
       "      <th>max review date</th>\n",
       "    </tr>\n",
       "  </thead>\n",
       "  <tbody>\n",
       "    <tr>\n",
       "      <th>0</th>\n",
       "      <td>Its Only Art If Its Well Hung!</td>\n",
       "      <td>NaN</td>\n",
       "      <td>['Julie Strain']</td>\n",
       "      <td>http://books.google.com/books/content?id=DykPA...</td>\n",
       "      <td>http://books.google.nl/books?id=DykPAAAACAAJ&amp;d...</td>\n",
       "      <td>NaN</td>\n",
       "      <td>1996</td>\n",
       "      <td>http://books.google.nl/books?id=DykPAAAACAAJ&amp;d...</td>\n",
       "      <td>['Comics &amp; Graphic Novels']</td>\n",
       "      <td>NaN</td>\n",
       "      <td>...</td>\n",
       "      <td>NaN</td>\n",
       "      <td>NaN</td>\n",
       "      <td>1.0</td>\n",
       "      <td>1999-10-23 00:00:00</td>\n",
       "      <td>1999-10-23</td>\n",
       "      <td>4.260690</td>\n",
       "      <td>1999-10-23 00:00:00</td>\n",
       "      <td>1999-10-23</td>\n",
       "      <td>1999-10-23 00:00:00</td>\n",
       "      <td>1999-10-23</td>\n",
       "    </tr>\n",
       "    <tr>\n",
       "      <th>1</th>\n",
       "      <td>Dr. Seuss: American Icon</td>\n",
       "      <td>Philip Nel takes a fascinating look into the k...</td>\n",
       "      <td>['Philip Nel']</td>\n",
       "      <td>http://books.google.com/books/content?id=IjvHQ...</td>\n",
       "      <td>http://books.google.nl/books?id=IjvHQsCn_pgC&amp;p...</td>\n",
       "      <td>A&amp;C Black</td>\n",
       "      <td>2005-01-01</td>\n",
       "      <td>http://books.google.nl/books?id=IjvHQsCn_pgC&amp;d...</td>\n",
       "      <td>['Biography &amp; Autobiography']</td>\n",
       "      <td>NaN</td>\n",
       "      <td>...</td>\n",
       "      <td>NaN</td>\n",
       "      <td>NaN</td>\n",
       "      <td>1.0</td>\n",
       "      <td>2004-02-10</td>\n",
       "      <td>2009-01-06</td>\n",
       "      <td>4.357840</td>\n",
       "      <td>2004-02-10</td>\n",
       "      <td>2009-01-06</td>\n",
       "      <td>2004-02-10</td>\n",
       "      <td>2009-01-06</td>\n",
       "    </tr>\n",
       "    <tr>\n",
       "      <th>2</th>\n",
       "      <td>Wonderful Worship in Smaller Churches</td>\n",
       "      <td>This resource includes twelve principles in un...</td>\n",
       "      <td>['David R. Ray']</td>\n",
       "      <td>http://books.google.com/books/content?id=2tsDA...</td>\n",
       "      <td>http://books.google.nl/books?id=2tsDAAAACAAJ&amp;d...</td>\n",
       "      <td>NaN</td>\n",
       "      <td>2000</td>\n",
       "      <td>http://books.google.nl/books?id=2tsDAAAACAAJ&amp;d...</td>\n",
       "      <td>['Religion']</td>\n",
       "      <td>NaN</td>\n",
       "      <td>...</td>\n",
       "      <td>19.40</td>\n",
       "      <td>19.40</td>\n",
       "      <td>0.0</td>\n",
       "      <td>2001-06-02</td>\n",
       "      <td>2010-12-08</td>\n",
       "      <td>4.389408</td>\n",
       "      <td>2001-06-02</td>\n",
       "      <td>2010-12-08</td>\n",
       "      <td>2001-06-02</td>\n",
       "      <td>2010-12-08</td>\n",
       "    </tr>\n",
       "    <tr>\n",
       "      <th>3</th>\n",
       "      <td>Whispers of the Wicked Saints</td>\n",
       "      <td>Julia Thomas finds her life spinning out of co...</td>\n",
       "      <td>['Veronica Haddon']</td>\n",
       "      <td>http://books.google.com/books/content?id=aRSIg...</td>\n",
       "      <td>http://books.google.nl/books?id=aRSIgJlq6JwC&amp;d...</td>\n",
       "      <td>iUniverse</td>\n",
       "      <td>2005-02</td>\n",
       "      <td>http://books.google.nl/books?id=aRSIgJlq6JwC&amp;d...</td>\n",
       "      <td>['Fiction']</td>\n",
       "      <td>NaN</td>\n",
       "      <td>...</td>\n",
       "      <td>10.95</td>\n",
       "      <td>10.95</td>\n",
       "      <td>0.0</td>\n",
       "      <td>2005-02-14</td>\n",
       "      <td>2006-07-01</td>\n",
       "      <td>3.938400</td>\n",
       "      <td>2005-02-14</td>\n",
       "      <td>2006-07-01</td>\n",
       "      <td>2005-02-14</td>\n",
       "      <td>2006-07-01</td>\n",
       "    </tr>\n",
       "    <tr>\n",
       "      <th>4</th>\n",
       "      <td>Nation Dance: Religion, Identity and Cultural ...</td>\n",
       "      <td>NaN</td>\n",
       "      <td>['Edward Long']</td>\n",
       "      <td>NaN</td>\n",
       "      <td>http://books.google.nl/books?id=399SPgAACAAJ&amp;d...</td>\n",
       "      <td>NaN</td>\n",
       "      <td>2003-03-01</td>\n",
       "      <td>http://books.google.nl/books?id=399SPgAACAAJ&amp;d...</td>\n",
       "      <td>NaN</td>\n",
       "      <td>NaN</td>\n",
       "      <td>...</td>\n",
       "      <td>39.95</td>\n",
       "      <td>39.95</td>\n",
       "      <td>0.0</td>\n",
       "      <td>2008-02-04</td>\n",
       "      <td>2008-02-04</td>\n",
       "      <td>4.306145</td>\n",
       "      <td>2008-02-04</td>\n",
       "      <td>2008-02-04</td>\n",
       "      <td>2008-02-04</td>\n",
       "      <td>2008-02-04</td>\n",
       "    </tr>\n",
       "  </tbody>\n",
       "</table>\n",
       "<p>5 rows × 25 columns</p>\n",
       "</div>"
      ],
      "text/plain": [
       "                                               Title  \\\n",
       "0                     Its Only Art If Its Well Hung!   \n",
       "1                           Dr. Seuss: American Icon   \n",
       "2              Wonderful Worship in Smaller Churches   \n",
       "3                      Whispers of the Wicked Saints   \n",
       "4  Nation Dance: Religion, Identity and Cultural ...   \n",
       "\n",
       "                                         description              authors  \\\n",
       "0                                                NaN     ['Julie Strain']   \n",
       "1  Philip Nel takes a fascinating look into the k...       ['Philip Nel']   \n",
       "2  This resource includes twelve principles in un...     ['David R. Ray']   \n",
       "3  Julia Thomas finds her life spinning out of co...  ['Veronica Haddon']   \n",
       "4                                                NaN      ['Edward Long']   \n",
       "\n",
       "                                               image  \\\n",
       "0  http://books.google.com/books/content?id=DykPA...   \n",
       "1  http://books.google.com/books/content?id=IjvHQ...   \n",
       "2  http://books.google.com/books/content?id=2tsDA...   \n",
       "3  http://books.google.com/books/content?id=aRSIg...   \n",
       "4                                                NaN   \n",
       "\n",
       "                                         previewLink  publisher publishedDate  \\\n",
       "0  http://books.google.nl/books?id=DykPAAAACAAJ&d...        NaN          1996   \n",
       "1  http://books.google.nl/books?id=IjvHQsCn_pgC&p...  A&C Black    2005-01-01   \n",
       "2  http://books.google.nl/books?id=2tsDAAAACAAJ&d...        NaN          2000   \n",
       "3  http://books.google.nl/books?id=aRSIgJlq6JwC&d...  iUniverse       2005-02   \n",
       "4  http://books.google.nl/books?id=399SPgAACAAJ&d...        NaN    2003-03-01   \n",
       "\n",
       "                                            infoLink  \\\n",
       "0  http://books.google.nl/books?id=DykPAAAACAAJ&d...   \n",
       "1  http://books.google.nl/books?id=IjvHQsCn_pgC&d...   \n",
       "2  http://books.google.nl/books?id=2tsDAAAACAAJ&d...   \n",
       "3  http://books.google.nl/books?id=aRSIgJlq6JwC&d...   \n",
       "4  http://books.google.nl/books?id=399SPgAACAAJ&d...   \n",
       "\n",
       "                      categories  ratingsCount  ...  average price  \\\n",
       "0    ['Comics & Graphic Novels']           NaN  ...            NaN   \n",
       "1  ['Biography & Autobiography']           NaN  ...            NaN   \n",
       "2                   ['Religion']           NaN  ...          19.40   \n",
       "3                    ['Fiction']           NaN  ...          10.95   \n",
       "4                            NaN           NaN  ...          39.95   \n",
       "\n",
       "   median price  percentage missing prices    min review date_x  \\\n",
       "0           NaN                        1.0  1999-10-23 00:00:00   \n",
       "1           NaN                        1.0           2004-02-10   \n",
       "2         19.40                        0.0           2001-06-02   \n",
       "3         10.95                        0.0           2005-02-14   \n",
       "4         39.95                        0.0           2008-02-04   \n",
       "\n",
       "   max review date_x  weighted rating    min review date_y  max review date_y  \\\n",
       "0         1999-10-23         4.260690  1999-10-23 00:00:00         1999-10-23   \n",
       "1         2009-01-06         4.357840           2004-02-10         2009-01-06   \n",
       "2         2010-12-08         4.389408           2001-06-02         2010-12-08   \n",
       "3         2006-07-01         3.938400           2005-02-14         2006-07-01   \n",
       "4         2008-02-04         4.306145           2008-02-04         2008-02-04   \n",
       "\n",
       "       min review date max review date  \n",
       "0  1999-10-23 00:00:00      1999-10-23  \n",
       "1           2004-02-10      2009-01-06  \n",
       "2           2001-06-02      2010-12-08  \n",
       "3           2005-02-14      2006-07-01  \n",
       "4           2008-02-04      2008-02-04  \n",
       "\n",
       "[5 rows x 25 columns]"
      ]
     },
     "execution_count": 44,
     "metadata": {},
     "output_type": "execute_result"
    }
   ],
   "source": [
    "full_df.head()"
   ]
  },
  {
   "cell_type": "code",
   "execution_count": 45,
   "metadata": {},
   "outputs": [
    {
     "data": {
      "text/plain": [
       "(212404, 25)"
      ]
     },
     "execution_count": 45,
     "metadata": {},
     "output_type": "execute_result"
    }
   ],
   "source": [
    "full_df.shape"
   ]
  },
  {
   "cell_type": "markdown",
   "metadata": {},
   "source": [
    "## 3. Clean dataset"
   ]
  },
  {
   "cell_type": "markdown",
   "metadata": {},
   "source": [
    "### 3.1 Published date\n",
    "This variable presents different issues:\n",
    "- Date is recorded as yyyy or dd-mm-yyyy format. Therefore it is not possible to directly convert Published date into a datetime.\n",
    "- Some entries contain unclear year, such as \"19??\"\n",
    "- Some dates are missing\n",
    "\n",
    "Below we first apply a function which converts into dates based on the format (yyyy, yyyy-mm-dd or yyyy-mm-dd). Missing values are dropped."
   ]
  },
  {
   "cell_type": "markdown",
   "metadata": {},
   "source": [
    "#### 3.1.1 Explore column"
   ]
  },
  {
   "cell_type": "code",
   "execution_count": 46,
   "metadata": {},
   "outputs": [
    {
     "name": "stdout",
     "output_type": "stream",
     "text": [
      "Number of books with NA date: 25,305\n"
     ]
    }
   ],
   "source": [
    "print(f\"Number of books with NA date: {full_df['publishedDate'].isna().sum():,}\")"
   ]
  },
  {
   "cell_type": "code",
   "execution_count": 47,
   "metadata": {},
   "outputs": [
    {
     "name": "stdout",
     "output_type": "stream",
     "text": [
      "Number of books with unclear date (e.g. 19??):\n",
      "128\n"
     ]
    }
   ],
   "source": [
    "print(\"Number of books with unclear date (e.g. 19??):\")\n",
    "print(full_df['publishedDate'].astype(str).str.contains('\\?', na=False).sum())"
   ]
  },
  {
   "cell_type": "code",
   "execution_count": 48,
   "metadata": {},
   "outputs": [
    {
     "data": {
      "text/plain": [
       "163006     101-01-01\n",
       "117217     101-01-01\n",
       "55953      101-01-01\n",
       "56068      101-01-01\n",
       "157799     101-01-01\n",
       "             ...    \n",
       "146994          2025\n",
       "98661     2030-12-31\n",
       "191817          20??\n",
       "63778           20??\n",
       "125943          20??\n",
       "Name: publishedDate, Length: 187098, dtype: object"
      ]
     },
     "execution_count": 48,
     "metadata": {},
     "output_type": "execute_result"
    }
   ],
   "source": [
    "# Inspect date for non missing values\n",
    "full_df[~full_df['publishedDate'].isna()]['publishedDate'].sort_values()"
   ]
  },
  {
   "cell_type": "markdown",
   "metadata": {},
   "source": [
    "#### 3.1.2 Apply function for extract year"
   ]
  },
  {
   "cell_type": "code",
   "execution_count": 49,
   "metadata": {},
   "outputs": [],
   "source": [
    "# Apply function\n",
    "full_df['date'] = full_df['publishedDate'].apply(books_cleaning_steps.datetime_conversion)"
   ]
  },
  {
   "cell_type": "code",
   "execution_count": 50,
   "metadata": {},
   "outputs": [
    {
     "data": {
      "text/html": [
       "<div>\n",
       "<style scoped>\n",
       "    .dataframe tbody tr th:only-of-type {\n",
       "        vertical-align: middle;\n",
       "    }\n",
       "\n",
       "    .dataframe tbody tr th {\n",
       "        vertical-align: top;\n",
       "    }\n",
       "\n",
       "    .dataframe thead th {\n",
       "        text-align: right;\n",
       "    }\n",
       "</style>\n",
       "<table border=\"1\" class=\"dataframe\">\n",
       "  <thead>\n",
       "    <tr style=\"text-align: right;\">\n",
       "      <th></th>\n",
       "      <th>publishedDate</th>\n",
       "      <th>date</th>\n",
       "    </tr>\n",
       "  </thead>\n",
       "  <tbody>\n",
       "    <tr>\n",
       "      <th>63778</th>\n",
       "      <td>20??</td>\n",
       "      <td>NaT</td>\n",
       "    </tr>\n",
       "    <tr>\n",
       "      <th>191817</th>\n",
       "      <td>20??</td>\n",
       "      <td>NaT</td>\n",
       "    </tr>\n",
       "    <tr>\n",
       "      <th>125943</th>\n",
       "      <td>20??</td>\n",
       "      <td>NaT</td>\n",
       "    </tr>\n",
       "    <tr>\n",
       "      <th>98661</th>\n",
       "      <td>2030-12-31</td>\n",
       "      <td>2030-12-31</td>\n",
       "    </tr>\n",
       "    <tr>\n",
       "      <th>96584</th>\n",
       "      <td>2025</td>\n",
       "      <td>2025-01-01</td>\n",
       "    </tr>\n",
       "    <tr>\n",
       "      <th>...</th>\n",
       "      <td>...</td>\n",
       "      <td>...</td>\n",
       "    </tr>\n",
       "    <tr>\n",
       "      <th>212387</th>\n",
       "      <td>NaN</td>\n",
       "      <td>NaT</td>\n",
       "    </tr>\n",
       "    <tr>\n",
       "      <th>212390</th>\n",
       "      <td>NaN</td>\n",
       "      <td>NaT</td>\n",
       "    </tr>\n",
       "    <tr>\n",
       "      <th>212392</th>\n",
       "      <td>NaN</td>\n",
       "      <td>NaT</td>\n",
       "    </tr>\n",
       "    <tr>\n",
       "      <th>212394</th>\n",
       "      <td>NaN</td>\n",
       "      <td>NaT</td>\n",
       "    </tr>\n",
       "    <tr>\n",
       "      <th>212395</th>\n",
       "      <td>NaN</td>\n",
       "      <td>NaT</td>\n",
       "    </tr>\n",
       "  </tbody>\n",
       "</table>\n",
       "<p>212403 rows × 2 columns</p>\n",
       "</div>"
      ],
      "text/plain": [
       "       publishedDate       date\n",
       "63778           20??        NaT\n",
       "191817          20??        NaT\n",
       "125943          20??        NaT\n",
       "98661     2030-12-31 2030-12-31\n",
       "96584           2025 2025-01-01\n",
       "...              ...        ...\n",
       "212387           NaN        NaT\n",
       "212390           NaN        NaT\n",
       "212392           NaN        NaT\n",
       "212394           NaN        NaT\n",
       "212395           NaN        NaT\n",
       "\n",
       "[212403 rows x 2 columns]"
      ]
     },
     "execution_count": 50,
     "metadata": {},
     "output_type": "execute_result"
    }
   ],
   "source": [
    "# Explore result\n",
    "full_df[['publishedDate', 'date']].sort_values(by = 'publishedDate', ascending=False)"
   ]
  },
  {
   "cell_type": "code",
   "execution_count": 51,
   "metadata": {},
   "outputs": [],
   "source": [
    "# Generate year variable\n",
    "full_df['year'] = full_df['date'].dt.year"
   ]
  },
  {
   "cell_type": "code",
   "execution_count": 52,
   "metadata": {},
   "outputs": [
    {
     "data": {
      "text/plain": [
       "Title                         24760\n",
       "description                   23718\n",
       "authors                       24430\n",
       "image                         23784\n",
       "previewLink                   24761\n",
       "publisher                     21382\n",
       "publishedDate                 24761\n",
       "infoLink                      24761\n",
       "categories                    21131\n",
       "ratingsCount                   6780\n",
       "index                         24761\n",
       "reviews number                24761\n",
       "average rating                24761\n",
       "median rating                 24761\n",
       "reviews with missing price    24761\n",
       "average price                  4697\n",
       "median price                   4697\n",
       "percentage missing prices     24761\n",
       "min review date_x             24761\n",
       "max review date_x             24761\n",
       "weighted rating               24761\n",
       "min review date_y             24761\n",
       "max review date_y             24761\n",
       "min review date               24761\n",
       "max review date               24761\n",
       "date                          24761\n",
       "year                          24761\n",
       "dtype: int64"
      ]
     },
     "execution_count": 52,
     "metadata": {},
     "output_type": "execute_result"
    }
   ],
   "source": [
    "# How many books have published date after July 2014?\n",
    "full_df[full_df['date'] >= '2014-07-31'].count()"
   ]
  },
  {
   "cell_type": "code",
   "execution_count": 53,
   "metadata": {},
   "outputs": [
    {
     "data": {
      "text/plain": [
       "<Axes: xlabel='year', ylabel='Count'>"
      ]
     },
     "execution_count": 53,
     "metadata": {},
     "output_type": "execute_result"
    },
    {
     "data": {
      "image/png": "[encoded data removed]",
      "text/plain": [
       "<Figure size 640x480 with 1 Axes>"
      ]
     },
     "metadata": {},
     "output_type": "display_data"
    }
   ],
   "source": [
    "sns.histplot(\n",
    "    data = full_df,\n",
    "    x = 'year'\n",
    ")"
   ]
  },
  {
   "cell_type": "markdown",
   "metadata": {},
   "source": [
    "### 3.2 Description\n",
    "Get description language"
   ]
  },
  {
   "cell_type": "code",
   "execution_count": 54,
   "metadata": {},
   "outputs": [],
   "source": [
    "full_df[\"description_language\"] = full_df[\"description\"].map(identify_language, na_action='ignore')"
   ]
  },
  {
   "cell_type": "code",
   "execution_count": 55,
   "metadata": {
    "scrolled": true
   },
   "outputs": [
    {
     "data": {
      "text/html": [
       "<div>\n",
       "<style scoped>\n",
       "    .dataframe tbody tr th:only-of-type {\n",
       "        vertical-align: middle;\n",
       "    }\n",
       "\n",
       "    .dataframe tbody tr th {\n",
       "        vertical-align: top;\n",
       "    }\n",
       "\n",
       "    .dataframe thead th {\n",
       "        text-align: right;\n",
       "    }\n",
       "</style>\n",
       "<table border=\"1\" class=\"dataframe\">\n",
       "  <thead>\n",
       "    <tr style=\"text-align: right;\">\n",
       "      <th></th>\n",
       "      <th>Title</th>\n",
       "      <th>description</th>\n",
       "      <th>authors</th>\n",
       "      <th>image</th>\n",
       "      <th>previewLink</th>\n",
       "      <th>publisher</th>\n",
       "      <th>publishedDate</th>\n",
       "      <th>infoLink</th>\n",
       "      <th>categories</th>\n",
       "      <th>ratingsCount</th>\n",
       "      <th>...</th>\n",
       "      <th>min review date_x</th>\n",
       "      <th>max review date_x</th>\n",
       "      <th>weighted rating</th>\n",
       "      <th>min review date_y</th>\n",
       "      <th>max review date_y</th>\n",
       "      <th>min review date</th>\n",
       "      <th>max review date</th>\n",
       "      <th>date</th>\n",
       "      <th>year</th>\n",
       "      <th>description_language</th>\n",
       "    </tr>\n",
       "  </thead>\n",
       "  <tbody>\n",
       "    <tr>\n",
       "      <th>0</th>\n",
       "      <td>Its Only Art If Its Well Hung!</td>\n",
       "      <td>NaN</td>\n",
       "      <td>['Julie Strain']</td>\n",
       "      <td>http://books.google.com/books/content?id=DykPA...</td>\n",
       "      <td>http://books.google.nl/books?id=DykPAAAACAAJ&amp;d...</td>\n",
       "      <td>NaN</td>\n",
       "      <td>1996</td>\n",
       "      <td>http://books.google.nl/books?id=DykPAAAACAAJ&amp;d...</td>\n",
       "      <td>['Comics &amp; Graphic Novels']</td>\n",
       "      <td>NaN</td>\n",
       "      <td>...</td>\n",
       "      <td>1999-10-23 00:00:00</td>\n",
       "      <td>1999-10-23</td>\n",
       "      <td>4.260690</td>\n",
       "      <td>1999-10-23 00:00:00</td>\n",
       "      <td>1999-10-23</td>\n",
       "      <td>1999-10-23 00:00:00</td>\n",
       "      <td>1999-10-23</td>\n",
       "      <td>1996-01-01</td>\n",
       "      <td>1996.0</td>\n",
       "      <td>NaN</td>\n",
       "    </tr>\n",
       "    <tr>\n",
       "      <th>1</th>\n",
       "      <td>Dr. Seuss: American Icon</td>\n",
       "      <td>Philip Nel takes a fascinating look into the k...</td>\n",
       "      <td>['Philip Nel']</td>\n",
       "      <td>http://books.google.com/books/content?id=IjvHQ...</td>\n",
       "      <td>http://books.google.nl/books?id=IjvHQsCn_pgC&amp;p...</td>\n",
       "      <td>A&amp;C Black</td>\n",
       "      <td>2005-01-01</td>\n",
       "      <td>http://books.google.nl/books?id=IjvHQsCn_pgC&amp;d...</td>\n",
       "      <td>['Biography &amp; Autobiography']</td>\n",
       "      <td>NaN</td>\n",
       "      <td>...</td>\n",
       "      <td>2004-02-10</td>\n",
       "      <td>2009-01-06</td>\n",
       "      <td>4.357840</td>\n",
       "      <td>2004-02-10</td>\n",
       "      <td>2009-01-06</td>\n",
       "      <td>2004-02-10</td>\n",
       "      <td>2009-01-06</td>\n",
       "      <td>2005-01-01</td>\n",
       "      <td>2005.0</td>\n",
       "      <td>English</td>\n",
       "    </tr>\n",
       "    <tr>\n",
       "      <th>2</th>\n",
       "      <td>Wonderful Worship in Smaller Churches</td>\n",
       "      <td>This resource includes twelve principles in un...</td>\n",
       "      <td>['David R. Ray']</td>\n",
       "      <td>http://books.google.com/books/content?id=2tsDA...</td>\n",
       "      <td>http://books.google.nl/books?id=2tsDAAAACAAJ&amp;d...</td>\n",
       "      <td>NaN</td>\n",
       "      <td>2000</td>\n",
       "      <td>http://books.google.nl/books?id=2tsDAAAACAAJ&amp;d...</td>\n",
       "      <td>['Religion']</td>\n",
       "      <td>NaN</td>\n",
       "      <td>...</td>\n",
       "      <td>2001-06-02</td>\n",
       "      <td>2010-12-08</td>\n",
       "      <td>4.389408</td>\n",
       "      <td>2001-06-02</td>\n",
       "      <td>2010-12-08</td>\n",
       "      <td>2001-06-02</td>\n",
       "      <td>2010-12-08</td>\n",
       "      <td>2000-01-01</td>\n",
       "      <td>2000.0</td>\n",
       "      <td>English</td>\n",
       "    </tr>\n",
       "    <tr>\n",
       "      <th>3</th>\n",
       "      <td>Whispers of the Wicked Saints</td>\n",
       "      <td>Julia Thomas finds her life spinning out of co...</td>\n",
       "      <td>['Veronica Haddon']</td>\n",
       "      <td>http://books.google.com/books/content?id=aRSIg...</td>\n",
       "      <td>http://books.google.nl/books?id=aRSIgJlq6JwC&amp;d...</td>\n",
       "      <td>iUniverse</td>\n",
       "      <td>2005-02</td>\n",
       "      <td>http://books.google.nl/books?id=aRSIgJlq6JwC&amp;d...</td>\n",
       "      <td>['Fiction']</td>\n",
       "      <td>NaN</td>\n",
       "      <td>...</td>\n",
       "      <td>2005-02-14</td>\n",
       "      <td>2006-07-01</td>\n",
       "      <td>3.938400</td>\n",
       "      <td>2005-02-14</td>\n",
       "      <td>2006-07-01</td>\n",
       "      <td>2005-02-14</td>\n",
       "      <td>2006-07-01</td>\n",
       "      <td>2005-02-01</td>\n",
       "      <td>2005.0</td>\n",
       "      <td>English</td>\n",
       "    </tr>\n",
       "    <tr>\n",
       "      <th>4</th>\n",
       "      <td>Nation Dance: Religion, Identity and Cultural ...</td>\n",
       "      <td>NaN</td>\n",
       "      <td>['Edward Long']</td>\n",
       "      <td>NaN</td>\n",
       "      <td>http://books.google.nl/books?id=399SPgAACAAJ&amp;d...</td>\n",
       "      <td>NaN</td>\n",
       "      <td>2003-03-01</td>\n",
       "      <td>http://books.google.nl/books?id=399SPgAACAAJ&amp;d...</td>\n",
       "      <td>NaN</td>\n",
       "      <td>NaN</td>\n",
       "      <td>...</td>\n",
       "      <td>2008-02-04</td>\n",
       "      <td>2008-02-04</td>\n",
       "      <td>4.306145</td>\n",
       "      <td>2008-02-04</td>\n",
       "      <td>2008-02-04</td>\n",
       "      <td>2008-02-04</td>\n",
       "      <td>2008-02-04</td>\n",
       "      <td>2003-03-01</td>\n",
       "      <td>2003.0</td>\n",
       "      <td>NaN</td>\n",
       "    </tr>\n",
       "  </tbody>\n",
       "</table>\n",
       "<p>5 rows × 28 columns</p>\n",
       "</div>"
      ],
      "text/plain": [
       "                                               Title  \\\n",
       "0                     Its Only Art If Its Well Hung!   \n",
       "1                           Dr. Seuss: American Icon   \n",
       "2              Wonderful Worship in Smaller Churches   \n",
       "3                      Whispers of the Wicked Saints   \n",
       "4  Nation Dance: Religion, Identity and Cultural ...   \n",
       "\n",
       "                                         description              authors  \\\n",
       "0                                                NaN     ['Julie Strain']   \n",
       "1  Philip Nel takes a fascinating look into the k...       ['Philip Nel']   \n",
       "2  This resource includes twelve principles in un...     ['David R. Ray']   \n",
       "3  Julia Thomas finds her life spinning out of co...  ['Veronica Haddon']   \n",
       "4                                                NaN      ['Edward Long']   \n",
       "\n",
       "                                               image  \\\n",
       "0  http://books.google.com/books/content?id=DykPA...   \n",
       "1  http://books.google.com/books/content?id=IjvHQ...   \n",
       "2  http://books.google.com/books/content?id=2tsDA...   \n",
       "3  http://books.google.com/books/content?id=aRSIg...   \n",
       "4                                                NaN   \n",
       "\n",
       "                                         previewLink  publisher publishedDate  \\\n",
       "0  http://books.google.nl/books?id=DykPAAAACAAJ&d...        NaN          1996   \n",
       "1  http://books.google.nl/books?id=IjvHQsCn_pgC&p...  A&C Black    2005-01-01   \n",
       "2  http://books.google.nl/books?id=2tsDAAAACAAJ&d...        NaN          2000   \n",
       "3  http://books.google.nl/books?id=aRSIgJlq6JwC&d...  iUniverse       2005-02   \n",
       "4  http://books.google.nl/books?id=399SPgAACAAJ&d...        NaN    2003-03-01   \n",
       "\n",
       "                                            infoLink  \\\n",
       "0  http://books.google.nl/books?id=DykPAAAACAAJ&d...   \n",
       "1  http://books.google.nl/books?id=IjvHQsCn_pgC&d...   \n",
       "2  http://books.google.nl/books?id=2tsDAAAACAAJ&d...   \n",
       "3  http://books.google.nl/books?id=aRSIgJlq6JwC&d...   \n",
       "4  http://books.google.nl/books?id=399SPgAACAAJ&d...   \n",
       "\n",
       "                      categories  ratingsCount  ...    min review date_x  \\\n",
       "0    ['Comics & Graphic Novels']           NaN  ...  1999-10-23 00:00:00   \n",
       "1  ['Biography & Autobiography']           NaN  ...           2004-02-10   \n",
       "2                   ['Religion']           NaN  ...           2001-06-02   \n",
       "3                    ['Fiction']           NaN  ...           2005-02-14   \n",
       "4                            NaN           NaN  ...           2008-02-04   \n",
       "\n",
       "   max review date_x  weighted rating    min review date_y  max review date_y  \\\n",
       "0         1999-10-23         4.260690  1999-10-23 00:00:00         1999-10-23   \n",
       "1         2009-01-06         4.357840           2004-02-10         2009-01-06   \n",
       "2         2010-12-08         4.389408           2001-06-02         2010-12-08   \n",
       "3         2006-07-01         3.938400           2005-02-14         2006-07-01   \n",
       "4         2008-02-04         4.306145           2008-02-04         2008-02-04   \n",
       "\n",
       "       min review date  max review date       date    year  \\\n",
       "0  1999-10-23 00:00:00       1999-10-23 1996-01-01  1996.0   \n",
       "1           2004-02-10       2009-01-06 2005-01-01  2005.0   \n",
       "2           2001-06-02       2010-12-08 2000-01-01  2000.0   \n",
       "3           2005-02-14       2006-07-01 2005-02-01  2005.0   \n",
       "4           2008-02-04       2008-02-04 2003-03-01  2003.0   \n",
       "\n",
       "  description_language  \n",
       "0                  NaN  \n",
       "1              English  \n",
       "2              English  \n",
       "3              English  \n",
       "4                  NaN  \n",
       "\n",
       "[5 rows x 28 columns]"
      ]
     },
     "execution_count": 55,
     "metadata": {},
     "output_type": "execute_result"
    }
   ],
   "source": [
    "full_df.head()"
   ]
  },
  {
   "cell_type": "code",
   "execution_count": 56,
   "metadata": {},
   "outputs": [],
   "source": [
    "# Look at how many observations we have with English descriptions\n",
    "full_df = full_df[full_df[\"description_language\"]==\"English\"]"
   ]
  },
  {
   "cell_type": "code",
   "execution_count": 57,
   "metadata": {},
   "outputs": [],
   "source": [
    "# Save dataset\n",
    "full_df.to_csv(\n",
    "    path_or_buf = os.path.join(output_folder, \"English_fiction_pre_PCA.csv\"),\n",
    "    index = False\n",
    ")"
   ]
  },
  {
   "cell_type": "markdown",
   "metadata": {
    "editable": true,
    "slideshow": {
     "slide_type": ""
    },
    "tags": []
   },
   "source": [
    "#### 4. Feature engineering"
   ]
  },
  {
   "cell_type": "markdown",
   "metadata": {},
   "source": [
    "### 3.3 Clean dataset"
   ]
  },
  {
   "cell_type": "code",
   "execution_count": 58,
   "metadata": {},
   "outputs": [
    {
     "name": "stderr",
     "output_type": "stream",
     "text": [
      "/var/folders/1z/cxkb68zj6_s08n7300y_mzm00000gn/T/ipykernel_39844/3766096247.py:3: SettingWithCopyWarning: \n",
      "A value is trying to be set on a copy of a slice from a DataFrame.\n",
      "Try using .loc[row_indexer,col_indexer] = value instead\n",
      "\n",
      "See the caveats in the documentation: https://pandas.pydata.org/pandas-docs/stable/user_guide/indexing.html#returning-a-view-versus-a-copy\n",
      "  clean_df[\"categories\"] = clean_df[\"categories\"].str.lower()\n"
     ]
    }
   ],
   "source": [
    "# Keep those rows with English description\n",
    "clean_df = full_df[full_df['categories'].notna()]\n",
    "clean_df[\"categories\"] = clean_df[\"categories\"].str.lower()"
   ]
  },
  {
   "cell_type": "code",
   "execution_count": 59,
   "metadata": {},
   "outputs": [],
   "source": [
    "# Keep fiction books\n",
    "clean_df = clean_df[clean_df['categories'].str.contains('fiction') & ~clean_df['categories'].str.contains('nonfiction')]\n",
    "clean_df = clean_df[clean_df[\"date\"].notna()]"
   ]
  },
  {
   "cell_type": "code",
   "execution_count": 60,
   "metadata": {},
   "outputs": [
    {
     "data": {
      "text/plain": [
       "categories\n",
       "['fiction']                   21795\n",
       "['juvenile fiction']           6509\n",
       "['young adult fiction']         590\n",
       "['american fiction']             67\n",
       "['fantasy fiction']              44\n",
       "                              ...  \n",
       "['bengali fiction']               1\n",
       "['colombian fiction']             1\n",
       "['suspense fiction']              1\n",
       "['argentine fiction']             1\n",
       "['latin american fiction']        1\n",
       "Name: count, Length: 79, dtype: int64"
      ]
     },
     "execution_count": 60,
     "metadata": {},
     "output_type": "execute_result"
    }
   ],
   "source": [
    "# Look at how many observations we have left\n",
    "clean_df[\"categories\"].value_counts()"
   ]
  },
  {
   "cell_type": "code",
   "execution_count": 61,
   "metadata": {},
   "outputs": [
    {
     "data": {
      "text/plain": [
       "Title                             0\n",
       "description                       0\n",
       "authors                         199\n",
       "image                           718\n",
       "previewLink                       0\n",
       "publisher                      1801\n",
       "publishedDate                     0\n",
       "infoLink                          0\n",
       "categories                        0\n",
       "ratingsCount                  13661\n",
       "index                             0\n",
       "reviews number                    0\n",
       "average rating                    0\n",
       "median rating                     0\n",
       "reviews with missing price        0\n",
       "average price                 23962\n",
       "median price                  23962\n",
       "percentage missing prices         0\n",
       "min review date_x                 0\n",
       "max review date_x                 0\n",
       "weighted rating                   0\n",
       "min review date_y                 0\n",
       "max review date_y                 0\n",
       "min review date                   0\n",
       "max review date                   0\n",
       "date                              0\n",
       "year                              0\n",
       "description_language              0\n",
       "dtype: int64"
      ]
     },
     "execution_count": 61,
     "metadata": {},
     "output_type": "execute_result"
    }
   ],
   "source": [
    "# Look at which variables still have NAs\n",
    "clean_df.isna().sum()"
   ]
  },
  {
   "cell_type": "code",
   "execution_count": 62,
   "metadata": {},
   "outputs": [],
   "source": [
    "# Remove entries with no publisher and those with no author\n",
    "clean_df = clean_df[clean_df['publisher'].notna()]\n",
    "clean_df = clean_df[clean_df['authors'].notna()]"
   ]
  },
  {
   "cell_type": "code",
   "execution_count": 63,
   "metadata": {},
   "outputs": [
    {
     "data": {
      "text/plain": [
       "Title                             0\n",
       "description                       0\n",
       "authors                           0\n",
       "image                           568\n",
       "previewLink                       0\n",
       "publisher                         0\n",
       "publishedDate                     0\n",
       "infoLink                          0\n",
       "categories                        0\n",
       "ratingsCount                  12341\n",
       "index                             0\n",
       "reviews number                    0\n",
       "average rating                    0\n",
       "median rating                     0\n",
       "reviews with missing price        0\n",
       "average price                 22483\n",
       "median price                  22483\n",
       "percentage missing prices         0\n",
       "min review date_x                 0\n",
       "max review date_x                 0\n",
       "weighted rating                   0\n",
       "min review date_y                 0\n",
       "max review date_y                 0\n",
       "min review date                   0\n",
       "max review date                   0\n",
       "date                              0\n",
       "year                              0\n",
       "description_language              0\n",
       "dtype: int64"
      ]
     },
     "execution_count": 63,
     "metadata": {},
     "output_type": "execute_result"
    }
   ],
   "source": [
    "# Look at which variables still have NAs\n",
    "clean_df.isna().sum()"
   ]
  },
  {
   "cell_type": "code",
   "execution_count": 64,
   "metadata": {},
   "outputs": [],
   "source": [
    "# Keep only those books for which we have a book cover\n",
    "clean_df = clean_df[clean_df['image'].notna()]"
   ]
  },
  {
   "cell_type": "code",
   "execution_count": 65,
   "metadata": {},
   "outputs": [
    {
     "data": {
      "text/plain": [
       "Title                             0\n",
       "description                       0\n",
       "authors                           0\n",
       "image                             0\n",
       "previewLink                       0\n",
       "publisher                         0\n",
       "publishedDate                     0\n",
       "infoLink                          0\n",
       "categories                        0\n",
       "ratingsCount                  11946\n",
       "index                             0\n",
       "reviews number                    0\n",
       "average rating                    0\n",
       "median rating                     0\n",
       "reviews with missing price        0\n",
       "average price                 21947\n",
       "median price                  21947\n",
       "percentage missing prices         0\n",
       "min review date_x                 0\n",
       "max review date_x                 0\n",
       "weighted rating                   0\n",
       "min review date_y                 0\n",
       "max review date_y                 0\n",
       "min review date                   0\n",
       "max review date                   0\n",
       "date                              0\n",
       "year                              0\n",
       "description_language              0\n",
       "dtype: int64"
      ]
     },
     "execution_count": 65,
     "metadata": {},
     "output_type": "execute_result"
    }
   ],
   "source": [
    "# Look at which variables still have NAs\n",
    "clean_df.isna().sum()"
   ]
  },
  {
   "cell_type": "code",
   "execution_count": 66,
   "metadata": {},
   "outputs": [
    {
     "data": {
      "text/plain": [
       "(26774, 28)"
      ]
     },
     "execution_count": 66,
     "metadata": {},
     "output_type": "execute_result"
    }
   ],
   "source": [
    "clean_df.shape"
   ]
  },
  {
   "cell_type": "markdown",
   "metadata": {},
   "source": [
    "We are left with 26 thousands books with no missing values for the variables of interest"
   ]
  },
  {
   "cell_type": "markdown",
   "metadata": {},
   "source": [
    "#### Save dataset"
   ]
  },
  {
   "cell_type": "code",
   "execution_count": 67,
   "metadata": {},
   "outputs": [],
   "source": [
    "# Keep only relevant columns\n",
    "clean_df = clean_df[['Title', 'description', 'authors', 'image', 'previewLink', 'publisher',\n",
    "       'infoLink', 'categories', 'index',\n",
    "       'reviews number', 'average rating', 'median rating',\n",
    "       'min review date', 'max review date',\n",
    "       'weighted rating', 'date', 'year', 'description_language']]"
   ]
  },
  {
   "cell_type": "code",
   "execution_count": 68,
   "metadata": {},
   "outputs": [],
   "source": [
    "clean_df.to_csv(\n",
    "    path_or_buf = os.path.join(output_folder, \"English_fiction_pre_PCA_3.csv\"),\n",
    "    index = False\n",
    ")"
   ]
  },
  {
   "cell_type": "code",
   "execution_count": 69,
   "metadata": {},
   "outputs": [
    {
     "data": {
      "text/plain": [
       "(26774, 18)"
      ]
     },
     "execution_count": 69,
     "metadata": {},
     "output_type": "execute_result"
    }
   ],
   "source": [
    "clean_df.shape"
   ]
  },
  {
   "cell_type": "markdown",
   "metadata": {},
   "source": [
    "## 4. Feature engineering"
   ]
  },
  {
   "cell_type": "markdown",
   "metadata": {},
   "source": [
    "### 4.1 Book description PCA"
   ]
  },
  {
   "cell_type": "code",
   "execution_count": 70,
   "metadata": {},
   "outputs": [],
   "source": [
    "#clean_df = pd.read_csv(\"English_fiction_pre_PCA_3.csv\")"
   ]
  },
  {
   "cell_type": "code",
   "execution_count": 71,
   "metadata": {},
   "outputs": [
    {
     "name": "stderr",
     "output_type": "stream",
     "text": [
      "[nltk_data] Downloading package stopwords to\n",
      "[nltk_data]     /Users/charlesrezgui/nltk_data...\n",
      "[nltk_data]   Package stopwords is already up-to-date!\n"
     ]
    },
    {
     "data": {
      "text/plain": [
       "True"
      ]
     },
     "execution_count": 71,
     "metadata": {},
     "output_type": "execute_result"
    }
   ],
   "source": [
    "import nltk\n",
    "nltk.download('stopwords')"
   ]
  },
  {
   "cell_type": "code",
   "execution_count": 72,
   "metadata": {},
   "outputs": [
    {
     "ename": "LookupError",
     "evalue": "\n**********************************************************************\n  Resource \u001b[93mpunkt\u001b[0m not found.\n  Please use the NLTK Downloader to obtain the resource:\n\n  \u001b[31m>>> import nltk\n  >>> nltk.download('punkt')\n  \u001b[0m\n  For more information see: https://www.nltk.org/data.html\n\n  Attempted to load \u001b[93mtokenizers/punkt/PY3/english.pickle\u001b[0m\n\n  Searched in:\n    - '/Users/charlesrezgui/nltk_data'\n    - '/Library/Developer/CommandLineTools/Library/Frameworks/Python3.framework/Versions/3.9/nltk_data'\n    - '/Library/Developer/CommandLineTools/Library/Frameworks/Python3.framework/Versions/3.9/share/nltk_data'\n    - '/Library/Developer/CommandLineTools/Library/Frameworks/Python3.framework/Versions/3.9/lib/nltk_data'\n    - '/usr/share/nltk_data'\n    - '/usr/local/share/nltk_data'\n    - '/usr/lib/nltk_data'\n    - '/usr/local/lib/nltk_data'\n    - ''\n**********************************************************************\n",
     "output_type": "error",
     "traceback": [
      "\u001b[0;31m---------------------------------------------------------------------------\u001b[0m",
      "\u001b[0;31mLookupError\u001b[0m                               Traceback (most recent call last)",
      "Cell \u001b[0;32mIn[72], line 2\u001b[0m\n\u001b[1;32m      1\u001b[0m \u001b[38;5;66;03m# Create bag of words\u001b[39;00m\n\u001b[0;32m----> 2\u001b[0m \u001b[43mcreate_BOW_feature_for_english_descriptions\u001b[49m\u001b[43m(\u001b[49m\u001b[43mclean_df\u001b[49m\u001b[43m,\u001b[49m\u001b[43m \u001b[49m\u001b[38;5;124;43m\"\u001b[39;49m\u001b[38;5;124;43mdescription\u001b[39;49m\u001b[38;5;124;43m\"\u001b[39;49m\u001b[43m,\u001b[49m\u001b[43m \u001b[49m\u001b[38;5;124;43m\"\u001b[39;49m\u001b[38;5;124;43menglish_BOW\u001b[39;49m\u001b[38;5;124;43m\"\u001b[39;49m\u001b[43m)\u001b[49m\n",
      "File \u001b[0;32m~/Desktop/Marghe/CodeOp/Group-project/NLP_preprocessing.py:54\u001b[0m, in \u001b[0;36mcreate_BOW_feature_for_english_descriptions\u001b[0;34m(df, input_column, output_column)\u001b[0m\n\u001b[1;32m     52\u001b[0m \u001b[38;5;28;01mfor\u001b[39;00m index, row \u001b[38;5;129;01min\u001b[39;00m df\u001b[38;5;241m.\u001b[39miterrows():\n\u001b[1;32m     53\u001b[0m     \u001b[38;5;28;01mif\u001b[39;00m row[\u001b[38;5;124m\"\u001b[39m\u001b[38;5;124mdescription_language\u001b[39m\u001b[38;5;124m\"\u001b[39m] \u001b[38;5;241m==\u001b[39m \u001b[38;5;124m\"\u001b[39m\u001b[38;5;124mEnglish\u001b[39m\u001b[38;5;124m\"\u001b[39m:\n\u001b[0;32m---> 54\u001b[0m         BOW \u001b[38;5;241m=\u001b[39m \u001b[43mcalculate_ngrams_RAKE\u001b[49m\u001b[43m(\u001b[49m\u001b[43mrow\u001b[49m\u001b[43m[\u001b[49m\u001b[43minput_column\u001b[49m\u001b[43m]\u001b[49m\u001b[43m)\u001b[49m\n\u001b[1;32m     55\u001b[0m     \u001b[38;5;28;01melse\u001b[39;00m:\n\u001b[1;32m     56\u001b[0m         BOW \u001b[38;5;241m=\u001b[39m \u001b[38;5;124m'\u001b[39m\u001b[38;5;124m'\u001b[39m\n",
      "File \u001b[0;32m~/Desktop/Marghe/CodeOp/Group-project/NLP_preprocessing.py:35\u001b[0m, in \u001b[0;36mcalculate_ngrams_RAKE\u001b[0;34m(text)\u001b[0m\n\u001b[1;32m     33\u001b[0m r_unigram \u001b[38;5;241m=\u001b[39m Rake()\n\u001b[1;32m     34\u001b[0m r_phrase \u001b[38;5;241m=\u001b[39m Rake(min_length\u001b[38;5;241m=\u001b[39m\u001b[38;5;241m2\u001b[39m, max_length\u001b[38;5;241m=\u001b[39m\u001b[38;5;241m3\u001b[39m)\n\u001b[0;32m---> 35\u001b[0m \u001b[43mr_unigram\u001b[49m\u001b[38;5;241;43m.\u001b[39;49m\u001b[43mextract_keywords_from_text\u001b[49m\u001b[43m(\u001b[49m\u001b[43mtext\u001b[49m\u001b[43m)\u001b[49m\n\u001b[1;32m     36\u001b[0m r_phrase\u001b[38;5;241m.\u001b[39mextract_keywords_from_text(text)\n\u001b[1;32m     38\u001b[0m keyword_dict_scores \u001b[38;5;241m=\u001b[39m r_unigram\u001b[38;5;241m.\u001b[39mget_word_degrees()\n",
      "File \u001b[0;32m~/Library/Python/3.9/lib/python/site-packages/rake_nltk/rake.py:126\u001b[0m, in \u001b[0;36mRake.extract_keywords_from_text\u001b[0;34m(self, text)\u001b[0m\n\u001b[1;32m    121\u001b[0m \u001b[38;5;28;01mdef\u001b[39;00m \u001b[38;5;21mextract_keywords_from_text\u001b[39m(\u001b[38;5;28mself\u001b[39m, text: \u001b[38;5;28mstr\u001b[39m):\n\u001b[1;32m    122\u001b[0m \u001b[38;5;250m    \u001b[39m\u001b[38;5;124;03m\"\"\"Method to extract keywords from the text provided.\u001b[39;00m\n\u001b[1;32m    123\u001b[0m \n\u001b[1;32m    124\u001b[0m \u001b[38;5;124;03m    :param text: Text to extract keywords from, provided as a string.\u001b[39;00m\n\u001b[1;32m    125\u001b[0m \u001b[38;5;124;03m    \"\"\"\u001b[39;00m\n\u001b[0;32m--> 126\u001b[0m     sentences: List[Sentence] \u001b[38;5;241m=\u001b[39m \u001b[38;5;28;43mself\u001b[39;49m\u001b[38;5;241;43m.\u001b[39;49m\u001b[43m_tokenize_text_to_sentences\u001b[49m\u001b[43m(\u001b[49m\u001b[43mtext\u001b[49m\u001b[43m)\u001b[49m\n\u001b[1;32m    127\u001b[0m     \u001b[38;5;28mself\u001b[39m\u001b[38;5;241m.\u001b[39mextract_keywords_from_sentences(sentences)\n",
      "File \u001b[0;32m~/Library/Python/3.9/lib/python/site-packages/rake_nltk/rake.py:180\u001b[0m, in \u001b[0;36mRake._tokenize_text_to_sentences\u001b[0;34m(self, text)\u001b[0m\n\u001b[1;32m    172\u001b[0m \u001b[38;5;28;01mdef\u001b[39;00m \u001b[38;5;21m_tokenize_text_to_sentences\u001b[39m(\u001b[38;5;28mself\u001b[39m, text: \u001b[38;5;28mstr\u001b[39m) \u001b[38;5;241m-\u001b[39m\u001b[38;5;241m>\u001b[39m List[Sentence]:\n\u001b[1;32m    173\u001b[0m \u001b[38;5;250m    \u001b[39m\u001b[38;5;124;03m\"\"\"Tokenizes the given text string into sentences using the configured\u001b[39;00m\n\u001b[1;32m    174\u001b[0m \u001b[38;5;124;03m    sentence tokenizer. Configuration uses `nltk.tokenize.sent_tokenize`\u001b[39;00m\n\u001b[1;32m    175\u001b[0m \u001b[38;5;124;03m    by default.\u001b[39;00m\n\u001b[0;32m   (...)\u001b[0m\n\u001b[1;32m    178\u001b[0m \u001b[38;5;124;03m    :return: List of sentences as per the tokenizer used.\u001b[39;00m\n\u001b[1;32m    179\u001b[0m \u001b[38;5;124;03m    \"\"\"\u001b[39;00m\n\u001b[0;32m--> 180\u001b[0m     \u001b[38;5;28;01mreturn\u001b[39;00m \u001b[38;5;28;43mself\u001b[39;49m\u001b[38;5;241;43m.\u001b[39;49m\u001b[43msentence_tokenizer\u001b[49m\u001b[43m(\u001b[49m\u001b[43mtext\u001b[49m\u001b[43m)\u001b[49m\n",
      "File \u001b[0;32m~/Library/Python/3.9/lib/python/site-packages/nltk/tokenize/__init__.py:106\u001b[0m, in \u001b[0;36msent_tokenize\u001b[0;34m(text, language)\u001b[0m\n\u001b[1;32m     96\u001b[0m \u001b[38;5;28;01mdef\u001b[39;00m \u001b[38;5;21msent_tokenize\u001b[39m(text, language\u001b[38;5;241m=\u001b[39m\u001b[38;5;124m\"\u001b[39m\u001b[38;5;124menglish\u001b[39m\u001b[38;5;124m\"\u001b[39m):\n\u001b[1;32m     97\u001b[0m \u001b[38;5;250m    \u001b[39m\u001b[38;5;124;03m\"\"\"\u001b[39;00m\n\u001b[1;32m     98\u001b[0m \u001b[38;5;124;03m    Return a sentence-tokenized copy of *text*,\u001b[39;00m\n\u001b[1;32m     99\u001b[0m \u001b[38;5;124;03m    using NLTK's recommended sentence tokenizer\u001b[39;00m\n\u001b[0;32m   (...)\u001b[0m\n\u001b[1;32m    104\u001b[0m \u001b[38;5;124;03m    :param language: the model name in the Punkt corpus\u001b[39;00m\n\u001b[1;32m    105\u001b[0m \u001b[38;5;124;03m    \"\"\"\u001b[39;00m\n\u001b[0;32m--> 106\u001b[0m     tokenizer \u001b[38;5;241m=\u001b[39m \u001b[43mload\u001b[49m\u001b[43m(\u001b[49m\u001b[38;5;124;43mf\u001b[39;49m\u001b[38;5;124;43m\"\u001b[39;49m\u001b[38;5;124;43mtokenizers/punkt/\u001b[39;49m\u001b[38;5;132;43;01m{\u001b[39;49;00m\u001b[43mlanguage\u001b[49m\u001b[38;5;132;43;01m}\u001b[39;49;00m\u001b[38;5;124;43m.pickle\u001b[39;49m\u001b[38;5;124;43m\"\u001b[39;49m\u001b[43m)\u001b[49m\n\u001b[1;32m    107\u001b[0m     \u001b[38;5;28;01mreturn\u001b[39;00m tokenizer\u001b[38;5;241m.\u001b[39mtokenize(text)\n",
      "File \u001b[0;32m~/Library/Python/3.9/lib/python/site-packages/nltk/data.py:750\u001b[0m, in \u001b[0;36mload\u001b[0;34m(resource_url, format, cache, verbose, logic_parser, fstruct_reader, encoding)\u001b[0m\n\u001b[1;32m    747\u001b[0m     \u001b[38;5;28mprint\u001b[39m(\u001b[38;5;124mf\u001b[39m\u001b[38;5;124m\"\u001b[39m\u001b[38;5;124m<<Loading \u001b[39m\u001b[38;5;132;01m{\u001b[39;00mresource_url\u001b[38;5;132;01m}\u001b[39;00m\u001b[38;5;124m>>\u001b[39m\u001b[38;5;124m\"\u001b[39m)\n\u001b[1;32m    749\u001b[0m \u001b[38;5;66;03m# Load the resource.\u001b[39;00m\n\u001b[0;32m--> 750\u001b[0m opened_resource \u001b[38;5;241m=\u001b[39m \u001b[43m_open\u001b[49m\u001b[43m(\u001b[49m\u001b[43mresource_url\u001b[49m\u001b[43m)\u001b[49m\n\u001b[1;32m    752\u001b[0m \u001b[38;5;28;01mif\u001b[39;00m \u001b[38;5;28mformat\u001b[39m \u001b[38;5;241m==\u001b[39m \u001b[38;5;124m\"\u001b[39m\u001b[38;5;124mraw\u001b[39m\u001b[38;5;124m\"\u001b[39m:\n\u001b[1;32m    753\u001b[0m     resource_val \u001b[38;5;241m=\u001b[39m opened_resource\u001b[38;5;241m.\u001b[39mread()\n",
      "File \u001b[0;32m~/Library/Python/3.9/lib/python/site-packages/nltk/data.py:876\u001b[0m, in \u001b[0;36m_open\u001b[0;34m(resource_url)\u001b[0m\n\u001b[1;32m    873\u001b[0m protocol, path_ \u001b[38;5;241m=\u001b[39m split_resource_url(resource_url)\n\u001b[1;32m    875\u001b[0m \u001b[38;5;28;01mif\u001b[39;00m protocol \u001b[38;5;129;01mis\u001b[39;00m \u001b[38;5;28;01mNone\u001b[39;00m \u001b[38;5;129;01mor\u001b[39;00m protocol\u001b[38;5;241m.\u001b[39mlower() \u001b[38;5;241m==\u001b[39m \u001b[38;5;124m\"\u001b[39m\u001b[38;5;124mnltk\u001b[39m\u001b[38;5;124m\"\u001b[39m:\n\u001b[0;32m--> 876\u001b[0m     \u001b[38;5;28;01mreturn\u001b[39;00m \u001b[43mfind\u001b[49m\u001b[43m(\u001b[49m\u001b[43mpath_\u001b[49m\u001b[43m,\u001b[49m\u001b[43m \u001b[49m\u001b[43mpath\u001b[49m\u001b[43m \u001b[49m\u001b[38;5;241;43m+\u001b[39;49m\u001b[43m \u001b[49m\u001b[43m[\u001b[49m\u001b[38;5;124;43m\"\u001b[39;49m\u001b[38;5;124;43m\"\u001b[39;49m\u001b[43m]\u001b[49m\u001b[43m)\u001b[49m\u001b[38;5;241m.\u001b[39mopen()\n\u001b[1;32m    877\u001b[0m \u001b[38;5;28;01melif\u001b[39;00m protocol\u001b[38;5;241m.\u001b[39mlower() \u001b[38;5;241m==\u001b[39m \u001b[38;5;124m\"\u001b[39m\u001b[38;5;124mfile\u001b[39m\u001b[38;5;124m\"\u001b[39m:\n\u001b[1;32m    878\u001b[0m     \u001b[38;5;66;03m# urllib might not use mode='rb', so handle this one ourselves:\u001b[39;00m\n\u001b[1;32m    879\u001b[0m     \u001b[38;5;28;01mreturn\u001b[39;00m find(path_, [\u001b[38;5;124m\"\u001b[39m\u001b[38;5;124m\"\u001b[39m])\u001b[38;5;241m.\u001b[39mopen()\n",
      "File \u001b[0;32m~/Library/Python/3.9/lib/python/site-packages/nltk/data.py:583\u001b[0m, in \u001b[0;36mfind\u001b[0;34m(resource_name, paths)\u001b[0m\n\u001b[1;32m    581\u001b[0m sep \u001b[38;5;241m=\u001b[39m \u001b[38;5;124m\"\u001b[39m\u001b[38;5;124m*\u001b[39m\u001b[38;5;124m\"\u001b[39m \u001b[38;5;241m*\u001b[39m \u001b[38;5;241m70\u001b[39m\n\u001b[1;32m    582\u001b[0m resource_not_found \u001b[38;5;241m=\u001b[39m \u001b[38;5;124mf\u001b[39m\u001b[38;5;124m\"\u001b[39m\u001b[38;5;130;01m\\n\u001b[39;00m\u001b[38;5;132;01m{\u001b[39;00msep\u001b[38;5;132;01m}\u001b[39;00m\u001b[38;5;130;01m\\n\u001b[39;00m\u001b[38;5;132;01m{\u001b[39;00mmsg\u001b[38;5;132;01m}\u001b[39;00m\u001b[38;5;130;01m\\n\u001b[39;00m\u001b[38;5;132;01m{\u001b[39;00msep\u001b[38;5;132;01m}\u001b[39;00m\u001b[38;5;130;01m\\n\u001b[39;00m\u001b[38;5;124m\"\u001b[39m\n\u001b[0;32m--> 583\u001b[0m \u001b[38;5;28;01mraise\u001b[39;00m \u001b[38;5;167;01mLookupError\u001b[39;00m(resource_not_found)\n",
      "\u001b[0;31mLookupError\u001b[0m: \n**********************************************************************\n  Resource \u001b[93mpunkt\u001b[0m not found.\n  Please use the NLTK Downloader to obtain the resource:\n\n  \u001b[31m>>> import nltk\n  >>> nltk.download('punkt')\n  \u001b[0m\n  For more information see: https://www.nltk.org/data.html\n\n  Attempted to load \u001b[93mtokenizers/punkt/PY3/english.pickle\u001b[0m\n\n  Searched in:\n    - '/Users/charlesrezgui/nltk_data'\n    - '/Library/Developer/CommandLineTools/Library/Frameworks/Python3.framework/Versions/3.9/nltk_data'\n    - '/Library/Developer/CommandLineTools/Library/Frameworks/Python3.framework/Versions/3.9/share/nltk_data'\n    - '/Library/Developer/CommandLineTools/Library/Frameworks/Python3.framework/Versions/3.9/lib/nltk_data'\n    - '/usr/share/nltk_data'\n    - '/usr/local/share/nltk_data'\n    - '/usr/lib/nltk_data'\n    - '/usr/local/lib/nltk_data'\n    - ''\n**********************************************************************\n"
     ]
    }
   ],
   "source": [
    "# Create bag of words\n",
    "create_BOW_feature_for_english_descriptions(clean_df, \"description\", \"english_BOW\")"
   ]
  },
  {
   "cell_type": "code",
   "execution_count": null,
   "metadata": {},
   "outputs": [],
   "source": [
    "pca_model = add_TFIDF_PCA_to_df(clean_df, \"english_BOW\", 0.95)"
   ]
  },
  {
   "cell_type": "markdown",
   "metadata": {},
   "source": [
    "### 4.2 Popularity\n",
    "Calculate an alternative target variable that captures the number of reviews that the book received between its publication date and when the reviews were collected (July 2014)  \n",
    "Note: this is still WIP as some publish dates are above July 2014 (and even 2024!) and the calculations don't work"
   ]
  },
  {
   "cell_type": "code",
   "execution_count": null,
   "metadata": {},
   "outputs": [],
   "source": [
    "# Create column with July 2014 date\n",
    "full_df['review_collection_date'] = pd.to_datetime('31/07/2014', format=\"%d/%m/%Y\")"
   ]
  },
  {
   "cell_type": "code",
   "execution_count": null,
   "metadata": {},
   "outputs": [],
   "source": [
    "# Calculate number of days between published date and review collection date\n",
    "#full_df['days_of_book_available'] = (full_df['review_collection_date'] - full_df['date']).dt.days"
   ]
  },
  {
   "cell_type": "code",
   "execution_count": null,
   "metadata": {},
   "outputs": [],
   "source": [
    "# Calculate number of reviews per daya\n",
    "#full_df['reviews_number_per_day'] = full_df['reviews number']/full_df['days_of_book_available']"
   ]
  }
 ],
 "metadata": {
  "kernelspec": {
   "display_name": "Python 3 (ipykernel)",
   "language": "python",
   "name": "python3"
  },
  "language_info": {
   "codemirror_mode": {
    "name": "ipython",
    "version": 3
   },
   "file_extension": ".py",
   "mimetype": "text/x-python",
   "name": "python",
   "nbconvert_exporter": "python",
   "pygments_lexer": "ipython3",
   "version": "3.9.6"
  }
 },
 "nbformat": 4,
 "nbformat_minor": 4
}
