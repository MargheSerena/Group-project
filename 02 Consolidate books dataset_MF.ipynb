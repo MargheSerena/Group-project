{
 "cells": [
  {
   "cell_type": "markdown",
   "metadata": {},
   "source": [
    "# Consolidate books dataset with information from ratings dataset"
   ]
  },
  {
   "cell_type": "markdown",
   "metadata": {},
   "source": [
    "## 0. Set up"
   ]
  },
  {
   "cell_type": "markdown",
   "metadata": {},
   "source": [
    "Libraries"
   ]
  },
  {
   "cell_type": "code",
   "execution_count": 149,
   "metadata": {},
   "outputs": [],
   "source": [
    "# pip install -r requirements.txt"
   ]
  },
  {
   "cell_type": "code",
   "execution_count": 150,
   "metadata": {},
   "outputs": [
    {
     "name": "stdout",
     "output_type": "stream",
     "text": [
      "The autoreload extension is already loaded. To reload it, use:\n",
      "  %reload_ext autoreload\n"
     ]
    }
   ],
   "source": [
    "%load_ext autoreload\n",
    "\n",
    "%autoreload 2"
   ]
  },
  {
   "cell_type": "code",
   "execution_count": 151,
   "metadata": {},
   "outputs": [],
   "source": [
    "import pandas as pd\n",
    "import os\n",
    "import numpy as np\n",
    "import seaborn as sns\n",
    "import matplotlib.pyplot as plt\n",
    "import plotly.graph_objects as go\n",
    "import plotly.express as px\n",
    "from plotly.subplots import make_subplots\n",
    "import matplotlib.ticker as mtick\n",
    "\n",
    "import re\n",
    "import datetime\n",
    "\n",
    "# EDA functions\n",
    "from EDA_functions import ratings_cleaning_steps\n",
    "from EDA_functions import folders_set_up\n",
    "from EDA_functions import books_cleaning_steps\n",
    "from NLP_preprocessing import identify_language\n",
    "\n",
    "# import requests\n",
    "# from bs4 import BeautifulSoup\n",
    "# from PIL import Image\n",
    "# from io import BytesIO"
   ]
  },
  {
   "cell_type": "markdown",
   "metadata": {},
   "source": [
    "Project folder"
   ]
  },
  {
   "cell_type": "code",
   "execution_count": 152,
   "metadata": {},
   "outputs": [],
   "source": [
    "github_folder, input_folder, output_folder = folders_set_up.generate_folders()"
   ]
  },
  {
   "cell_type": "markdown",
   "metadata": {},
   "source": [
    "## 1. Import data"
   ]
  },
  {
   "cell_type": "code",
   "execution_count": 153,
   "metadata": {},
   "outputs": [
    {
     "data": {
      "text/plain": [
       "(212404, 11)"
      ]
     },
     "execution_count": 153,
     "metadata": {},
     "output_type": "execute_result"
    }
   ],
   "source": [
    "ratings_info = pd.read_csv(os.path.join(output_folder, \"book_ratings_info.csv\"))\n",
    "ratings_info.shape"
   ]
  },
  {
   "cell_type": "code",
   "execution_count": 154,
   "metadata": {},
   "outputs": [
    {
     "data": {
      "text/html": [
       "<div>\n",
       "<style scoped>\n",
       "    .dataframe tbody tr th:only-of-type {\n",
       "        vertical-align: middle;\n",
       "    }\n",
       "\n",
       "    .dataframe tbody tr th {\n",
       "        vertical-align: top;\n",
       "    }\n",
       "\n",
       "    .dataframe thead th {\n",
       "        text-align: right;\n",
       "    }\n",
       "</style>\n",
       "<table border=\"1\" class=\"dataframe\">\n",
       "  <thead>\n",
       "    <tr style=\"text-align: right;\">\n",
       "      <th></th>\n",
       "      <th>Title</th>\n",
       "      <th>reviews number</th>\n",
       "      <th>average rating</th>\n",
       "      <th>median rating</th>\n",
       "      <th>reviews with missing price</th>\n",
       "      <th>average price</th>\n",
       "      <th>median price</th>\n",
       "      <th>percentage missing prices</th>\n",
       "      <th>min review date</th>\n",
       "      <th>max review date</th>\n",
       "      <th>weighted rating</th>\n",
       "    </tr>\n",
       "  </thead>\n",
       "  <tbody>\n",
       "    <tr>\n",
       "      <th>0</th>\n",
       "      <td>\" Film technique, \" and, \" Film acting \"</td>\n",
       "      <td>2</td>\n",
       "      <td>4.500</td>\n",
       "      <td>4.5</td>\n",
       "      <td>2.0</td>\n",
       "      <td>NaN</td>\n",
       "      <td>NaN</td>\n",
       "      <td>1.0</td>\n",
       "      <td>2000-02-05</td>\n",
       "      <td>2009-08-20</td>\n",
       "      <td>4.292834</td>\n",
       "    </tr>\n",
       "    <tr>\n",
       "      <th>1</th>\n",
       "      <td>\" We'll Always Have Paris\": The Definitive Gui...</td>\n",
       "      <td>2</td>\n",
       "      <td>5.000</td>\n",
       "      <td>5.0</td>\n",
       "      <td>2.0</td>\n",
       "      <td>NaN</td>\n",
       "      <td>NaN</td>\n",
       "      <td>1.0</td>\n",
       "      <td>2004-03-28</td>\n",
       "      <td>2007-12-27</td>\n",
       "      <td>4.336313</td>\n",
       "    </tr>\n",
       "    <tr>\n",
       "      <th>2</th>\n",
       "      <td>\"... And Poetry is Born ...\" Russian Classical...</td>\n",
       "      <td>1</td>\n",
       "      <td>4.000</td>\n",
       "      <td>4.0</td>\n",
       "      <td>1.0</td>\n",
       "      <td>NaN</td>\n",
       "      <td>NaN</td>\n",
       "      <td>1.0</td>\n",
       "      <td>2010-09-20</td>\n",
       "      <td>2010-09-20</td>\n",
       "      <td>4.260690</td>\n",
       "    </tr>\n",
       "    <tr>\n",
       "      <th>3</th>\n",
       "      <td>\"A Titanic hero\" Thomas Andrews, shipbuilder</td>\n",
       "      <td>8</td>\n",
       "      <td>4.875</td>\n",
       "      <td>5.0</td>\n",
       "      <td>8.0</td>\n",
       "      <td>NaN</td>\n",
       "      <td>NaN</td>\n",
       "      <td>1.0</td>\n",
       "      <td>1998-07-20</td>\n",
       "      <td>2000-09-25</td>\n",
       "      <td>4.439144</td>\n",
       "    </tr>\n",
       "    <tr>\n",
       "      <th>4</th>\n",
       "      <td>\"A Truthful Impression of the Country\": Britis...</td>\n",
       "      <td>1</td>\n",
       "      <td>4.000</td>\n",
       "      <td>4.0</td>\n",
       "      <td>0.0</td>\n",
       "      <td>70.27</td>\n",
       "      <td>70.27</td>\n",
       "      <td>0.0</td>\n",
       "      <td>2005-08-08</td>\n",
       "      <td>2005-08-08</td>\n",
       "      <td>4.260690</td>\n",
       "    </tr>\n",
       "  </tbody>\n",
       "</table>\n",
       "</div>"
      ],
      "text/plain": [
       "                                               Title  reviews number  \\\n",
       "0           \" Film technique, \" and, \" Film acting \"               2   \n",
       "1  \" We'll Always Have Paris\": The Definitive Gui...               2   \n",
       "2  \"... And Poetry is Born ...\" Russian Classical...               1   \n",
       "3       \"A Titanic hero\" Thomas Andrews, shipbuilder               8   \n",
       "4  \"A Truthful Impression of the Country\": Britis...               1   \n",
       "\n",
       "   average rating  median rating  reviews with missing price  average price  \\\n",
       "0           4.500            4.5                         2.0            NaN   \n",
       "1           5.000            5.0                         2.0            NaN   \n",
       "2           4.000            4.0                         1.0            NaN   \n",
       "3           4.875            5.0                         8.0            NaN   \n",
       "4           4.000            4.0                         0.0          70.27   \n",
       "\n",
       "   median price  percentage missing prices min review date max review date  \\\n",
       "0           NaN                        1.0      2000-02-05      2009-08-20   \n",
       "1           NaN                        1.0      2004-03-28      2007-12-27   \n",
       "2           NaN                        1.0      2010-09-20      2010-09-20   \n",
       "3           NaN                        1.0      1998-07-20      2000-09-25   \n",
       "4         70.27                        0.0      2005-08-08      2005-08-08   \n",
       "\n",
       "   weighted rating  \n",
       "0         4.292834  \n",
       "1         4.336313  \n",
       "2         4.260690  \n",
       "3         4.439144  \n",
       "4         4.260690  "
      ]
     },
     "execution_count": 154,
     "metadata": {},
     "output_type": "execute_result"
    }
   ],
   "source": [
    "ratings_info.head()"
   ]
  },
  {
   "cell_type": "code",
   "execution_count": 155,
   "metadata": {},
   "outputs": [
    {
     "data": {
      "text/plain": [
       "(212404, 11)"
      ]
     },
     "execution_count": 155,
     "metadata": {},
     "output_type": "execute_result"
    }
   ],
   "source": [
    "books = pd.read_csv(os.path.join(input_folder,\"books_data_with_index.csv\"))\n",
    "\n",
    "books.shape"
   ]
  },
  {
   "cell_type": "markdown",
   "metadata": {},
   "source": [
    "## 2. Merge datasets"
   ]
  },
  {
   "cell_type": "code",
   "execution_count": 156,
   "metadata": {},
   "outputs": [],
   "source": [
    "full_df = pd.merge(\n",
    "    books,\n",
    "    ratings_info,\n",
    "    on = 'Title',\n",
    "    how = 'inner'\n",
    ")"
   ]
  },
  {
   "cell_type": "code",
   "execution_count": 157,
   "metadata": {
    "scrolled": true
   },
   "outputs": [
    {
     "data": {
      "text/html": [
       "<div>\n",
       "<style scoped>\n",
       "    .dataframe tbody tr th:only-of-type {\n",
       "        vertical-align: middle;\n",
       "    }\n",
       "\n",
       "    .dataframe tbody tr th {\n",
       "        vertical-align: top;\n",
       "    }\n",
       "\n",
       "    .dataframe thead th {\n",
       "        text-align: right;\n",
       "    }\n",
       "</style>\n",
       "<table border=\"1\" class=\"dataframe\">\n",
       "  <thead>\n",
       "    <tr style=\"text-align: right;\">\n",
       "      <th></th>\n",
       "      <th>Title</th>\n",
       "      <th>description</th>\n",
       "      <th>authors</th>\n",
       "      <th>image</th>\n",
       "      <th>previewLink</th>\n",
       "      <th>publisher</th>\n",
       "      <th>publishedDate</th>\n",
       "      <th>infoLink</th>\n",
       "      <th>categories</th>\n",
       "      <th>ratingsCount</th>\n",
       "      <th>...</th>\n",
       "      <th>reviews number</th>\n",
       "      <th>average rating</th>\n",
       "      <th>median rating</th>\n",
       "      <th>reviews with missing price</th>\n",
       "      <th>average price</th>\n",
       "      <th>median price</th>\n",
       "      <th>percentage missing prices</th>\n",
       "      <th>min review date</th>\n",
       "      <th>max review date</th>\n",
       "      <th>weighted rating</th>\n",
       "    </tr>\n",
       "  </thead>\n",
       "  <tbody>\n",
       "    <tr>\n",
       "      <th>0</th>\n",
       "      <td>Its Only Art If Its Well Hung!</td>\n",
       "      <td>NaN</td>\n",
       "      <td>['Julie Strain']</td>\n",
       "      <td>http://books.google.com/books/content?id=DykPA...</td>\n",
       "      <td>http://books.google.nl/books?id=DykPAAAACAAJ&amp;d...</td>\n",
       "      <td>NaN</td>\n",
       "      <td>1996</td>\n",
       "      <td>http://books.google.nl/books?id=DykPAAAACAAJ&amp;d...</td>\n",
       "      <td>['Comics &amp; Graphic Novels']</td>\n",
       "      <td>NaN</td>\n",
       "      <td>...</td>\n",
       "      <td>1</td>\n",
       "      <td>4.000000</td>\n",
       "      <td>4.0</td>\n",
       "      <td>1.0</td>\n",
       "      <td>NaN</td>\n",
       "      <td>NaN</td>\n",
       "      <td>1.0</td>\n",
       "      <td>1999-10-23 00:00:00</td>\n",
       "      <td>1999-10-23</td>\n",
       "      <td>4.260690</td>\n",
       "    </tr>\n",
       "    <tr>\n",
       "      <th>1</th>\n",
       "      <td>Dr. Seuss: American Icon</td>\n",
       "      <td>Philip Nel takes a fascinating look into the k...</td>\n",
       "      <td>['Philip Nel']</td>\n",
       "      <td>http://books.google.com/books/content?id=IjvHQ...</td>\n",
       "      <td>http://books.google.nl/books?id=IjvHQsCn_pgC&amp;p...</td>\n",
       "      <td>A&amp;C Black</td>\n",
       "      <td>2005-01-01</td>\n",
       "      <td>http://books.google.nl/books?id=IjvHQsCn_pgC&amp;d...</td>\n",
       "      <td>['Biography &amp; Autobiography']</td>\n",
       "      <td>NaN</td>\n",
       "      <td>...</td>\n",
       "      <td>9</td>\n",
       "      <td>4.555556</td>\n",
       "      <td>5.0</td>\n",
       "      <td>9.0</td>\n",
       "      <td>NaN</td>\n",
       "      <td>NaN</td>\n",
       "      <td>1.0</td>\n",
       "      <td>2004-02-10</td>\n",
       "      <td>2009-01-06</td>\n",
       "      <td>4.357840</td>\n",
       "    </tr>\n",
       "    <tr>\n",
       "      <th>2</th>\n",
       "      <td>Wonderful Worship in Smaller Churches</td>\n",
       "      <td>This resource includes twelve principles in un...</td>\n",
       "      <td>['David R. Ray']</td>\n",
       "      <td>http://books.google.com/books/content?id=2tsDA...</td>\n",
       "      <td>http://books.google.nl/books?id=2tsDAAAACAAJ&amp;d...</td>\n",
       "      <td>NaN</td>\n",
       "      <td>2000</td>\n",
       "      <td>http://books.google.nl/books?id=2tsDAAAACAAJ&amp;d...</td>\n",
       "      <td>['Religion']</td>\n",
       "      <td>NaN</td>\n",
       "      <td>...</td>\n",
       "      <td>4</td>\n",
       "      <td>5.000000</td>\n",
       "      <td>5.0</td>\n",
       "      <td>0.0</td>\n",
       "      <td>19.40</td>\n",
       "      <td>19.40</td>\n",
       "      <td>0.0</td>\n",
       "      <td>2001-06-02</td>\n",
       "      <td>2010-12-08</td>\n",
       "      <td>4.389408</td>\n",
       "    </tr>\n",
       "    <tr>\n",
       "      <th>3</th>\n",
       "      <td>Whispers of the Wicked Saints</td>\n",
       "      <td>Julia Thomas finds her life spinning out of co...</td>\n",
       "      <td>['Veronica Haddon']</td>\n",
       "      <td>http://books.google.com/books/content?id=aRSIg...</td>\n",
       "      <td>http://books.google.nl/books?id=aRSIgJlq6JwC&amp;d...</td>\n",
       "      <td>iUniverse</td>\n",
       "      <td>2005-02</td>\n",
       "      <td>http://books.google.nl/books?id=aRSIgJlq6JwC&amp;d...</td>\n",
       "      <td>['Fiction']</td>\n",
       "      <td>NaN</td>\n",
       "      <td>...</td>\n",
       "      <td>32</td>\n",
       "      <td>3.718750</td>\n",
       "      <td>5.0</td>\n",
       "      <td>0.0</td>\n",
       "      <td>10.95</td>\n",
       "      <td>10.95</td>\n",
       "      <td>0.0</td>\n",
       "      <td>2005-02-14</td>\n",
       "      <td>2006-07-01</td>\n",
       "      <td>3.938400</td>\n",
       "    </tr>\n",
       "    <tr>\n",
       "      <th>4</th>\n",
       "      <td>Nation Dance: Religion, Identity and Cultural ...</td>\n",
       "      <td>NaN</td>\n",
       "      <td>['Edward Long']</td>\n",
       "      <td>NaN</td>\n",
       "      <td>http://books.google.nl/books?id=399SPgAACAAJ&amp;d...</td>\n",
       "      <td>NaN</td>\n",
       "      <td>2003-03-01</td>\n",
       "      <td>http://books.google.nl/books?id=399SPgAACAAJ&amp;d...</td>\n",
       "      <td>NaN</td>\n",
       "      <td>NaN</td>\n",
       "      <td>...</td>\n",
       "      <td>1</td>\n",
       "      <td>5.000000</td>\n",
       "      <td>5.0</td>\n",
       "      <td>0.0</td>\n",
       "      <td>39.95</td>\n",
       "      <td>39.95</td>\n",
       "      <td>0.0</td>\n",
       "      <td>2008-02-04 00:00:00</td>\n",
       "      <td>2008-02-04 00:00:00</td>\n",
       "      <td>4.306145</td>\n",
       "    </tr>\n",
       "  </tbody>\n",
       "</table>\n",
       "<p>5 rows × 21 columns</p>\n",
       "</div>"
      ],
      "text/plain": [
       "                                               Title  \\\n",
       "0                     Its Only Art If Its Well Hung!   \n",
       "1                           Dr. Seuss: American Icon   \n",
       "2              Wonderful Worship in Smaller Churches   \n",
       "3                      Whispers of the Wicked Saints   \n",
       "4  Nation Dance: Religion, Identity and Cultural ...   \n",
       "\n",
       "                                         description              authors  \\\n",
       "0                                                NaN     ['Julie Strain']   \n",
       "1  Philip Nel takes a fascinating look into the k...       ['Philip Nel']   \n",
       "2  This resource includes twelve principles in un...     ['David R. Ray']   \n",
       "3  Julia Thomas finds her life spinning out of co...  ['Veronica Haddon']   \n",
       "4                                                NaN      ['Edward Long']   \n",
       "\n",
       "                                               image  \\\n",
       "0  http://books.google.com/books/content?id=DykPA...   \n",
       "1  http://books.google.com/books/content?id=IjvHQ...   \n",
       "2  http://books.google.com/books/content?id=2tsDA...   \n",
       "3  http://books.google.com/books/content?id=aRSIg...   \n",
       "4                                                NaN   \n",
       "\n",
       "                                         previewLink  publisher publishedDate  \\\n",
       "0  http://books.google.nl/books?id=DykPAAAACAAJ&d...        NaN          1996   \n",
       "1  http://books.google.nl/books?id=IjvHQsCn_pgC&p...  A&C Black    2005-01-01   \n",
       "2  http://books.google.nl/books?id=2tsDAAAACAAJ&d...        NaN          2000   \n",
       "3  http://books.google.nl/books?id=aRSIgJlq6JwC&d...  iUniverse       2005-02   \n",
       "4  http://books.google.nl/books?id=399SPgAACAAJ&d...        NaN    2003-03-01   \n",
       "\n",
       "                                            infoLink  \\\n",
       "0  http://books.google.nl/books?id=DykPAAAACAAJ&d...   \n",
       "1  http://books.google.nl/books?id=IjvHQsCn_pgC&d...   \n",
       "2  http://books.google.nl/books?id=2tsDAAAACAAJ&d...   \n",
       "3  http://books.google.nl/books?id=aRSIgJlq6JwC&d...   \n",
       "4  http://books.google.nl/books?id=399SPgAACAAJ&d...   \n",
       "\n",
       "                      categories  ratingsCount  ...  reviews number  \\\n",
       "0    ['Comics & Graphic Novels']           NaN  ...               1   \n",
       "1  ['Biography & Autobiography']           NaN  ...               9   \n",
       "2                   ['Religion']           NaN  ...               4   \n",
       "3                    ['Fiction']           NaN  ...              32   \n",
       "4                            NaN           NaN  ...               1   \n",
       "\n",
       "   average rating  median rating  reviews with missing price  average price  \\\n",
       "0        4.000000            4.0                         1.0            NaN   \n",
       "1        4.555556            5.0                         9.0            NaN   \n",
       "2        5.000000            5.0                         0.0          19.40   \n",
       "3        3.718750            5.0                         0.0          10.95   \n",
       "4        5.000000            5.0                         0.0          39.95   \n",
       "\n",
       "   median price  percentage missing prices      min review date  \\\n",
       "0           NaN                        1.0  1999-10-23 00:00:00   \n",
       "1           NaN                        1.0           2004-02-10   \n",
       "2         19.40                        0.0           2001-06-02   \n",
       "3         10.95                        0.0           2005-02-14   \n",
       "4         39.95                        0.0  2008-02-04 00:00:00   \n",
       "\n",
       "       max review date weighted rating  \n",
       "0           1999-10-23        4.260690  \n",
       "1           2009-01-06        4.357840  \n",
       "2           2010-12-08        4.389408  \n",
       "3           2006-07-01        3.938400  \n",
       "4  2008-02-04 00:00:00        4.306145  \n",
       "\n",
       "[5 rows x 21 columns]"
      ]
     },
     "execution_count": 157,
     "metadata": {},
     "output_type": "execute_result"
    }
   ],
   "source": [
    "full_df.head()"
   ]
  },
  {
   "cell_type": "code",
   "execution_count": 158,
   "metadata": {},
   "outputs": [
    {
     "data": {
      "text/plain": [
       "(212404, 21)"
      ]
     },
     "execution_count": 158,
     "metadata": {},
     "output_type": "execute_result"
    }
   ],
   "source": [
    "full_df.shape"
   ]
  },
  {
   "cell_type": "markdown",
   "metadata": {},
   "source": [
    "## 3. Clean dataset"
   ]
  },
  {
   "cell_type": "markdown",
   "metadata": {},
   "source": [
    "### 3.1 Published date\n",
    "This variable presents different issues:\n",
    "- Date is recorded as yyyy or dd-mm-yyyy format. Therefore it is not possible to directly convert Published date into a datetime.\n",
    "- Some entries contain unclear year, such as \"19??\"\n",
    "- Some dates are missing\n",
    "\n",
    "Below we first apply a function which converts into dates based on the format (yyyy, yyyy-mm-dd or yyyy-mm-dd). Missing values are dropped."
   ]
  },
  {
   "cell_type": "markdown",
   "metadata": {},
   "source": [
    "#### 3.1.1 Explore column"
   ]
  },
  {
   "cell_type": "code",
   "execution_count": 159,
   "metadata": {},
   "outputs": [
    {
     "name": "stdout",
     "output_type": "stream",
     "text": [
      "Number of books with NA date: 25,305\n"
     ]
    }
   ],
   "source": [
    "print(f\"Number of books with NA date: {full_df['publishedDate'].isna().sum():,}\")"
   ]
  },
  {
   "cell_type": "code",
   "execution_count": 160,
   "metadata": {},
   "outputs": [
    {
     "name": "stdout",
     "output_type": "stream",
     "text": [
      "Number of books with unclear date (e.g. 19??):\n",
      "128\n"
     ]
    }
   ],
   "source": [
    "print(\"Number of books with unclear date (e.g. 19??):\")\n",
    "print(full_df['publishedDate'].astype(str).str.contains('\\?', na=False).sum())"
   ]
  },
  {
   "cell_type": "code",
   "execution_count": 161,
   "metadata": {},
   "outputs": [
    {
     "data": {
      "text/plain": [
       "0.1197387996459577"
      ]
     },
     "execution_count": 161,
     "metadata": {},
     "output_type": "execute_result"
    }
   ],
   "source": [
    "# % of books with unclear date\n",
    "(full_df['publishedDate'].isna().sum() + full_df['publishedDate'].astype(str).str.contains('\\?', na=False).sum())/full_df.shape[0]"
   ]
  },
  {
   "cell_type": "code",
   "execution_count": 162,
   "metadata": {},
   "outputs": [
    {
     "data": {
      "text/plain": [
       "157800     101-01-01\n",
       "205865     101-01-01\n",
       "160025     101-01-01\n",
       "117218     101-01-01\n",
       "56069      101-01-01\n",
       "             ...    \n",
       "96585           2025\n",
       "98662     2030-12-31\n",
       "191818          20??\n",
       "63779           20??\n",
       "125944          20??\n",
       "Name: publishedDate, Length: 187099, dtype: object"
      ]
     },
     "execution_count": 162,
     "metadata": {},
     "output_type": "execute_result"
    }
   ],
   "source": [
    "# Inspect date for non missing values\n",
    "full_df[~full_df['publishedDate'].isna()]['publishedDate'].sort_values()"
   ]
  },
  {
   "cell_type": "markdown",
   "metadata": {},
   "source": [
    "#### 3.1.2 Apply function for extract year"
   ]
  },
  {
   "cell_type": "code",
   "execution_count": 163,
   "metadata": {},
   "outputs": [],
   "source": [
    "# Apply function\n",
    "full_df['date'] = full_df['publishedDate'].apply(books_cleaning_steps.datetime_conversion)"
   ]
  },
  {
   "cell_type": "code",
   "execution_count": 164,
   "metadata": {},
   "outputs": [
    {
     "data": {
      "text/html": [
       "<div>\n",
       "<style scoped>\n",
       "    .dataframe tbody tr th:only-of-type {\n",
       "        vertical-align: middle;\n",
       "    }\n",
       "\n",
       "    .dataframe tbody tr th {\n",
       "        vertical-align: top;\n",
       "    }\n",
       "\n",
       "    .dataframe thead th {\n",
       "        text-align: right;\n",
       "    }\n",
       "</style>\n",
       "<table border=\"1\" class=\"dataframe\">\n",
       "  <thead>\n",
       "    <tr style=\"text-align: right;\">\n",
       "      <th></th>\n",
       "      <th>publishedDate</th>\n",
       "      <th>date</th>\n",
       "    </tr>\n",
       "  </thead>\n",
       "  <tbody>\n",
       "    <tr>\n",
       "      <th>63779</th>\n",
       "      <td>20??</td>\n",
       "      <td>NaT</td>\n",
       "    </tr>\n",
       "    <tr>\n",
       "      <th>191818</th>\n",
       "      <td>20??</td>\n",
       "      <td>NaT</td>\n",
       "    </tr>\n",
       "    <tr>\n",
       "      <th>125944</th>\n",
       "      <td>20??</td>\n",
       "      <td>NaT</td>\n",
       "    </tr>\n",
       "    <tr>\n",
       "      <th>98662</th>\n",
       "      <td>2030-12-31</td>\n",
       "      <td>2030-12-31</td>\n",
       "    </tr>\n",
       "    <tr>\n",
       "      <th>146995</th>\n",
       "      <td>2025</td>\n",
       "      <td>2025-01-01</td>\n",
       "    </tr>\n",
       "    <tr>\n",
       "      <th>...</th>\n",
       "      <td>...</td>\n",
       "      <td>...</td>\n",
       "    </tr>\n",
       "    <tr>\n",
       "      <th>212388</th>\n",
       "      <td>NaN</td>\n",
       "      <td>NaT</td>\n",
       "    </tr>\n",
       "    <tr>\n",
       "      <th>212391</th>\n",
       "      <td>NaN</td>\n",
       "      <td>NaT</td>\n",
       "    </tr>\n",
       "    <tr>\n",
       "      <th>212393</th>\n",
       "      <td>NaN</td>\n",
       "      <td>NaT</td>\n",
       "    </tr>\n",
       "    <tr>\n",
       "      <th>212395</th>\n",
       "      <td>NaN</td>\n",
       "      <td>NaT</td>\n",
       "    </tr>\n",
       "    <tr>\n",
       "      <th>212396</th>\n",
       "      <td>NaN</td>\n",
       "      <td>NaT</td>\n",
       "    </tr>\n",
       "  </tbody>\n",
       "</table>\n",
       "<p>212404 rows × 2 columns</p>\n",
       "</div>"
      ],
      "text/plain": [
       "       publishedDate       date\n",
       "63779           20??        NaT\n",
       "191818          20??        NaT\n",
       "125944          20??        NaT\n",
       "98662     2030-12-31 2030-12-31\n",
       "146995          2025 2025-01-01\n",
       "...              ...        ...\n",
       "212388           NaN        NaT\n",
       "212391           NaN        NaT\n",
       "212393           NaN        NaT\n",
       "212395           NaN        NaT\n",
       "212396           NaN        NaT\n",
       "\n",
       "[212404 rows x 2 columns]"
      ]
     },
     "execution_count": 164,
     "metadata": {},
     "output_type": "execute_result"
    }
   ],
   "source": [
    "# Explore result\n",
    "full_df[['publishedDate', 'date']].sort_values(by = 'publishedDate', ascending=False)"
   ]
  },
  {
   "cell_type": "code",
   "execution_count": 165,
   "metadata": {},
   "outputs": [],
   "source": [
    "# Generate year variable\n",
    "full_df['year'] = full_df['date'].dt.year"
   ]
  },
  {
   "cell_type": "code",
   "execution_count": 166,
   "metadata": {},
   "outputs": [
    {
     "data": {
      "text/plain": [
       "Title                         24760\n",
       "description                   23718\n",
       "authors                       24430\n",
       "image                         23784\n",
       "previewLink                   24761\n",
       "publisher                     21382\n",
       "publishedDate                 24761\n",
       "infoLink                      24761\n",
       "categories                    21131\n",
       "ratingsCount                   6780\n",
       "index                         24761\n",
       "reviews number                24761\n",
       "average rating                24761\n",
       "median rating                 24761\n",
       "reviews with missing price    24761\n",
       "average price                  4697\n",
       "median price                   4697\n",
       "percentage missing prices     24761\n",
       "min review date               24761\n",
       "max review date               24761\n",
       "weighted rating               24761\n",
       "date                          24761\n",
       "year                          24761\n",
       "dtype: int64"
      ]
     },
     "execution_count": 166,
     "metadata": {},
     "output_type": "execute_result"
    }
   ],
   "source": [
    "# How many books have published date after July 2014?\n",
    "full_df[full_df['date'] >= '2014-07-31'].count()"
   ]
  },
  {
   "cell_type": "code",
   "execution_count": 167,
   "metadata": {},
   "outputs": [
    {
     "data": {
      "image/png": "[encoded data removed]",
      "text/plain": [
       "<Figure size 1500x600 with 1 Axes>"
      ]
     },
     "metadata": {},
     "output_type": "display_data"
    }
   ],
   "source": [
    "# Set style to darkgrid\n",
    "sns.set_style(\"darkgrid\")\n",
    "\n",
    "# Draw histogram using Seaborn\n",
    "plt.figure(\n",
    "    figsize = (15, 6))\n",
    "\n",
    "sns.histplot(\n",
    "    data = full_df,\n",
    "    x = 'year'\n",
    ")\n",
    "\n",
    "plt.xlabel('Year')\n",
    "plt.ylabel('Number of titles')\n",
    "plt.title('Books distribution by year', size = 20)\n",
    "\n",
    "# Get the current axis\n",
    "ax = plt.gca()\n",
    "\n",
    "# Apply thousand separator to y-axis ticks\n",
    "ax.yaxis.set_major_formatter(mtick.FuncFormatter(lambda x, _: '{:,.0f}'.format(x)))\n",
    "\n",
    "plt.savefig(os.path.join(output_folder, 'Charts', '02 Published date.png'))"
   ]
  },
  {
   "cell_type": "code",
   "execution_count": 168,
   "metadata": {},
   "outputs": [
    {
     "data": {
      "text/plain": [
       "2002.0"
      ]
     },
     "execution_count": 168,
     "metadata": {},
     "output_type": "execute_result"
    }
   ],
   "source": [
    "full_df['year'].median()"
   ]
  },
  {
   "cell_type": "markdown",
   "metadata": {},
   "source": [
    "### 3.2 Categories"
   ]
  },
  {
   "cell_type": "code",
   "execution_count": 169,
   "metadata": {},
   "outputs": [
    {
     "data": {
      "text/plain": [
       "10883"
      ]
     },
     "execution_count": 169,
     "metadata": {},
     "output_type": "execute_result"
    }
   ],
   "source": [
    "full_df['categories'].nunique()"
   ]
  },
  {
   "cell_type": "markdown",
   "metadata": {},
   "source": [
    "### 3.3 Description\n",
    "Get description language"
   ]
  },
  {
   "cell_type": "code",
   "execution_count": 170,
   "metadata": {},
   "outputs": [],
   "source": [
    "full_df[\"description_language\"] = full_df[\"description\"].map(identify_language, na_action='ignore')"
   ]
  },
  {
   "cell_type": "code",
   "execution_count": 171,
   "metadata": {},
   "outputs": [
    {
     "name": "stdout",
     "output_type": "stream",
     "text": [
      "Description in English: 141755\n",
      "Description not in English: 70649\n"
     ]
    }
   ],
   "source": [
    "print(f'Description in English: {full_df[full_df[\"description_language\"]==\"English\"][\"description_language\"].count()}')\n",
    "print(f'Description not in English: {full_df[full_df[\"description_language\"]!=\"English\"][\"index\"].count()}')"
   ]
  },
  {
   "cell_type": "code",
   "execution_count": 172,
   "metadata": {},
   "outputs": [
    {
     "name": "stdout",
     "output_type": "stream",
     "text": [
      "Total after cleaning: 141755\n"
     ]
    }
   ],
   "source": [
    "# Keep books with english description\n",
    "full_df = full_df[full_df[\"description_language\"]==\"English\"]\n",
    "print(f\"Total after cleaning: {full_df.shape[0]}\")"
   ]
  },
  {
   "cell_type": "code",
   "execution_count": 173,
   "metadata": {},
   "outputs": [],
   "source": [
    "# Save dataset\n",
    "full_df.to_csv(\n",
    "    path_or_buf = os.path.join(output_folder, \"English_fiction_pre_PCA.csv\"),\n",
    "    index = False\n",
    ")"
   ]
  },
  {
   "cell_type": "markdown",
   "metadata": {},
   "source": [
    "### 3.4 Clean dataset"
   ]
  },
  {
   "cell_type": "markdown",
   "metadata": {},
   "source": [
    "##### Categories"
   ]
  },
  {
   "cell_type": "code",
   "execution_count": 174,
   "metadata": {},
   "outputs": [
    {
     "name": "stdout",
     "output_type": "stream",
     "text": [
      "NA categories 135982\n",
      "Non NA categories 5773\n"
     ]
    }
   ],
   "source": [
    "# Get initial numbers\n",
    "print(f\"NA categories {full_df[full_df['categories'].notna()]['categories'].count()}\")\n",
    "print(f\"Non NA categories {full_df[full_df['categories'].isna()]['index'].count()}\")"
   ]
  },
  {
   "cell_type": "code",
   "execution_count": 175,
   "metadata": {},
   "outputs": [
    {
     "name": "stdout",
     "output_type": "stream",
     "text": [
      "Total after cleaning: 135982\n"
     ]
    },
    {
     "name": "stderr",
     "output_type": "stream",
     "text": [
      "/var/folders/1z/cxkb68zj6_s08n7300y_mzm00000gn/T/ipykernel_1632/1018592307.py:4: SettingWithCopyWarning: \n",
      "A value is trying to be set on a copy of a slice from a DataFrame.\n",
      "Try using .loc[row_indexer,col_indexer] = value instead\n",
      "\n",
      "See the caveats in the documentation: https://pandas.pydata.org/pandas-docs/stable/user_guide/indexing.html#returning-a-view-versus-a-copy\n",
      "  clean_df[\"categories\"] = clean_df[\"categories\"].str.lower()\n"
     ]
    }
   ],
   "source": [
    "# Keep those rows with English description\n",
    "clean_df = full_df[full_df['categories'].notna()]\n",
    "\n",
    "clean_df[\"categories\"] = clean_df[\"categories\"].str.lower()\n",
    "\n",
    "print(f\"Total after cleaning: {clean_df.shape[0]}\")"
   ]
  },
  {
   "cell_type": "code",
   "execution_count": 176,
   "metadata": {},
   "outputs": [
    {
     "name": "stdout",
     "output_type": "stream",
     "text": [
      "Fiction books: 29412\n",
      "Non-ction books: 106570\n"
     ]
    }
   ],
   "source": [
    "# Get initial numbers\n",
    "print(f\"Fiction books: {clean_df[clean_df['categories'].str.contains('fiction') & ~clean_df['categories'].str.contains('nonfiction')]['index'].count()}\")\n",
    "print(f\"Non-ction books: {clean_df[~(clean_df['categories'].str.contains('fiction') & ~clean_df['categories'].str.contains('nonfiction'))]['index'].count()}\")"
   ]
  },
  {
   "cell_type": "code",
   "execution_count": 177,
   "metadata": {},
   "outputs": [
    {
     "name": "stdout",
     "output_type": "stream",
     "text": [
      "Total after cleaning: 29412\n"
     ]
    }
   ],
   "source": [
    "# Keep fiction books\n",
    "clean_df = clean_df[clean_df['categories'].str.contains('fiction') & ~clean_df['categories'].str.contains('nonfiction')]\n",
    "print(f\"Total after cleaning: {clean_df.shape[0]}\")"
   ]
  },
  {
   "cell_type": "markdown",
   "metadata": {},
   "source": [
    "#### Date"
   ]
  },
  {
   "cell_type": "code",
   "execution_count": 178,
   "metadata": {},
   "outputs": [
    {
     "name": "stdout",
     "output_type": "stream",
     "text": [
      "Books with no date: 29313\n",
      "Books with no date: 99\n"
     ]
    }
   ],
   "source": [
    "# Get initial numbers\n",
    "print(f\"Books with no date: {clean_df[clean_df['date'].notna()]['index'].count()}\")\n",
    "print(f\"Books with no date: {clean_df[clean_df['date'].isna()]['index'].count()}\")"
   ]
  },
  {
   "cell_type": "code",
   "execution_count": 179,
   "metadata": {},
   "outputs": [
    {
     "name": "stdout",
     "output_type": "stream",
     "text": [
      "Total after cleaning: 29313\n"
     ]
    }
   ],
   "source": [
    "clean_df = clean_df[clean_df[\"date\"].notna()]\n",
    "print(f\"Total after cleaning: {clean_df.shape[0]}\")"
   ]
  },
  {
   "cell_type": "code",
   "execution_count": 180,
   "metadata": {},
   "outputs": [
    {
     "data": {
      "text/plain": [
       "categories\n",
       "['fiction']                   21795\n",
       "['juvenile fiction']           6509\n",
       "['young adult fiction']         590\n",
       "['american fiction']             67\n",
       "['fantasy fiction']              44\n",
       "                              ...  \n",
       "['bengali fiction']               1\n",
       "['colombian fiction']             1\n",
       "['suspense fiction']              1\n",
       "['argentine fiction']             1\n",
       "['latin american fiction']        1\n",
       "Name: count, Length: 79, dtype: int64"
      ]
     },
     "execution_count": 180,
     "metadata": {},
     "output_type": "execute_result"
    }
   ],
   "source": [
    "# Look at how many observations we have left\n",
    "clean_df[\"categories\"].value_counts()"
   ]
  },
  {
   "cell_type": "code",
   "execution_count": 181,
   "metadata": {},
   "outputs": [
    {
     "data": {
      "text/plain": [
       "Title                             0\n",
       "description                       0\n",
       "authors                         199\n",
       "image                           718\n",
       "previewLink                       0\n",
       "publisher                      1801\n",
       "publishedDate                     0\n",
       "infoLink                          0\n",
       "categories                        0\n",
       "ratingsCount                  13661\n",
       "index                             0\n",
       "reviews number                    0\n",
       "average rating                    0\n",
       "median rating                     0\n",
       "reviews with missing price        0\n",
       "average price                 23962\n",
       "median price                  23962\n",
       "percentage missing prices         0\n",
       "min review date                   0\n",
       "max review date                   0\n",
       "weighted rating                   0\n",
       "date                              0\n",
       "year                              0\n",
       "description_language              0\n",
       "dtype: int64"
      ]
     },
     "execution_count": 181,
     "metadata": {},
     "output_type": "execute_result"
    }
   ],
   "source": [
    "# Look at which variables still have NAs\n",
    "clean_df.isna().sum()"
   ]
  },
  {
   "cell_type": "markdown",
   "metadata": {},
   "source": [
    "#### Author"
   ]
  },
  {
   "cell_type": "code",
   "execution_count": 182,
   "metadata": {},
   "outputs": [
    {
     "name": "stdout",
     "output_type": "stream",
     "text": [
      "Books with no author: 199\n",
      "Books with author: 29114\n"
     ]
    }
   ],
   "source": [
    "# Get initial numbers\n",
    "print(f\"Books with no author: {clean_df[clean_df['authors'].isna()]['index'].count()}\")\n",
    "print(f\"Books with author: {clean_df[clean_df['authors'].notna()]['index'].count()}\")"
   ]
  },
  {
   "cell_type": "code",
   "execution_count": 183,
   "metadata": {},
   "outputs": [
    {
     "name": "stdout",
     "output_type": "stream",
     "text": [
      "Total after cleaning: 29114\n"
     ]
    }
   ],
   "source": [
    "# Remove entries with no publisher and those with no author\n",
    "clean_df = clean_df[clean_df['authors'].notna()]\n",
    "print(f\"Total after cleaning: {clean_df.shape[0]}\")"
   ]
  },
  {
   "cell_type": "code",
   "execution_count": 184,
   "metadata": {},
   "outputs": [
    {
     "data": {
      "text/plain": [
       "Title                             0\n",
       "description                       0\n",
       "authors                           0\n",
       "image                           718\n",
       "previewLink                       0\n",
       "publisher                      1772\n",
       "publishedDate                     0\n",
       "infoLink                          0\n",
       "categories                        0\n",
       "ratingsCount                  13563\n",
       "index                             0\n",
       "reviews number                    0\n",
       "average rating                    0\n",
       "median rating                     0\n",
       "reviews with missing price        0\n",
       "average price                 23793\n",
       "median price                  23793\n",
       "percentage missing prices         0\n",
       "min review date                   0\n",
       "max review date                   0\n",
       "weighted rating                   0\n",
       "date                              0\n",
       "year                              0\n",
       "description_language              0\n",
       "dtype: int64"
      ]
     },
     "execution_count": 184,
     "metadata": {},
     "output_type": "execute_result"
    }
   ],
   "source": [
    "# Look at which variables still have NAs\n",
    "clean_df.isna().sum()"
   ]
  },
  {
   "cell_type": "markdown",
   "metadata": {},
   "source": [
    "#### Publisher"
   ]
  },
  {
   "cell_type": "code",
   "execution_count": 185,
   "metadata": {},
   "outputs": [
    {
     "name": "stdout",
     "output_type": "stream",
     "text": [
      "Books with no publisher: 1772\n",
      "Books with publisher: 27342\n"
     ]
    }
   ],
   "source": [
    "# Get initial numbers\n",
    "print(f\"Books with no publisher: {clean_df[clean_df['publisher'].isna()]['index'].count()}\")\n",
    "print(f\"Books with publisher: {clean_df[clean_df['publisher'].notna()]['index'].count()}\")"
   ]
  },
  {
   "cell_type": "code",
   "execution_count": 186,
   "metadata": {},
   "outputs": [
    {
     "name": "stdout",
     "output_type": "stream",
     "text": [
      "Total after cleaning: 27342\n"
     ]
    }
   ],
   "source": [
    "# Remove entries with no publisher and those with no author\n",
    "clean_df = clean_df[clean_df['publisher'].notna()]\n",
    "print(f\"Total after cleaning: {clean_df.shape[0]}\")"
   ]
  },
  {
   "cell_type": "markdown",
   "metadata": {},
   "source": [
    "#### Image"
   ]
  },
  {
   "cell_type": "code",
   "execution_count": 189,
   "metadata": {},
   "outputs": [
    {
     "name": "stdout",
     "output_type": "stream",
     "text": [
      "Books with image: 26774\n",
      "Books with no image: 568\n"
     ]
    }
   ],
   "source": [
    "# Get initial numbers\n",
    "print(f\"Books with image: {clean_df[clean_df['image'].notna()]['index'].count()}\")\n",
    "print(f\"Books with no image: {clean_df[clean_df['image'].isna()]['index'].count()}\")"
   ]
  },
  {
   "cell_type": "code",
   "execution_count": 190,
   "metadata": {},
   "outputs": [
    {
     "name": "stdout",
     "output_type": "stream",
     "text": [
      "Total after cleaning: 26774\n"
     ]
    }
   ],
   "source": [
    "# Keep only those books for which we have a book cover\n",
    "clean_df = clean_df[clean_df['image'].notna()]\n",
    "print(f\"Total after cleaning: {clean_df.shape[0]}\")"
   ]
  },
  {
   "cell_type": "code",
   "execution_count": 187,
   "metadata": {},
   "outputs": [
    {
     "data": {
      "text/plain": [
       "Title                             0\n",
       "description                       0\n",
       "authors                           0\n",
       "image                           568\n",
       "previewLink                       0\n",
       "publisher                         0\n",
       "publishedDate                     0\n",
       "infoLink                          0\n",
       "categories                        0\n",
       "ratingsCount                  12341\n",
       "index                             0\n",
       "reviews number                    0\n",
       "average rating                    0\n",
       "median rating                     0\n",
       "reviews with missing price        0\n",
       "average price                 22483\n",
       "median price                  22483\n",
       "percentage missing prices         0\n",
       "min review date                   0\n",
       "max review date                   0\n",
       "weighted rating                   0\n",
       "date                              0\n",
       "year                              0\n",
       "description_language              0\n",
       "dtype: int64"
      ]
     },
     "execution_count": 187,
     "metadata": {},
     "output_type": "execute_result"
    }
   ],
   "source": [
    "# Look at which variables still have NAs\n",
    "clean_df.isna().sum()"
   ]
  },
  {
   "cell_type": "code",
   "execution_count": 188,
   "metadata": {},
   "outputs": [
    {
     "data": {
      "text/plain": [
       "(27342, 24)"
      ]
     },
     "execution_count": 188,
     "metadata": {},
     "output_type": "execute_result"
    }
   ],
   "source": [
    "clean_df.shape"
   ]
  },
  {
   "cell_type": "markdown",
   "metadata": {},
   "source": [
    "We are left with 26 thousands books with no missing values for the variables of interest"
   ]
  },
  {
   "cell_type": "markdown",
   "metadata": {},
   "source": [
    "#### Save dataset"
   ]
  },
  {
   "cell_type": "code",
   "execution_count": null,
   "metadata": {},
   "outputs": [],
   "source": [
    "# Keep only relevant columns\n",
    "clean_df = clean_df[['Title', 'description', 'authors', 'image', 'previewLink', 'publisher',\n",
    "       'infoLink', 'categories', 'index',\n",
    "       'reviews number', 'average rating', 'median rating',\n",
    "       'min review date', 'max review date',\n",
    "       'weighted rating', 'date', 'year', 'description_language']]"
   ]
  },
  {
   "cell_type": "code",
   "execution_count": null,
   "metadata": {},
   "outputs": [],
   "source": [
    "clean_df.to_csv(\n",
    "    path_or_buf = os.path.join(output_folder, \"English_fiction_pre_PCA_3.csv\"),\n",
    "    index = False\n",
    ")"
   ]
  },
  {
   "cell_type": "code",
   "execution_count": null,
   "metadata": {},
   "outputs": [],
   "source": [
    "clean_df.shape"
   ]
  },
  {
   "cell_type": "markdown",
   "metadata": {},
   "source": [
    "## 4. Feature engineering"
   ]
  },
  {
   "cell_type": "markdown",
   "metadata": {},
   "source": [
    "### 4.1 Book description PCA"
   ]
  },
  {
   "cell_type": "code",
   "execution_count": null,
   "metadata": {},
   "outputs": [],
   "source": [
    "#clean_df = pd.read_csv(\"English_fiction_pre_PCA_3.csv\")"
   ]
  },
  {
   "cell_type": "code",
   "execution_count": null,
   "metadata": {},
   "outputs": [],
   "source": [
    "import nltk\n",
    "nltk.download('stopwords')"
   ]
  },
  {
   "cell_type": "code",
   "execution_count": null,
   "metadata": {},
   "outputs": [],
   "source": [
    "# Create bag of words\n",
    "#create_BOW_feature_for_english_descriptions(clean_df, \"description\", \"english_BOW\")"
   ]
  },
  {
   "cell_type": "code",
   "execution_count": null,
   "metadata": {},
   "outputs": [],
   "source": [
    "#pca_model = add_TFIDF_PCA_to_df(clean_df, \"english_BOW\", 0.95)"
   ]
  },
  {
   "cell_type": "markdown",
   "metadata": {},
   "source": [
    "### 4.2 Popularity\n",
    "Calculate an alternative target variable that captures the number of reviews that the book received between its publication date and when the reviews were collected (July 2014)  \n",
    "Note: this is still WIP as some publish dates are above July 2014 (and even 2024!) and the calculations don't work"
   ]
  },
  {
   "cell_type": "code",
   "execution_count": null,
   "metadata": {},
   "outputs": [],
   "source": [
    "# Create column with July 2014 date\n",
    "full_df['review_collection_date'] = pd.to_datetime('31/07/2014', format=\"%d/%m/%Y\")"
   ]
  },
  {
   "cell_type": "code",
   "execution_count": null,
   "metadata": {},
   "outputs": [],
   "source": [
    "# Calculate number of days between published date and review collection date\n",
    "#full_df['days_of_book_available'] = (full_df['review_collection_date'] - full_df['date']).dt.days"
   ]
  },
  {
   "cell_type": "code",
   "execution_count": null,
   "metadata": {},
   "outputs": [],
   "source": [
    "# Calculate number of reviews per daya\n",
    "#full_df['reviews_number_per_day'] = full_df['reviews number']/full_df['days_of_book_available']"
   ]
  }
 ],
 "metadata": {
  "kernelspec": {
   "display_name": "Python 3 (ipykernel)",
   "language": "python",
   "name": "python3"
  },
  "language_info": {
   "codemirror_mode": {
    "name": "ipython",
    "version": 3
   },
   "file_extension": ".py",
   "mimetype": "text/x-python",
   "name": "python",
   "nbconvert_exporter": "python",
   "pygments_lexer": "ipython3",
   "version": "3.9.6"
  }
 },
 "nbformat": 4,
 "nbformat_minor": 4
}
