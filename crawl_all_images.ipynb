{
 "cells": [
  {
   "cell_type": "code",
   "execution_count": 1,
   "id": "25ac7aeb-526c-4f60-a1a0-df140164603c",
   "metadata": {
    "tags": []
   },
   "outputs": [],
   "source": [
    "import pandas as pd\n",
    "import requests\n",
    "from bs4 import BeautifulSoup\n",
    "from PIL import Image\n",
    "from io import BytesIO\n",
    "import os"
   ]
  },
  {
   "cell_type": "code",
   "execution_count": 2,
   "id": "f9ffa1b7-0ada-4032-85d6-07c233306058",
   "metadata": {
    "tags": []
   },
   "outputs": [],
   "source": [
    "amz_books = pd.read_csv('books_data_with_index.csv')"
   ]
  },
  {
   "cell_type": "code",
   "execution_count": 3,
   "id": "813a06ea-37ff-432f-8964-91bbb592293f",
   "metadata": {
    "tags": []
   },
   "outputs": [
    {
     "data": {
      "text/html": [
       "<div>\n",
       "<style scoped>\n",
       "    .dataframe tbody tr th:only-of-type {\n",
       "        vertical-align: middle;\n",
       "    }\n",
       "\n",
       "    .dataframe tbody tr th {\n",
       "        vertical-align: top;\n",
       "    }\n",
       "\n",
       "    .dataframe thead th {\n",
       "        text-align: right;\n",
       "    }\n",
       "</style>\n",
       "<table border=\"1\" class=\"dataframe\">\n",
       "  <thead>\n",
       "    <tr style=\"text-align: right;\">\n",
       "      <th></th>\n",
       "      <th>Title</th>\n",
       "      <th>description</th>\n",
       "      <th>authors</th>\n",
       "      <th>image</th>\n",
       "      <th>previewLink</th>\n",
       "      <th>publisher</th>\n",
       "      <th>publishedDate</th>\n",
       "      <th>infoLink</th>\n",
       "      <th>categories</th>\n",
       "      <th>ratingsCount</th>\n",
       "      <th>index</th>\n",
       "    </tr>\n",
       "  </thead>\n",
       "  <tbody>\n",
       "    <tr>\n",
       "      <th>0</th>\n",
       "      <td>Its Only Art If Its Well Hung!</td>\n",
       "      <td>NaN</td>\n",
       "      <td>['Julie Strain']</td>\n",
       "      <td>http://books.google.com/books/content?id=DykPA...</td>\n",
       "      <td>http://books.google.nl/books?id=DykPAAAACAAJ&amp;d...</td>\n",
       "      <td>NaN</td>\n",
       "      <td>1996</td>\n",
       "      <td>http://books.google.nl/books?id=DykPAAAACAAJ&amp;d...</td>\n",
       "      <td>['Comics &amp; Graphic Novels']</td>\n",
       "      <td>NaN</td>\n",
       "      <td>0</td>\n",
       "    </tr>\n",
       "    <tr>\n",
       "      <th>1</th>\n",
       "      <td>Dr. Seuss: American Icon</td>\n",
       "      <td>Philip Nel takes a fascinating look into the k...</td>\n",
       "      <td>['Philip Nel']</td>\n",
       "      <td>http://books.google.com/books/content?id=IjvHQ...</td>\n",
       "      <td>http://books.google.nl/books?id=IjvHQsCn_pgC&amp;p...</td>\n",
       "      <td>A&amp;C Black</td>\n",
       "      <td>2005-01-01</td>\n",
       "      <td>http://books.google.nl/books?id=IjvHQsCn_pgC&amp;d...</td>\n",
       "      <td>['Biography &amp; Autobiography']</td>\n",
       "      <td>NaN</td>\n",
       "      <td>1</td>\n",
       "    </tr>\n",
       "    <tr>\n",
       "      <th>2</th>\n",
       "      <td>Wonderful Worship in Smaller Churches</td>\n",
       "      <td>This resource includes twelve principles in un...</td>\n",
       "      <td>['David R. Ray']</td>\n",
       "      <td>http://books.google.com/books/content?id=2tsDA...</td>\n",
       "      <td>http://books.google.nl/books?id=2tsDAAAACAAJ&amp;d...</td>\n",
       "      <td>NaN</td>\n",
       "      <td>2000</td>\n",
       "      <td>http://books.google.nl/books?id=2tsDAAAACAAJ&amp;d...</td>\n",
       "      <td>['Religion']</td>\n",
       "      <td>NaN</td>\n",
       "      <td>2</td>\n",
       "    </tr>\n",
       "    <tr>\n",
       "      <th>3</th>\n",
       "      <td>Whispers of the Wicked Saints</td>\n",
       "      <td>Julia Thomas finds her life spinning out of co...</td>\n",
       "      <td>['Veronica Haddon']</td>\n",
       "      <td>http://books.google.com/books/content?id=aRSIg...</td>\n",
       "      <td>http://books.google.nl/books?id=aRSIgJlq6JwC&amp;d...</td>\n",
       "      <td>iUniverse</td>\n",
       "      <td>2005-02</td>\n",
       "      <td>http://books.google.nl/books?id=aRSIgJlq6JwC&amp;d...</td>\n",
       "      <td>['Fiction']</td>\n",
       "      <td>NaN</td>\n",
       "      <td>3</td>\n",
       "    </tr>\n",
       "    <tr>\n",
       "      <th>4</th>\n",
       "      <td>Nation Dance: Religion, Identity and Cultural ...</td>\n",
       "      <td>NaN</td>\n",
       "      <td>['Edward Long']</td>\n",
       "      <td>NaN</td>\n",
       "      <td>http://books.google.nl/books?id=399SPgAACAAJ&amp;d...</td>\n",
       "      <td>NaN</td>\n",
       "      <td>2003-03-01</td>\n",
       "      <td>http://books.google.nl/books?id=399SPgAACAAJ&amp;d...</td>\n",
       "      <td>NaN</td>\n",
       "      <td>NaN</td>\n",
       "      <td>4</td>\n",
       "    </tr>\n",
       "  </tbody>\n",
       "</table>\n",
       "</div>"
      ],
      "text/plain": [
       "                                               Title  \\\n",
       "0                     Its Only Art If Its Well Hung!   \n",
       "1                           Dr. Seuss: American Icon   \n",
       "2              Wonderful Worship in Smaller Churches   \n",
       "3                      Whispers of the Wicked Saints   \n",
       "4  Nation Dance: Religion, Identity and Cultural ...   \n",
       "\n",
       "                                         description              authors  \\\n",
       "0                                                NaN     ['Julie Strain']   \n",
       "1  Philip Nel takes a fascinating look into the k...       ['Philip Nel']   \n",
       "2  This resource includes twelve principles in un...     ['David R. Ray']   \n",
       "3  Julia Thomas finds her life spinning out of co...  ['Veronica Haddon']   \n",
       "4                                                NaN      ['Edward Long']   \n",
       "\n",
       "                                               image  \\\n",
       "0  http://books.google.com/books/content?id=DykPA...   \n",
       "1  http://books.google.com/books/content?id=IjvHQ...   \n",
       "2  http://books.google.com/books/content?id=2tsDA...   \n",
       "3  http://books.google.com/books/content?id=aRSIg...   \n",
       "4                                                NaN   \n",
       "\n",
       "                                         previewLink  publisher publishedDate  \\\n",
       "0  http://books.google.nl/books?id=DykPAAAACAAJ&d...        NaN          1996   \n",
       "1  http://books.google.nl/books?id=IjvHQsCn_pgC&p...  A&C Black    2005-01-01   \n",
       "2  http://books.google.nl/books?id=2tsDAAAACAAJ&d...        NaN          2000   \n",
       "3  http://books.google.nl/books?id=aRSIgJlq6JwC&d...  iUniverse       2005-02   \n",
       "4  http://books.google.nl/books?id=399SPgAACAAJ&d...        NaN    2003-03-01   \n",
       "\n",
       "                                            infoLink  \\\n",
       "0  http://books.google.nl/books?id=DykPAAAACAAJ&d...   \n",
       "1  http://books.google.nl/books?id=IjvHQsCn_pgC&d...   \n",
       "2  http://books.google.nl/books?id=2tsDAAAACAAJ&d...   \n",
       "3  http://books.google.nl/books?id=aRSIgJlq6JwC&d...   \n",
       "4  http://books.google.nl/books?id=399SPgAACAAJ&d...   \n",
       "\n",
       "                      categories  ratingsCount  index  \n",
       "0    ['Comics & Graphic Novels']           NaN      0  \n",
       "1  ['Biography & Autobiography']           NaN      1  \n",
       "2                   ['Religion']           NaN      2  \n",
       "3                    ['Fiction']           NaN      3  \n",
       "4                            NaN           NaN      4  "
      ]
     },
     "execution_count": 3,
     "metadata": {},
     "output_type": "execute_result"
    }
   ],
   "source": [
    "amz_books.head()"
   ]
  },
  {
   "cell_type": "code",
   "execution_count": 9,
   "id": "fdb9603c-c1e9-4a85-887d-3be6e11f2611",
   "metadata": {
    "tags": []
   },
   "outputs": [
    {
     "data": {
      "text/plain": [
       "149388"
      ]
     },
     "execution_count": 9,
     "metadata": {},
     "output_type": "execute_result"
    }
   ],
   "source": [
    "# number of images expected (add counter to check all images have been pulled)\n",
    "amz_books['image'].unique().shape[0]"
   ]
  },
  {
   "cell_type": "code",
   "execution_count": 11,
   "id": "54657dc1-2921-4f71-b82c-398ef2589bdb",
   "metadata": {
    "tags": []
   },
   "outputs": [],
   "source": [
    "amz_books_100 = amz_books.head(100)"
   ]
  },
  {
   "cell_type": "code",
   "execution_count": 15,
   "id": "dd9b767b-ca81-47ea-9bb1-44e22957356e",
   "metadata": {
    "tags": []
   },
   "outputs": [],
   "source": [
    "amz_books_100 = amz_books_100.dropna(how=\"any\", subset=[\"image\"])"
   ]
  },
  {
   "cell_type": "code",
   "execution_count": 16,
   "id": "c23c530e-3897-44e4-a0c8-a94a5110a075",
   "metadata": {
    "tags": []
   },
   "outputs": [
    {
     "data": {
      "text/plain": [
       "Title             0\n",
       "description      13\n",
       "authors           4\n",
       "image             0\n",
       "previewLink       0\n",
       "publisher        19\n",
       "publishedDate     1\n",
       "infoLink          0\n",
       "categories        7\n",
       "ratingsCount     63\n",
       "index             0\n",
       "dtype: int64"
      ]
     },
     "execution_count": 16,
     "metadata": {},
     "output_type": "execute_result"
    }
   ],
   "source": [
    "amz_books_100.isnull().sum()"
   ]
  },
  {
   "cell_type": "code",
   "execution_count": null,
   "id": "d699d263-0e29-48d3-b923-b8f0ee4e3c38",
   "metadata": {},
   "outputs": [],
   "source": [
    "\"\"\"no_images_saved = 0\n",
    "no_images_not_saved = 0\n",
    "\n",
    "for index, row in amz_books_100.iterrows():\n",
    "    url = row[\"image\"]\n",
    "    image_url = str(url) + \".jpg\"\n",
    "\n",
    "    # Send a GET request to the image URL\n",
    "    image_response = requests.get(image_url)\n",
    "\n",
    "    # Check if the request was successful\n",
    "    if image_response.status_code == 200:\n",
    "        \n",
    "        # Save the image to your local machine\n",
    "        save_name = str(row[\"index\"]) + \".jpg\"\n",
    "        image = Image.open(BytesIO(image_response.content))\n",
    "        image.save(save_name)\n",
    "        no_images_saved += 1\n",
    "    else:\n",
    "        no_images_not_saved +=1\"\"\""
   ]
  },
  {
   "cell_type": "code",
   "execution_count": 17,
   "id": "54a394d3-f0aa-4ab1-b2a2-1a29c754801f",
   "metadata": {
    "tags": []
   },
   "outputs": [],
   "source": [
    "folder_path = 'images'\n",
    "\n",
    "no_images_saved = 0\n",
    "no_images_not_saved = 0\n",
    "\n",
    "for index, row in amz_books_100.iterrows():\n",
    "    url = row[\"image\"]\n",
    "    image_url = str(url) + \".jpg\"\n",
    "\n",
    "    # Send a GET request to the image URL\n",
    "    image_response = requests.get(image_url)\n",
    "\n",
    "    # Check if the request was successful\n",
    "    if image_response.status_code == 200:\n",
    "        \n",
    "        # Save the image to the specified folder\n",
    "        save_name = os.path.join(folder_path, str(row[\"index\"]) + \".jpg\")\n",
    "        image = Image.open(BytesIO(image_response.content))\n",
    "        image.save(save_name)\n",
    "        no_images_saved += 1\n",
    "    else:\n",
    "        no_images_not_saved += 1"
   ]
  },
  {
   "cell_type": "code",
   "execution_count": 20,
   "id": "ea6cb7b9-9cde-4cc8-9d0c-a59aa17100e1",
   "metadata": {
    "tags": []
   },
   "outputs": [
    {
     "data": {
      "text/plain": [
       "(81, 11)"
      ]
     },
     "execution_count": 20,
     "metadata": {},
     "output_type": "execute_result"
    }
   ],
   "source": [
    "amz_books_100.shape"
   ]
  },
  {
   "cell_type": "code",
   "execution_count": 18,
   "id": "e0a45bcf-e9f4-4bf7-940c-b09204017a3a",
   "metadata": {
    "tags": []
   },
   "outputs": [
    {
     "data": {
      "text/plain": [
       "81"
      ]
     },
     "execution_count": 18,
     "metadata": {},
     "output_type": "execute_result"
    }
   ],
   "source": [
    "no_images_saved"
   ]
  },
  {
   "cell_type": "code",
   "execution_count": 19,
   "id": "2db118f3-0e53-4700-980b-10deb2193d51",
   "metadata": {
    "tags": []
   },
   "outputs": [
    {
     "data": {
      "text/plain": [
       "0"
      ]
     },
     "execution_count": 19,
     "metadata": {},
     "output_type": "execute_result"
    }
   ],
   "source": [
    "no_images_not_saved"
   ]
  },
  {
   "cell_type": "code",
   "execution_count": 21,
   "id": "74b8053f-3971-4fcb-be97-2ad12eb0b99b",
   "metadata": {
    "tags": []
   },
   "outputs": [
    {
     "data": {
      "text/plain": [
       "(212404, 11)"
      ]
     },
     "execution_count": 21,
     "metadata": {},
     "output_type": "execute_result"
    }
   ],
   "source": [
    "amz_books.shape"
   ]
  },
  {
   "cell_type": "code",
   "execution_count": 22,
   "id": "9bf1e70c-cbb3-496f-bf6f-451314b0aaed",
   "metadata": {
    "tags": []
   },
   "outputs": [],
   "source": [
    "amz_books = amz_books.dropna(how=\"any\", subset=[\"image\"])"
   ]
  },
  {
   "cell_type": "code",
   "execution_count": 23,
   "id": "3cbe921f-fa2c-428c-8ead-b8ba180bd3a5",
   "metadata": {
    "tags": []
   },
   "outputs": [
    {
     "data": {
      "text/plain": [
       "(160329, 11)"
      ]
     },
     "execution_count": 23,
     "metadata": {},
     "output_type": "execute_result"
    }
   ],
   "source": [
    "# n.b. 160,329 non Nan values, but I don't think these are all unique, so might need to pull a subset again \n",
    "# or exclude certain ids\n",
    "amz_books.shape"
   ]
  },
  {
   "cell_type": "code",
   "execution_count": 24,
   "id": "59e0d186-f33c-4b9c-bafd-30fec64a1eb8",
   "metadata": {
    "tags": []
   },
   "outputs": [
    {
     "data": {
      "text/plain": [
       "Title                 1\n",
       "description       23372\n",
       "authors            5302\n",
       "image                 0\n",
       "previewLink           0\n",
       "publisher         30146\n",
       "publishedDate       924\n",
       "infoLink              0\n",
       "categories         8445\n",
       "ratingsCount     113202\n",
       "index                 0\n",
       "dtype: int64"
      ]
     },
     "execution_count": 24,
     "metadata": {},
     "output_type": "execute_result"
    }
   ],
   "source": [
    "amz_books.isnull().sum()"
   ]
  },
  {
   "cell_type": "code",
   "execution_count": null,
   "id": "b27a2dec-4029-4a00-a78c-8941f702b15a",
   "metadata": {
    "tags": []
   },
   "outputs": [],
   "source": [
    "folder_path = 'images'\n",
    "\n",
    "no_images_saved = 0\n",
    "no_images_not_saved = 0\n",
    "\n",
    "for index, row in amz_books.iterrows():\n",
    "    url = row[\"image\"]\n",
    "    image_url = str(url) + \".jpg\"\n",
    "\n",
    "    # Send a GET request to the image URL\n",
    "    image_response = requests.get(image_url)\n",
    "\n",
    "    # Check if the request was successful\n",
    "    if image_response.status_code == 200:\n",
    "        \n",
    "        # Save the image to the specified folder\n",
    "        save_name = os.path.join(folder_path, str(row[\"index\"]) + \".jpg\")\n",
    "        image = Image.open(BytesIO(image_response.content))\n",
    "        image.save(save_name)\n",
    "        no_images_saved += 1\n",
    "    else:\n",
    "        no_images_not_saved += 1"
   ]
  },
  {
   "cell_type": "code",
   "execution_count": null,
   "id": "e4b26149-d858-4c7f-a22b-cbc90a798c34",
   "metadata": {
    "tags": []
   },
   "outputs": [],
   "source": [
    "no_images_saved"
   ]
  },
  {
   "cell_type": "code",
   "execution_count": null,
   "id": "e4b46b34-c80a-4150-aa91-0e7080491f40",
   "metadata": {
    "tags": []
   },
   "outputs": [],
   "source": [
    "no_images_not_saved"
   ]
  },
  {
   "cell_type": "code",
   "execution_count": null,
   "id": "7fa69aa1-4af5-4028-bdbc-a48993e6639a",
   "metadata": {},
   "outputs": [],
   "source": []
  }
 ],
 "metadata": {
  "kernelspec": {
   "display_name": "Python 3 (ipykernel)",
   "language": "python",
   "name": "python3"
  },
  "language_info": {
   "codemirror_mode": {
    "name": "ipython",
    "version": 3
   },
   "file_extension": ".py",
   "mimetype": "text/x-python",
   "name": "python",
   "nbconvert_exporter": "python",
   "pygments_lexer": "ipython3",
   "version": "3.11.4"
  }
 },
 "nbformat": 4,
 "nbformat_minor": 5
}
