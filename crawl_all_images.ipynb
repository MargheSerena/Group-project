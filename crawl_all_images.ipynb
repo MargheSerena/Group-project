{
 "cells": [
  {
   "cell_type": "code",
   "execution_count": 1,
   "id": "25ac7aeb-526c-4f60-a1a0-df140164603c",
   "metadata": {
    "tags": []
   },
   "outputs": [],
   "source": [
    "import pandas as pd\n",
    "import requests\n",
    "from bs4 import BeautifulSoup\n",
    "from PIL import Image\n",
    "from io import BytesIO\n",
    "import os"
   ]
  },
  {
   "cell_type": "code",
   "execution_count": 47,
   "id": "f9ffa1b7-0ada-4032-85d6-07c233306058",
   "metadata": {
    "tags": []
   },
   "outputs": [],
   "source": [
    "amz_books = pd.read_csv('books_data_with_index.csv')"
   ]
  },
  {
   "cell_type": "code",
   "execution_count": 3,
   "id": "813a06ea-37ff-432f-8964-91bbb592293f",
   "metadata": {
    "tags": []
   },
   "outputs": [
    {
     "data": {
      "text/html": [
       "<div>\n",
       "<style scoped>\n",
       "    .dataframe tbody tr th:only-of-type {\n",
       "        vertical-align: middle;\n",
       "    }\n",
       "\n",
       "    .dataframe tbody tr th {\n",
       "        vertical-align: top;\n",
       "    }\n",
       "\n",
       "    .dataframe thead th {\n",
       "        text-align: right;\n",
       "    }\n",
       "</style>\n",
       "<table border=\"1\" class=\"dataframe\">\n",
       "  <thead>\n",
       "    <tr style=\"text-align: right;\">\n",
       "      <th></th>\n",
       "      <th>Title</th>\n",
       "      <th>description</th>\n",
       "      <th>authors</th>\n",
       "      <th>image</th>\n",
       "      <th>previewLink</th>\n",
       "      <th>publisher</th>\n",
       "      <th>publishedDate</th>\n",
       "      <th>infoLink</th>\n",
       "      <th>categories</th>\n",
       "      <th>ratingsCount</th>\n",
       "      <th>index</th>\n",
       "    </tr>\n",
       "  </thead>\n",
       "  <tbody>\n",
       "    <tr>\n",
       "      <th>0</th>\n",
       "      <td>Its Only Art If Its Well Hung!</td>\n",
       "      <td>NaN</td>\n",
       "      <td>['Julie Strain']</td>\n",
       "      <td>http://books.google.com/books/content?id=DykPA...</td>\n",
       "      <td>http://books.google.nl/books?id=DykPAAAACAAJ&amp;d...</td>\n",
       "      <td>NaN</td>\n",
       "      <td>1996</td>\n",
       "      <td>http://books.google.nl/books?id=DykPAAAACAAJ&amp;d...</td>\n",
       "      <td>['Comics &amp; Graphic Novels']</td>\n",
       "      <td>NaN</td>\n",
       "      <td>0</td>\n",
       "    </tr>\n",
       "    <tr>\n",
       "      <th>1</th>\n",
       "      <td>Dr. Seuss: American Icon</td>\n",
       "      <td>Philip Nel takes a fascinating look into the k...</td>\n",
       "      <td>['Philip Nel']</td>\n",
       "      <td>http://books.google.com/books/content?id=IjvHQ...</td>\n",
       "      <td>http://books.google.nl/books?id=IjvHQsCn_pgC&amp;p...</td>\n",
       "      <td>A&amp;C Black</td>\n",
       "      <td>2005-01-01</td>\n",
       "      <td>http://books.google.nl/books?id=IjvHQsCn_pgC&amp;d...</td>\n",
       "      <td>['Biography &amp; Autobiography']</td>\n",
       "      <td>NaN</td>\n",
       "      <td>1</td>\n",
       "    </tr>\n",
       "    <tr>\n",
       "      <th>2</th>\n",
       "      <td>Wonderful Worship in Smaller Churches</td>\n",
       "      <td>This resource includes twelve principles in un...</td>\n",
       "      <td>['David R. Ray']</td>\n",
       "      <td>http://books.google.com/books/content?id=2tsDA...</td>\n",
       "      <td>http://books.google.nl/books?id=2tsDAAAACAAJ&amp;d...</td>\n",
       "      <td>NaN</td>\n",
       "      <td>2000</td>\n",
       "      <td>http://books.google.nl/books?id=2tsDAAAACAAJ&amp;d...</td>\n",
       "      <td>['Religion']</td>\n",
       "      <td>NaN</td>\n",
       "      <td>2</td>\n",
       "    </tr>\n",
       "    <tr>\n",
       "      <th>3</th>\n",
       "      <td>Whispers of the Wicked Saints</td>\n",
       "      <td>Julia Thomas finds her life spinning out of co...</td>\n",
       "      <td>['Veronica Haddon']</td>\n",
       "      <td>http://books.google.com/books/content?id=aRSIg...</td>\n",
       "      <td>http://books.google.nl/books?id=aRSIgJlq6JwC&amp;d...</td>\n",
       "      <td>iUniverse</td>\n",
       "      <td>2005-02</td>\n",
       "      <td>http://books.google.nl/books?id=aRSIgJlq6JwC&amp;d...</td>\n",
       "      <td>['Fiction']</td>\n",
       "      <td>NaN</td>\n",
       "      <td>3</td>\n",
       "    </tr>\n",
       "    <tr>\n",
       "      <th>4</th>\n",
       "      <td>Nation Dance: Religion, Identity and Cultural ...</td>\n",
       "      <td>NaN</td>\n",
       "      <td>['Edward Long']</td>\n",
       "      <td>NaN</td>\n",
       "      <td>http://books.google.nl/books?id=399SPgAACAAJ&amp;d...</td>\n",
       "      <td>NaN</td>\n",
       "      <td>2003-03-01</td>\n",
       "      <td>http://books.google.nl/books?id=399SPgAACAAJ&amp;d...</td>\n",
       "      <td>NaN</td>\n",
       "      <td>NaN</td>\n",
       "      <td>4</td>\n",
       "    </tr>\n",
       "  </tbody>\n",
       "</table>\n",
       "</div>"
      ],
      "text/plain": [
       "                                               Title  \\\n",
       "0                     Its Only Art If Its Well Hung!   \n",
       "1                           Dr. Seuss: American Icon   \n",
       "2              Wonderful Worship in Smaller Churches   \n",
       "3                      Whispers of the Wicked Saints   \n",
       "4  Nation Dance: Religion, Identity and Cultural ...   \n",
       "\n",
       "                                         description              authors  \\\n",
       "0                                                NaN     ['Julie Strain']   \n",
       "1  Philip Nel takes a fascinating look into the k...       ['Philip Nel']   \n",
       "2  This resource includes twelve principles in un...     ['David R. Ray']   \n",
       "3  Julia Thomas finds her life spinning out of co...  ['Veronica Haddon']   \n",
       "4                                                NaN      ['Edward Long']   \n",
       "\n",
       "                                               image  \\\n",
       "0  http://books.google.com/books/content?id=DykPA...   \n",
       "1  http://books.google.com/books/content?id=IjvHQ...   \n",
       "2  http://books.google.com/books/content?id=2tsDA...   \n",
       "3  http://books.google.com/books/content?id=aRSIg...   \n",
       "4                                                NaN   \n",
       "\n",
       "                                         previewLink  publisher publishedDate  \\\n",
       "0  http://books.google.nl/books?id=DykPAAAACAAJ&d...        NaN          1996   \n",
       "1  http://books.google.nl/books?id=IjvHQsCn_pgC&p...  A&C Black    2005-01-01   \n",
       "2  http://books.google.nl/books?id=2tsDAAAACAAJ&d...        NaN          2000   \n",
       "3  http://books.google.nl/books?id=aRSIgJlq6JwC&d...  iUniverse       2005-02   \n",
       "4  http://books.google.nl/books?id=399SPgAACAAJ&d...        NaN    2003-03-01   \n",
       "\n",
       "                                            infoLink  \\\n",
       "0  http://books.google.nl/books?id=DykPAAAACAAJ&d...   \n",
       "1  http://books.google.nl/books?id=IjvHQsCn_pgC&d...   \n",
       "2  http://books.google.nl/books?id=2tsDAAAACAAJ&d...   \n",
       "3  http://books.google.nl/books?id=aRSIgJlq6JwC&d...   \n",
       "4  http://books.google.nl/books?id=399SPgAACAAJ&d...   \n",
       "\n",
       "                      categories  ratingsCount  index  \n",
       "0    ['Comics & Graphic Novels']           NaN      0  \n",
       "1  ['Biography & Autobiography']           NaN      1  \n",
       "2                   ['Religion']           NaN      2  \n",
       "3                    ['Fiction']           NaN      3  \n",
       "4                            NaN           NaN      4  "
      ]
     },
     "execution_count": 3,
     "metadata": {},
     "output_type": "execute_result"
    }
   ],
   "source": [
    "amz_books.head()"
   ]
  },
  {
   "cell_type": "code",
   "execution_count": 3,
   "id": "fdb9603c-c1e9-4a85-887d-3be6e11f2611",
   "metadata": {
    "tags": []
   },
   "outputs": [
    {
     "data": {
      "text/plain": [
       "149388"
      ]
     },
     "execution_count": 3,
     "metadata": {},
     "output_type": "execute_result"
    }
   ],
   "source": [
    "# number of images expected (add counter to check all images have been pulled)\n",
    "amz_books['image'].unique().shape[0]"
   ]
  },
  {
   "cell_type": "code",
   "execution_count": 4,
   "id": "74b8053f-3971-4fcb-be97-2ad12eb0b99b",
   "metadata": {
    "tags": []
   },
   "outputs": [
    {
     "data": {
      "text/plain": [
       "(212404, 11)"
      ]
     },
     "execution_count": 4,
     "metadata": {},
     "output_type": "execute_result"
    }
   ],
   "source": [
    "amz_books.shape"
   ]
  },
  {
   "cell_type": "code",
   "execution_count": 5,
   "id": "9bf1e70c-cbb3-496f-bf6f-451314b0aaed",
   "metadata": {
    "tags": []
   },
   "outputs": [],
   "source": [
    "amz_books = amz_books.dropna(how=\"any\", subset=[\"image\"])"
   ]
  },
  {
   "cell_type": "code",
   "execution_count": 6,
   "id": "3cbe921f-fa2c-428c-8ead-b8ba180bd3a5",
   "metadata": {
    "tags": []
   },
   "outputs": [
    {
     "data": {
      "text/plain": [
       "(160329, 11)"
      ]
     },
     "execution_count": 6,
     "metadata": {},
     "output_type": "execute_result"
    }
   ],
   "source": [
    "# n.b. 160,329 non Nan values, but I don't think these are all unique, so might need to pull a subset again \n",
    "# or exclude certain ids\n",
    "amz_books.shape"
   ]
  },
  {
   "cell_type": "code",
   "execution_count": 7,
   "id": "59e0d186-f33c-4b9c-bafd-30fec64a1eb8",
   "metadata": {
    "tags": []
   },
   "outputs": [
    {
     "data": {
      "text/plain": [
       "Title                 1\n",
       "description       23372\n",
       "authors            5302\n",
       "image                 0\n",
       "previewLink           0\n",
       "publisher         30146\n",
       "publishedDate       924\n",
       "infoLink              0\n",
       "categories         8445\n",
       "ratingsCount     113202\n",
       "index                 0\n",
       "dtype: int64"
      ]
     },
     "execution_count": 7,
     "metadata": {},
     "output_type": "execute_result"
    }
   ],
   "source": [
    "amz_books.isnull().sum()"
   ]
  },
  {
   "cell_type": "code",
   "execution_count": null,
   "id": "b27a2dec-4029-4a00-a78c-8941f702b15a",
   "metadata": {
    "tags": []
   },
   "outputs": [],
   "source": [
    "# ran this code to get all images\n",
    "# computer went to sleep and only got upto index 137,962\n",
    "folder_path = 'images'\n",
    "\n",
    "no_images_saved = 0\n",
    "no_images_not_saved = 0\n",
    "\n",
    "for index, row in amz_books.iterrows():\n",
    "    url = row[\"image\"]\n",
    "    image_url = str(url) + \".jpg\"\n",
    "\n",
    "    # Send a GET request to the image URL\n",
    "    image_response = requests.get(image_url)\n",
    "\n",
    "    # Check if the request was successful\n",
    "    if image_response.status_code == 200:\n",
    "        \n",
    "        # Save the image to the specified folder\n",
    "        save_name = os.path.join(folder_path, str(row[\"index\"]) + \".jpg\")\n",
    "        image = Image.open(BytesIO(image_response.content))\n",
    "        image.save(save_name)\n",
    "        no_images_saved += 1\n",
    "    else:\n",
    "        no_images_not_saved += 1"
   ]
  },
  {
   "cell_type": "code",
   "execution_count": null,
   "id": "e4b26149-d858-4c7f-a22b-cbc90a798c34",
   "metadata": {
    "tags": []
   },
   "outputs": [],
   "source": [
    "no_images_saved"
   ]
  },
  {
   "cell_type": "code",
   "execution_count": null,
   "id": "e4b46b34-c80a-4150-aa91-0e7080491f40",
   "metadata": {
    "tags": []
   },
   "outputs": [],
   "source": [
    "no_images_not_saved"
   ]
  },
  {
   "cell_type": "code",
   "execution_count": 8,
   "id": "7fa69aa1-4af5-4028-bdbc-a48993e6639a",
   "metadata": {},
   "outputs": [
    {
     "data": {
      "text/html": [
       "<div>\n",
       "<style scoped>\n",
       "    .dataframe tbody tr th:only-of-type {\n",
       "        vertical-align: middle;\n",
       "    }\n",
       "\n",
       "    .dataframe tbody tr th {\n",
       "        vertical-align: top;\n",
       "    }\n",
       "\n",
       "    .dataframe thead th {\n",
       "        text-align: right;\n",
       "    }\n",
       "</style>\n",
       "<table border=\"1\" class=\"dataframe\">\n",
       "  <thead>\n",
       "    <tr style=\"text-align: right;\">\n",
       "      <th></th>\n",
       "      <th>index</th>\n",
       "      <th>name</th>\n",
       "    </tr>\n",
       "  </thead>\n",
       "  <tbody>\n",
       "    <tr>\n",
       "      <th>0</th>\n",
       "      <td>0</td>\n",
       "      <td>leanne</td>\n",
       "    </tr>\n",
       "    <tr>\n",
       "      <th>1</th>\n",
       "      <td>1</td>\n",
       "      <td>joe</td>\n",
       "    </tr>\n",
       "    <tr>\n",
       "      <th>2</th>\n",
       "      <td>2</td>\n",
       "      <td>lucien</td>\n",
       "    </tr>\n",
       "    <tr>\n",
       "      <th>3</th>\n",
       "      <td>3</td>\n",
       "      <td>craig</td>\n",
       "    </tr>\n",
       "    <tr>\n",
       "      <th>4</th>\n",
       "      <td>4</td>\n",
       "      <td>grando</td>\n",
       "    </tr>\n",
       "    <tr>\n",
       "      <th>5</th>\n",
       "      <td>5</td>\n",
       "      <td>tiggy</td>\n",
       "    </tr>\n",
       "  </tbody>\n",
       "</table>\n",
       "</div>"
      ],
      "text/plain": [
       "   index    name\n",
       "0      0  leanne\n",
       "1      1     joe\n",
       "2      2  lucien\n",
       "3      3   craig\n",
       "4      4  grando\n",
       "5      5   tiggy"
      ]
     },
     "execution_count": 8,
     "metadata": {},
     "output_type": "execute_result"
    }
   ],
   "source": [
    "# create slice of df to get rest of images\n",
    "# going to test getting desired slice first!\n",
    "\n",
    "data = pd.DataFrame()\n",
    "data['index'] = [0, 1, 2, 3, 4, 5]\n",
    "data['name'] = [\"leanne\", \"joe\", \"lucien\", \"craig\", \"grando\", \"tiggy\"]\n",
    "data"
   ]
  },
  {
   "cell_type": "code",
   "execution_count": 12,
   "id": "8142fa75-89ec-4391-a6c6-dbabe851a35f",
   "metadata": {},
   "outputs": [
    {
     "data": {
      "text/html": [
       "<div>\n",
       "<style scoped>\n",
       "    .dataframe tbody tr th:only-of-type {\n",
       "        vertical-align: middle;\n",
       "    }\n",
       "\n",
       "    .dataframe tbody tr th {\n",
       "        vertical-align: top;\n",
       "    }\n",
       "\n",
       "    .dataframe thead th {\n",
       "        text-align: right;\n",
       "    }\n",
       "</style>\n",
       "<table border=\"1\" class=\"dataframe\">\n",
       "  <thead>\n",
       "    <tr style=\"text-align: right;\">\n",
       "      <th></th>\n",
       "      <th>index</th>\n",
       "      <th>name</th>\n",
       "    </tr>\n",
       "  </thead>\n",
       "  <tbody>\n",
       "    <tr>\n",
       "      <th>3</th>\n",
       "      <td>3</td>\n",
       "      <td>craig</td>\n",
       "    </tr>\n",
       "    <tr>\n",
       "      <th>4</th>\n",
       "      <td>4</td>\n",
       "      <td>grando</td>\n",
       "    </tr>\n",
       "    <tr>\n",
       "      <th>5</th>\n",
       "      <td>5</td>\n",
       "      <td>tiggy</td>\n",
       "    </tr>\n",
       "  </tbody>\n",
       "</table>\n",
       "</div>"
      ],
      "text/plain": [
       "   index    name\n",
       "3      3   craig\n",
       "4      4  grando\n",
       "5      5   tiggy"
      ]
     },
     "execution_count": 12,
     "metadata": {},
     "output_type": "execute_result"
    }
   ],
   "source": [
    "data_slice = data[3:]\n",
    "data_slice"
   ]
  },
  {
   "cell_type": "code",
   "execution_count": 13,
   "id": "63940357-bafa-46b8-8850-bef17403bfe8",
   "metadata": {},
   "outputs": [],
   "source": [
    "# so for my slice it will be df[137963:]\n",
    "# issue - although this is the last file in my folder, it probaby isn't the highest number\n",
    "amz_books_slice = amz_books[137963:] "
   ]
  },
  {
   "cell_type": "code",
   "execution_count": 46,
   "id": "24bcb089-e8e5-42e2-9e82-bf0b0c71519f",
   "metadata": {},
   "outputs": [
    {
     "data": {
      "text/plain": [
       "179556"
      ]
     },
     "execution_count": 46,
     "metadata": {},
     "output_type": "execute_result"
    }
   ],
   "source": [
    "amz_books_slice['index'].min()"
   ]
  },
  {
   "cell_type": "code",
   "execution_count": 17,
   "id": "54ebc79e-6373-4bac-a16c-1e3437d81802",
   "metadata": {},
   "outputs": [],
   "source": [
    "# get all the images into a list, strip .jpg and find max value\n",
    "# order df by index and then get slice\n",
    "directory = 'images'\n",
    "image_name_list = os.listdir(directory)"
   ]
  },
  {
   "cell_type": "code",
   "execution_count": 18,
   "id": "08a7d0a8-5d4a-43d3-adbb-74177d289b92",
   "metadata": {},
   "outputs": [
    {
     "data": {
      "text/plain": [
       "['110369.jpg',\n",
       " '14147.jpg',\n",
       " '86425.jpg',\n",
       " '52112.jpg',\n",
       " '108526.jpg',\n",
       " '89716.jpg',\n",
       " '63.jpg',\n",
       " '107615.jpg',\n",
       " '6400.jpg',\n",
       " '42301.jpg']"
      ]
     },
     "execution_count": 18,
     "metadata": {},
     "output_type": "execute_result"
    }
   ],
   "source": [
    "image_name_list[:10]"
   ]
  },
  {
   "cell_type": "code",
   "execution_count": 19,
   "id": "ac8fdda6-8268-43a6-9a9f-15cf93ce4acd",
   "metadata": {},
   "outputs": [],
   "source": [
    "char = '.jpg'\n",
    "image_list_strip_jpg = [ele.replace(char, '') for ele in image_name_list]"
   ]
  },
  {
   "cell_type": "code",
   "execution_count": 25,
   "id": "277bf5e9-87f7-4494-902c-8dc47d58e5ea",
   "metadata": {},
   "outputs": [
    {
     "data": {
      "text/plain": [
       "['110369',\n",
       " '14147',\n",
       " '86425',\n",
       " '52112',\n",
       " '108526',\n",
       " '89716',\n",
       " '63',\n",
       " '107615',\n",
       " '6400',\n",
       " '42301']"
      ]
     },
     "execution_count": 25,
     "metadata": {},
     "output_type": "execute_result"
    }
   ],
   "source": [
    "image_list_strip_jpg[:10]"
   ]
  },
  {
   "cell_type": "code",
   "execution_count": 26,
   "id": "5d8e8af1-eaf1-4854-925b-9f06505693b6",
   "metadata": {},
   "outputs": [
    {
     "data": {
      "text/plain": [
       "105957"
      ]
     },
     "execution_count": 26,
     "metadata": {},
     "output_type": "execute_result"
    }
   ],
   "source": [
    "len(image_list_strip_jpg)"
   ]
  },
  {
   "cell_type": "code",
   "execution_count": 23,
   "id": "98c502a7-0eed-40b0-845d-5ddf1e00a618",
   "metadata": {},
   "outputs": [
    {
     "ename": "ValueError",
     "evalue": "invalid literal for int() with base 10: '.ipynb_checkpoints'",
     "output_type": "error",
     "traceback": [
      "\u001b[0;31m---------------------------------------------------------------------------\u001b[0m",
      "\u001b[0;31mValueError\u001b[0m                                Traceback (most recent call last)",
      "Cell \u001b[0;32mIn[23], line 1\u001b[0m\n\u001b[0;32m----> 1\u001b[0m image_list_strip_jpg_int \u001b[38;5;241m=\u001b[39m [\u001b[38;5;28mint\u001b[39m(x) \u001b[38;5;28;01mfor\u001b[39;00m x \u001b[38;5;129;01min\u001b[39;00m image_list_strip_jpg]\n",
      "Cell \u001b[0;32mIn[23], line 1\u001b[0m, in \u001b[0;36m<listcomp>\u001b[0;34m(.0)\u001b[0m\n\u001b[0;32m----> 1\u001b[0m image_list_strip_jpg_int \u001b[38;5;241m=\u001b[39m [\u001b[38;5;28mint\u001b[39m(x) \u001b[38;5;28;01mfor\u001b[39;00m x \u001b[38;5;129;01min\u001b[39;00m image_list_strip_jpg]\n",
      "\u001b[0;31mValueError\u001b[0m: invalid literal for int() with base 10: '.ipynb_checkpoints'"
     ]
    }
   ],
   "source": [
    "# seems there's a error because one of the strings is not a valid integer\n",
    "# not sure why this would be \n",
    "image_list_strip_jpg_int = [int(x) for x in image_list_strip_jpg]"
   ]
  },
  {
   "cell_type": "code",
   "execution_count": 27,
   "id": "fd5f0d43-3500-4794-92fd-ce729ee00a5b",
   "metadata": {},
   "outputs": [],
   "source": [
    "# filter out not valid int\n",
    "valid_strings = [x for x in image_list_strip_jpg if x.isdigit()]\n",
    "image_list_strip_jpg_int = [int(x) for x in valid_strings]\n"
   ]
  },
  {
   "cell_type": "code",
   "execution_count": 28,
   "id": "5cb7f12b-f8da-41f0-bc84-b2dc447156fe",
   "metadata": {},
   "outputs": [
    {
     "data": {
      "text/plain": [
       "['110369',\n",
       " '14147',\n",
       " '86425',\n",
       " '52112',\n",
       " '108526',\n",
       " '89716',\n",
       " '63',\n",
       " '107615',\n",
       " '6400',\n",
       " '42301']"
      ]
     },
     "execution_count": 28,
     "metadata": {},
     "output_type": "execute_result"
    }
   ],
   "source": [
    "image_list_strip_jpg[0:10]"
   ]
  },
  {
   "cell_type": "code",
   "execution_count": 29,
   "id": "2cff25d5-b6d8-4739-86c9-d7ba3f48280b",
   "metadata": {},
   "outputs": [
    {
     "data": {
      "text/plain": [
       "105956"
      ]
     },
     "execution_count": 29,
     "metadata": {},
     "output_type": "execute_result"
    }
   ],
   "source": [
    "len(image_list_strip_jpg_int)"
   ]
  },
  {
   "cell_type": "code",
   "execution_count": 30,
   "id": "bea38a1f-7690-4334-b392-bbd999cb1058",
   "metadata": {},
   "outputs": [
    {
     "data": {
      "text/plain": [
       "1"
      ]
     },
     "execution_count": 30,
     "metadata": {},
     "output_type": "execute_result"
    }
   ],
   "source": [
    "105957-105956"
   ]
  },
  {
   "cell_type": "code",
   "execution_count": 33,
   "id": "c9633e7c-c9a8-4eea-8a29-2c078433b28c",
   "metadata": {},
   "outputs": [
    {
     "data": {
      "text/plain": [
       "int"
      ]
     },
     "execution_count": 33,
     "metadata": {},
     "output_type": "execute_result"
    }
   ],
   "source": [
    "# have to hope this isn't the min no. in my slice!\n",
    "type(image_list_strip_jpg_int[0])"
   ]
  },
  {
   "cell_type": "code",
   "execution_count": 37,
   "id": "b489b295-d45d-40ac-8a1a-ab533c32a4cf",
   "metadata": {},
   "outputs": [
    {
     "data": {
      "text/plain": [
       "137962"
      ]
     },
     "execution_count": 37,
     "metadata": {},
     "output_type": "execute_result"
    }
   ],
   "source": [
    "# so 137962 is the max value!\n",
    "max(image_list_strip_jpg_int)"
   ]
  },
  {
   "cell_type": "code",
   "execution_count": null,
   "id": "55ff8535-7498-49c6-b5bb-8444e4d2c94d",
   "metadata": {},
   "outputs": [],
   "source": [
    "# maybe should reload df, take slice and then remove missing values"
   ]
  },
  {
   "cell_type": "code",
   "execution_count": 48,
   "id": "66490300-650a-41a5-9944-02935627aaaf",
   "metadata": {},
   "outputs": [],
   "source": [
    "amz_books = pd.read_csv('books_data_with_index.csv')"
   ]
  },
  {
   "cell_type": "code",
   "execution_count": 49,
   "id": "f39c4dd6-e76b-47be-ac7d-73e6aab54cec",
   "metadata": {},
   "outputs": [],
   "source": [
    "amz_books_slice = amz_books[137963:] "
   ]
  },
  {
   "cell_type": "code",
   "execution_count": 52,
   "id": "af938f74-075f-4b25-a15e-c75f2ecf255a",
   "metadata": {},
   "outputs": [
    {
     "data": {
      "text/plain": [
       "137963"
      ]
     },
     "execution_count": 52,
     "metadata": {},
     "output_type": "execute_result"
    }
   ],
   "source": [
    "amz_books_slice['index'].min()"
   ]
  },
  {
   "cell_type": "code",
   "execution_count": 53,
   "id": "663c5fbf-7bae-416f-a302-361f68bd0b69",
   "metadata": {},
   "outputs": [
    {
     "data": {
      "text/plain": [
       "212403"
      ]
     },
     "execution_count": 53,
     "metadata": {},
     "output_type": "execute_result"
    }
   ],
   "source": [
    "amz_books_slice['index'].max()"
   ]
  },
  {
   "cell_type": "code",
   "execution_count": 54,
   "id": "8a6555b7-6159-4aad-af92-fc1814c60864",
   "metadata": {},
   "outputs": [
    {
     "data": {
      "text/plain": [
       "(74441, 11)"
      ]
     },
     "execution_count": 54,
     "metadata": {},
     "output_type": "execute_result"
    }
   ],
   "source": [
    "# that's better!\n",
    "amz_books_slice.shape"
   ]
  },
  {
   "cell_type": "code",
   "execution_count": 55,
   "id": "4ca8c220-4c45-415d-afbf-73ecc196eb3f",
   "metadata": {},
   "outputs": [
    {
     "data": {
      "text/plain": [
       "Title                0\n",
       "description      25490\n",
       "authors          13293\n",
       "image            20068\n",
       "previewLink      10870\n",
       "publisher        28097\n",
       "publishedDate    11314\n",
       "infoLink         10870\n",
       "categories       16477\n",
       "ratingsCount     57292\n",
       "index                0\n",
       "dtype: int64"
      ]
     },
     "execution_count": 55,
     "metadata": {},
     "output_type": "execute_result"
    }
   ],
   "source": [
    "amz_books_slice.isnull().sum()"
   ]
  },
  {
   "cell_type": "code",
   "execution_count": 56,
   "id": "8c2a3fa1-a066-4e6a-b157-a1e3092336ab",
   "metadata": {},
   "outputs": [],
   "source": [
    "amz_books_slice = amz_books_slice.dropna(how=\"any\", subset=[\"image\"])"
   ]
  },
  {
   "cell_type": "code",
   "execution_count": 57,
   "id": "61971673-86f5-432f-bb1d-b3ecf4627ce2",
   "metadata": {},
   "outputs": [
    {
     "data": {
      "text/plain": [
       "Title                0\n",
       "description       7763\n",
       "authors           1699\n",
       "image                0\n",
       "previewLink          0\n",
       "publisher        10104\n",
       "publishedDate      287\n",
       "infoLink             0\n",
       "categories        2784\n",
       "ratingsCount     38053\n",
       "index                0\n",
       "dtype: int64"
      ]
     },
     "execution_count": 57,
     "metadata": {},
     "output_type": "execute_result"
    }
   ],
   "source": [
    "amz_books_slice.isnull().sum()"
   ]
  },
  {
   "cell_type": "code",
   "execution_count": 58,
   "id": "e3b4aa25-78dc-43d2-bf18-ea726897dd86",
   "metadata": {},
   "outputs": [],
   "source": [
    "# now can get remaining images\n",
    "folder_path = 'images'\n",
    "\n",
    "no_images_saved = 0\n",
    "no_images_not_saved = 0\n",
    "\n",
    "for index, row in amz_books_slice.iterrows():\n",
    "    url = row[\"image\"]\n",
    "    image_url = str(url) + \".jpg\"\n",
    "\n",
    "    # Send a GET request to the image URL\n",
    "    image_response = requests.get(image_url)\n",
    "\n",
    "    # Check if the request was successful\n",
    "    if image_response.status_code == 200:\n",
    "        \n",
    "        # Save the image to the specified folder\n",
    "        save_name = os.path.join(folder_path, str(row[\"index\"]) + \".jpg\")\n",
    "        image = Image.open(BytesIO(image_response.content))\n",
    "        image.save(save_name)\n",
    "        no_images_saved += 1\n",
    "    else:\n",
    "        no_images_not_saved += 1"
   ]
  },
  {
   "cell_type": "code",
   "execution_count": 59,
   "id": "144e3679-555a-4158-afaf-812e4deaa59d",
   "metadata": {},
   "outputs": [
    {
     "data": {
      "text/plain": [
       "54373"
      ]
     },
     "execution_count": 59,
     "metadata": {},
     "output_type": "execute_result"
    }
   ],
   "source": [
    "no_images_saved"
   ]
  },
  {
   "cell_type": "code",
   "execution_count": 60,
   "id": "45225cd8-f6a5-4f4e-81cd-657d87dba79d",
   "metadata": {},
   "outputs": [
    {
     "data": {
      "text/plain": [
       "0"
      ]
     },
     "execution_count": 60,
     "metadata": {},
     "output_type": "execute_result"
    }
   ],
   "source": [
    "no_images_not_saved"
   ]
  },
  {
   "cell_type": "code",
   "execution_count": null,
   "id": "f0794764-d4f7-4735-bb0a-e841860512ac",
   "metadata": {},
   "outputs": [],
   "source": []
  }
 ],
 "metadata": {
  "kernelspec": {
   "display_name": "Python 3 (ipykernel)",
   "language": "python",
   "name": "python3"
  },
  "language_info": {
   "codemirror_mode": {
    "name": "ipython",
    "version": 3
   },
   "file_extension": ".py",
   "mimetype": "text/x-python",
   "name": "python",
   "nbconvert_exporter": "python",
   "pygments_lexer": "ipython3",
   "version": "3.11.4"
  }
 },
 "nbformat": 4,
 "nbformat_minor": 5
}
