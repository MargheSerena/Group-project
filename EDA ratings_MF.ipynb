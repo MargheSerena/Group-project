{
 "cells": [
  {
   "cell_type": "markdown",
   "id": "0f7cf3fc",
   "metadata": {},
   "source": [
    "# Book ratings EDA"
   ]
  },
  {
   "cell_type": "markdown",
   "id": "7ae3da68",
   "metadata": {},
   "source": [
    "## 0. Set up"
   ]
  },
  {
   "cell_type": "markdown",
   "id": "63f51206",
   "metadata": {},
   "source": [
    "Libraries"
   ]
  },
  {
   "cell_type": "code",
   "execution_count": 1,
   "id": "661eb07f-15dd-4516-889a-5659b1c8d00f",
   "metadata": {},
   "outputs": [],
   "source": [
    "import pandas as pd\n",
    "import os\n",
    "import numpy as np\n",
    "import seaborn as sns\n",
    "import matplotlib.pyplot as plt\n",
    "import plotly.graph_objects as go\n",
    "import plotly.express as px\n",
    "from plotly.subplots import make_subplots\n",
    "\n",
    "import datetime\n",
    "\n",
    "# EDA functions\n",
    "from EDA_functions import ratings_cleaning_steps\n",
    "\n",
    "# import requests\n",
    "# from bs4 import BeautifulSoup\n",
    "# from PIL import Image\n",
    "# from io import BytesIO"
   ]
  },
  {
   "cell_type": "markdown",
   "id": "2dcdc26b",
   "metadata": {},
   "source": [
    "Project folder"
   ]
  },
  {
   "cell_type": "code",
   "execution_count": 2,
   "id": "f2756f2e",
   "metadata": {},
   "outputs": [],
   "source": [
    "github_folder = os.getcwd()\n",
    "main_folder = os.path.dirname(github_folder)"
   ]
  },
  {
   "cell_type": "markdown",
   "id": "02e13647",
   "metadata": {},
   "source": [
    "## 1. Import data"
   ]
  },
  {
   "cell_type": "code",
   "execution_count": 3,
   "id": "22a7a299-0b4f-4387-bde5-f97b2e043fcb",
   "metadata": {},
   "outputs": [],
   "source": [
    "amz_ratings = pd.read_csv(os.path.join(main_folder,'Books_rating.csv'))"
   ]
  },
  {
   "cell_type": "markdown",
   "id": "cb35a0e2",
   "metadata": {},
   "source": [
    "## 2. EDA"
   ]
  },
  {
   "cell_type": "markdown",
   "id": "45321375",
   "metadata": {},
   "source": [
    "Explore data types and head"
   ]
  },
  {
   "cell_type": "code",
   "execution_count": 4,
   "id": "13ad84d5-f685-4be2-8125-ad313c1dd51d",
   "metadata": {},
   "outputs": [
    {
     "name": "stdout",
     "output_type": "stream",
     "text": [
      "<class 'pandas.core.frame.DataFrame'>\n",
      "RangeIndex: 3000000 entries, 0 to 2999999\n",
      "Data columns (total 10 columns):\n",
      " #   Column              Dtype  \n",
      "---  ------              -----  \n",
      " 0   Id                  object \n",
      " 1   Title               object \n",
      " 2   Price               float64\n",
      " 3   User_id             object \n",
      " 4   profileName         object \n",
      " 5   review/helpfulness  object \n",
      " 6   review/score        float64\n",
      " 7   review/time         int64  \n",
      " 8   review/summary      object \n",
      " 9   review/text         object \n",
      "dtypes: float64(2), int64(1), object(7)\n",
      "memory usage: 228.9+ MB\n"
     ]
    }
   ],
   "source": [
    "amz_ratings.info()"
   ]
  },
  {
   "cell_type": "markdown",
   "id": "729b9d8b",
   "metadata": {},
   "source": [
    "Seems that all data is in the correct format except for review/time"
   ]
  },
  {
   "cell_type": "code",
   "execution_count": 5,
   "id": "37b18559-5edc-4647-abcc-59ba02838666",
   "metadata": {},
   "outputs": [
    {
     "data": {
      "text/html": [
       "<div>\n",
       "<style scoped>\n",
       "    .dataframe tbody tr th:only-of-type {\n",
       "        vertical-align: middle;\n",
       "    }\n",
       "\n",
       "    .dataframe tbody tr th {\n",
       "        vertical-align: top;\n",
       "    }\n",
       "\n",
       "    .dataframe thead th {\n",
       "        text-align: right;\n",
       "    }\n",
       "</style>\n",
       "<table border=\"1\" class=\"dataframe\">\n",
       "  <thead>\n",
       "    <tr style=\"text-align: right;\">\n",
       "      <th></th>\n",
       "      <th>Id</th>\n",
       "      <th>Title</th>\n",
       "      <th>Price</th>\n",
       "      <th>User_id</th>\n",
       "      <th>profileName</th>\n",
       "      <th>review/helpfulness</th>\n",
       "      <th>review/score</th>\n",
       "      <th>review/time</th>\n",
       "      <th>review/summary</th>\n",
       "      <th>review/text</th>\n",
       "    </tr>\n",
       "  </thead>\n",
       "  <tbody>\n",
       "    <tr>\n",
       "      <th>0</th>\n",
       "      <td>1882931173</td>\n",
       "      <td>Its Only Art If Its Well Hung!</td>\n",
       "      <td>NaN</td>\n",
       "      <td>AVCGYZL8FQQTD</td>\n",
       "      <td>Jim of Oz \"jim-of-oz\"</td>\n",
       "      <td>7/7</td>\n",
       "      <td>4.0</td>\n",
       "      <td>940636800</td>\n",
       "      <td>Nice collection of Julie Strain images</td>\n",
       "      <td>This is only for Julie Strain fans. It's a col...</td>\n",
       "    </tr>\n",
       "    <tr>\n",
       "      <th>1</th>\n",
       "      <td>0826414346</td>\n",
       "      <td>Dr. Seuss: American Icon</td>\n",
       "      <td>NaN</td>\n",
       "      <td>A30TK6U7DNS82R</td>\n",
       "      <td>Kevin Killian</td>\n",
       "      <td>10/10</td>\n",
       "      <td>5.0</td>\n",
       "      <td>1095724800</td>\n",
       "      <td>Really Enjoyed It</td>\n",
       "      <td>I don't care much for Dr. Seuss but after read...</td>\n",
       "    </tr>\n",
       "    <tr>\n",
       "      <th>2</th>\n",
       "      <td>0826414346</td>\n",
       "      <td>Dr. Seuss: American Icon</td>\n",
       "      <td>NaN</td>\n",
       "      <td>A3UH4UZ4RSVO82</td>\n",
       "      <td>John Granger</td>\n",
       "      <td>10/11</td>\n",
       "      <td>5.0</td>\n",
       "      <td>1078790400</td>\n",
       "      <td>Essential for every personal and Public Library</td>\n",
       "      <td>If people become the books they read and if \"t...</td>\n",
       "    </tr>\n",
       "    <tr>\n",
       "      <th>3</th>\n",
       "      <td>0826414346</td>\n",
       "      <td>Dr. Seuss: American Icon</td>\n",
       "      <td>NaN</td>\n",
       "      <td>A2MVUWT453QH61</td>\n",
       "      <td>Roy E. Perry \"amateur philosopher\"</td>\n",
       "      <td>7/7</td>\n",
       "      <td>4.0</td>\n",
       "      <td>1090713600</td>\n",
       "      <td>Phlip Nel gives silly Seuss a serious treatment</td>\n",
       "      <td>Theodore Seuss Geisel (1904-1991), aka &amp;quot;D...</td>\n",
       "    </tr>\n",
       "    <tr>\n",
       "      <th>4</th>\n",
       "      <td>0826414346</td>\n",
       "      <td>Dr. Seuss: American Icon</td>\n",
       "      <td>NaN</td>\n",
       "      <td>A22X4XUPKF66MR</td>\n",
       "      <td>D. H. Richards \"ninthwavestore\"</td>\n",
       "      <td>3/3</td>\n",
       "      <td>4.0</td>\n",
       "      <td>1107993600</td>\n",
       "      <td>Good academic overview</td>\n",
       "      <td>Philip Nel - Dr. Seuss: American IconThis is b...</td>\n",
       "    </tr>\n",
       "  </tbody>\n",
       "</table>\n",
       "</div>"
      ],
      "text/plain": [
       "           Id                           Title  Price         User_id  \\\n",
       "0  1882931173  Its Only Art If Its Well Hung!    NaN   AVCGYZL8FQQTD   \n",
       "1  0826414346        Dr. Seuss: American Icon    NaN  A30TK6U7DNS82R   \n",
       "2  0826414346        Dr. Seuss: American Icon    NaN  A3UH4UZ4RSVO82   \n",
       "3  0826414346        Dr. Seuss: American Icon    NaN  A2MVUWT453QH61   \n",
       "4  0826414346        Dr. Seuss: American Icon    NaN  A22X4XUPKF66MR   \n",
       "\n",
       "                          profileName review/helpfulness  review/score  \\\n",
       "0               Jim of Oz \"jim-of-oz\"                7/7           4.0   \n",
       "1                       Kevin Killian              10/10           5.0   \n",
       "2                        John Granger              10/11           5.0   \n",
       "3  Roy E. Perry \"amateur philosopher\"                7/7           4.0   \n",
       "4     D. H. Richards \"ninthwavestore\"                3/3           4.0   \n",
       "\n",
       "   review/time                                   review/summary  \\\n",
       "0    940636800           Nice collection of Julie Strain images   \n",
       "1   1095724800                                Really Enjoyed It   \n",
       "2   1078790400  Essential for every personal and Public Library   \n",
       "3   1090713600  Phlip Nel gives silly Seuss a serious treatment   \n",
       "4   1107993600                           Good academic overview   \n",
       "\n",
       "                                         review/text  \n",
       "0  This is only for Julie Strain fans. It's a col...  \n",
       "1  I don't care much for Dr. Seuss but after read...  \n",
       "2  If people become the books they read and if \"t...  \n",
       "3  Theodore Seuss Geisel (1904-1991), aka &quot;D...  \n",
       "4  Philip Nel - Dr. Seuss: American IconThis is b...  "
      ]
     },
     "execution_count": 5,
     "metadata": {},
     "output_type": "execute_result"
    }
   ],
   "source": [
    "amz_ratings.head()"
   ]
  },
  {
   "cell_type": "markdown",
   "id": "5b738010",
   "metadata": {},
   "source": [
    "-> Questions/Notes:\n",
    "- what is review/helpfulness? helpfulness rating of the review \n",
    "    - this doesn't seem relevant for our analysis\n",
    "- price is NA for some observations\n",
    "    - how many?\n",
    "    - could this be an issue for our analysis?\n",
    "- what is review/time? time of given the review \n",
    "    - doesn't seem relevant for our analysis but it will need to be converted in datetime if we want to use it"
   ]
  },
  {
   "cell_type": "markdown",
   "id": "d277c725",
   "metadata": {},
   "source": [
    "#### 2.1 Title as identifier of the ratings"
   ]
  },
  {
   "cell_type": "markdown",
   "id": "5f2117f8",
   "metadata": {},
   "source": [
    "How many titles are available?"
   ]
  },
  {
   "cell_type": "code",
   "execution_count": 6,
   "id": "df4ee379",
   "metadata": {},
   "outputs": [
    {
     "name": "stdout",
     "output_type": "stream",
     "text": [
      "212,404\n"
     ]
    }
   ],
   "source": [
    "# Count number of tiles\n",
    "print(f\"{amz_ratings['Title'].unique().shape[0]:,}\")"
   ]
  },
  {
   "cell_type": "code",
   "execution_count": 7,
   "id": "38f04787",
   "metadata": {},
   "outputs": [],
   "source": [
    "# Make titles lower case to avoid false duplicates\n",
    "amz_ratings['Title'] = ratings_cleaning_steps.text_in_lower_case(amz_ratings, 'Title')"
   ]
  },
  {
   "cell_type": "code",
   "execution_count": 8,
   "id": "3132d020",
   "metadata": {},
   "outputs": [
    {
     "name": "stdout",
     "output_type": "stream",
     "text": [
      "209,457\n"
     ]
    }
   ],
   "source": [
    "# Count number of tiles now that they are all in lower case\n",
    "print(f\"{amz_ratings['Title'].unique().shape[0]:,}\")"
   ]
  },
  {
   "cell_type": "markdown",
   "id": "0f123f8c",
   "metadata": {},
   "source": [
    "-> Questions: does this number match the number of titles available in the amazon_books dataset?"
   ]
  },
  {
   "cell_type": "markdown",
   "id": "d3b84768",
   "metadata": {},
   "source": [
    "### 2.2 Missing values"
   ]
  },
  {
   "cell_type": "markdown",
   "id": "564e37dd",
   "metadata": {},
   "source": [
    "Which columns contain missing values?"
   ]
  },
  {
   "cell_type": "code",
   "execution_count": 9,
   "id": "6d2c01ff",
   "metadata": {},
   "outputs": [
    {
     "data": {
      "text/plain": [
       "Id                          0\n",
       "Title                     208\n",
       "Price                 2518829\n",
       "User_id                561787\n",
       "profileName            561905\n",
       "review/helpfulness          0\n",
       "review/score                0\n",
       "review/time                 0\n",
       "review/summary            407\n",
       "review/text                 8\n",
       "dtype: int64"
      ]
     },
     "execution_count": 9,
     "metadata": {},
     "output_type": "execute_result"
    }
   ],
   "source": [
    "amz_ratings.isna().sum()"
   ]
  },
  {
   "cell_type": "markdown",
   "id": "6403267f",
   "metadata": {},
   "source": [
    "-> Questions/notes:\n",
    "- there are some entries with a missing title\n",
    "    - these need to be dropped\n",
    "- price is missing for many entries \n",
    "    - is this problematic for our analysis?\n",
    "    - is it possible to fill this information with other prices for the same title?\n",
    "- not a big issue if user id and profile names are missing\n",
    "- good that score is not missing for any title\n",
    "- missing review summary and text should not be an issue"
   ]
  },
  {
   "cell_type": "markdown",
   "id": "2d4bc4eb",
   "metadata": {},
   "source": [
    "#### 2.2.1 Title"
   ]
  },
  {
   "cell_type": "markdown",
   "id": "eed5a376",
   "metadata": {},
   "source": [
    "There are 208 reviews with a missing title.\n",
    "These will be dropped as it won't be possible to match them with the other dataset"
   ]
  },
  {
   "cell_type": "code",
   "execution_count": 10,
   "id": "f122f54c",
   "metadata": {},
   "outputs": [],
   "source": [
    "# Remove na titles with function designed for the EDA\n",
    "amz_ratings = ratings_cleaning_steps.remove_na_titles(\n",
    "    amz_ratings, \n",
    "    'Title')"
   ]
  },
  {
   "cell_type": "code",
   "execution_count": 11,
   "id": "6df0b66b",
   "metadata": {},
   "outputs": [
    {
     "data": {
      "text/plain": [
       "0"
      ]
     },
     "execution_count": 11,
     "metadata": {},
     "output_type": "execute_result"
    }
   ],
   "source": [
    "# Check that na titles have been removed\n",
    "amz_ratings[amz_ratings['Title'].isna()]['Title'].count()"
   ]
  },
  {
   "cell_type": "code",
   "execution_count": 12,
   "id": "2113731d",
   "metadata": {},
   "outputs": [
    {
     "name": "stdout",
     "output_type": "stream",
     "text": [
      "209,456\n"
     ]
    }
   ],
   "source": [
    "# Count number of tiles\n",
    "print(f\"{amz_ratings['Title'].unique().shape[0]:,}\")"
   ]
  },
  {
   "cell_type": "markdown",
   "id": "d799c579",
   "metadata": {},
   "source": [
    "-> Questions/Note:\n",
    "- issue sorted"
   ]
  },
  {
   "cell_type": "markdown",
   "id": "d041a7df",
   "metadata": {},
   "source": [
    "#### 2.2.2 Price\n",
    "- How many titles have at least one review with a missing price?\n",
    "- How many titles have only NA prices?"
   ]
  },
  {
   "cell_type": "code",
   "execution_count": 20,
   "id": "ada9e6da",
   "metadata": {},
   "outputs": [],
   "source": [
    "def aggregate_df(\n",
    "            df,\n",
    "            group_by_columns,\n",
    "            col_to_aggregate,\n",
    "            operation,\n",
    "            new_name_for_col_aggregated):\n",
    "      if operation == 'average':\n",
    "          return pd.DataFrame(\n",
    "               df.groupby(group_by_columns)[col_to_aggregate].mean()\n",
    "                    ).reset_index().rename(\n",
    "                         columns = {col_to_aggregate: new_name_for_col_aggregated})\n",
    "      if operation == 'median':\n",
    "          return pd.DataFrame(\n",
    "               df.groupby(group_by_columns)[col_to_aggregate].median()\n",
    "                    ).reset_index().rename(\n",
    "                         columns = {col_to_aggregate: new_name_for_col_aggregated})\n",
    "      if operation == 'count':\n",
    "          return pd.DataFrame(\n",
    "               df.groupby(group_by_columns)[col_to_aggregate].count()\n",
    "                    ).reset_index().rename(\n",
    "                         columns = {col_to_aggregate: new_name_for_col_aggregated})\n",
    "\n",
    "count_ratings = aggregate_df(\n",
    "    df = amz_ratings,\n",
    "    group_by_columns = 'Title',\n",
    "    col_to_aggregate = 'review/score',\n",
    "    operation = 'count',\n",
    "    new_name_for_col_aggregated= 'reviews number'\n",
    ")"
   ]
  },
  {
   "cell_type": "code",
   "execution_count": 25,
   "id": "60e189c4",
   "metadata": {},
   "outputs": [
    {
     "ename": "NameError",
     "evalue": "name 'pd' is not defined",
     "output_type": "error",
     "traceback": [
      "\u001b[1;31m---------------------------------------------------------------------------\u001b[0m",
      "\u001b[1;31mNameError\u001b[0m                                 Traceback (most recent call last)",
      "Cell \u001b[1;32mIn[25], line 6\u001b[0m\n\u001b[0;32m      2\u001b[0m \u001b[38;5;28;01mfrom\u001b[39;00m \u001b[38;5;21;01mEDA_functions\u001b[39;00m \u001b[38;5;28;01mimport\u001b[39;00m ratings_cleaning_steps\n\u001b[0;32m      3\u001b[0m \u001b[38;5;66;03m# 1\u001b[39;00m\n\u001b[0;32m      4\u001b[0m \u001b[38;5;66;03m# Number of ratings per title\u001b[39;00m\n\u001b[1;32m----> 6\u001b[0m count_ratings \u001b[38;5;241m=\u001b[39m \u001b[43mratings_cleaning_steps\u001b[49m\u001b[38;5;241;43m.\u001b[39;49m\u001b[43maggregate_df\u001b[49m\u001b[43m(\u001b[49m\n\u001b[0;32m      7\u001b[0m \u001b[43m    \u001b[49m\u001b[43mdf\u001b[49m\u001b[43m \u001b[49m\u001b[38;5;241;43m=\u001b[39;49m\u001b[43m \u001b[49m\u001b[43mamz_ratings\u001b[49m\u001b[43m,\u001b[49m\n\u001b[0;32m      8\u001b[0m \u001b[43m    \u001b[49m\u001b[43mgroup_by_columns\u001b[49m\u001b[43m \u001b[49m\u001b[38;5;241;43m=\u001b[39;49m\u001b[43m \u001b[49m\u001b[38;5;124;43m'\u001b[39;49m\u001b[38;5;124;43mTitle\u001b[39;49m\u001b[38;5;124;43m'\u001b[39;49m\u001b[43m,\u001b[49m\n\u001b[0;32m      9\u001b[0m \u001b[43m    \u001b[49m\u001b[43mcol_to_aggregate\u001b[49m\u001b[43m \u001b[49m\u001b[38;5;241;43m=\u001b[39;49m\u001b[43m \u001b[49m\u001b[38;5;124;43m'\u001b[39;49m\u001b[38;5;124;43mreview/score\u001b[39;49m\u001b[38;5;124;43m'\u001b[39;49m\u001b[43m,\u001b[49m\n\u001b[0;32m     10\u001b[0m \u001b[43m    \u001b[49m\u001b[43moperation\u001b[49m\u001b[43m \u001b[49m\u001b[38;5;241;43m=\u001b[39;49m\u001b[43m \u001b[49m\u001b[38;5;124;43m'\u001b[39;49m\u001b[38;5;124;43mcount\u001b[39;49m\u001b[38;5;124;43m'\u001b[39;49m\u001b[43m,\u001b[49m\n\u001b[0;32m     11\u001b[0m \u001b[43m    \u001b[49m\u001b[43mnew_name_for_col_aggregated\u001b[49m\u001b[38;5;241;43m=\u001b[39;49m\u001b[43m \u001b[49m\u001b[38;5;124;43m'\u001b[39;49m\u001b[38;5;124;43mreviews number\u001b[39;49m\u001b[38;5;124;43m'\u001b[39;49m\n\u001b[0;32m     12\u001b[0m \u001b[43m)\u001b[49m\n",
      "File \u001b[1;32mc:\\Users\\margherita.ferrara\\Documents\\CodeOp group project\\Group-project\\EDA_functions\\ratings_cleaning_steps.py:33\u001b[0m, in \u001b[0;36maggregate_df\u001b[1;34m(df, group_by_columns, col_to_aggregate, operation, new_name_for_col_aggregated)\u001b[0m\n\u001b[0;32m     28\u001b[0m     \u001b[38;5;28;01mreturn\u001b[39;00m pd\u001b[38;5;241m.\u001b[39mDataFrame(\n\u001b[0;32m     29\u001b[0m          df\u001b[38;5;241m.\u001b[39mgroupby(group_by_columns)[col_to_aggregate]\u001b[38;5;241m.\u001b[39mmedian()\n\u001b[0;32m     30\u001b[0m               )\u001b[38;5;241m.\u001b[39mreset_index()\u001b[38;5;241m.\u001b[39mrename(\n\u001b[0;32m     31\u001b[0m                    columns \u001b[38;5;241m=\u001b[39m {col_to_aggregate: new_name_for_col_aggregated})\n\u001b[0;32m     32\u001b[0m \u001b[38;5;28;01mif\u001b[39;00m operation \u001b[38;5;241m==\u001b[39m \u001b[38;5;124m'\u001b[39m\u001b[38;5;124mcount\u001b[39m\u001b[38;5;124m'\u001b[39m:\n\u001b[1;32m---> 33\u001b[0m     \u001b[38;5;28;01mreturn\u001b[39;00m \u001b[43mpd\u001b[49m\u001b[38;5;241m.\u001b[39mDataFrame(\n\u001b[0;32m     34\u001b[0m          df\u001b[38;5;241m.\u001b[39mgroupby(group_by_columns)[col_to_aggregate]\u001b[38;5;241m.\u001b[39mcount()\n\u001b[0;32m     35\u001b[0m               )\u001b[38;5;241m.\u001b[39mreset_index()\u001b[38;5;241m.\u001b[39mrename(\n\u001b[0;32m     36\u001b[0m                    columns \u001b[38;5;241m=\u001b[39m {col_to_aggregate: new_name_for_col_aggregated})\n",
      "\u001b[1;31mNameError\u001b[0m: name 'pd' is not defined"
     ]
    }
   ],
   "source": [
    "# Create a dataset where we count the number of reviews and the number of reviews with missing price\n",
    "from EDA_functions import ratings_cleaning_steps\n",
    "# 1\n",
    "# Number of ratings per title\n",
    "\n",
    "count_ratings = ratings_cleaning_steps.aggregate_df(\n",
    "    df = amz_ratings,\n",
    "    group_by_columns = 'Title',\n",
    "    col_to_aggregate = 'review/score',\n",
    "    operation = 'count',\n",
    "    new_name_for_col_aggregated= 'reviews number'\n",
    ")"
   ]
  },
  {
   "cell_type": "code",
   "execution_count": null,
   "id": "0f108ade",
   "metadata": {},
   "outputs": [],
   "source": [
    "# Create a dataset where we count the number of reviews and the number of reviews with missing price\n",
    "\n",
    "# 1\n",
    "# Number of ratings per title\n",
    "\n",
    "count_ratings = ratings_cleaning_steps.aggregate_df(\n",
    "    df = amz_ratings,\n",
    "    group_by_columns = 'Title',\n",
    "    col_to_aggregate = 'review/score',\n",
    "    operation = 'count',\n",
    "    new_name_for_col_aggregated= 'reviews number'\n",
    ")\n",
    "\n",
    "\n",
    "count_ratings = pd.DataFrame(\n",
    "    amz_ratings.groupby('Title')['review/score'].count()\n",
    ").reset_index()\n",
    "\n",
    "# Rename column for clarity\n",
    "count_ratings = count_ratings.rename(\n",
    "    columns = {'review/score' : 'reviews number'}\n",
    ")\n",
    "\n",
    "# 2\n",
    "# Number of ratings with na price\n",
    "na_prices = pd.DataFrame(\n",
    "    amz_ratings[amz_ratings['Price'].isna()].groupby('Title')['Id'].count()\n",
    ").reset_index()\n",
    "\n",
    "# Rename columns for clarity\n",
    "na_prices = na_prices.rename(\n",
    "    columns = {'Id' : 'missing prices'}\n",
    ")\n",
    "\n",
    "# 3 Average rating\n",
    "avg_ratings = pd.DataFrame(\n",
    "    amz_ratings.groupby('Title')['review/score'].mean()\n",
    "    ).reset_index()\n",
    "\n",
    "# Rename average rating\n",
    "avg_ratings = avg_ratings.rename(\n",
    "    columns= {'review/score' : 'average rating'}\n",
    ")\n",
    "\n",
    "# Merge the two datasets\n",
    "ratings_per_title_and_na_prices = pd.merge(\n",
    "   count_ratings,\n",
    "   na_prices,\n",
    "   on= ['Title'],\n",
    "   how = 'left'\n",
    ")\n",
    "\n",
    "# titles with no missing price are indicated with NA 'percentage missing prices', replace these with 0\n",
    "ratings_per_title_and_na_prices['missing prices'] = ratings_per_title_and_na_prices['missing prices'].fillna(0)\n",
    "\n",
    "\n",
    "# Calculate % of entries with missing prices for each title\n",
    "ratings_per_title_and_na_prices['percentage missing prices'] = ratings_per_title_and_na_prices['missing prices']/ratings_per_title_and_na_prices['reviews number']"
   ]
  },
  {
   "cell_type": "code",
   "execution_count": null,
   "id": "d67f9d04",
   "metadata": {},
   "outputs": [],
   "source": [
    "bin_size = 0.1\n",
    "n_bins = int(1/bin_size)+1\n",
    "\n",
    "\n",
    "fig = go.Figure()\n",
    "histogram_trace = go.Histogram(\n",
    "        x = ratings_per_title_and_na_prices['percentage missing prices'],\n",
    "        xbins=dict(\n",
    "            # start = ratings_per_title_and_na_prices['percentage missing prices'].min(), \n",
    "            # end = ratings_per_title_and_na_prices['percentage missing prices'].max(), \n",
    "            size = bin_size),\n",
    "        name = \"% of ratings with missing price\")\n",
    "\n",
    "# Compute the counts for each bin\n",
    "counts, bins = np.histogram(\n",
    "    ratings_per_title_and_na_prices['percentage missing prices'], \n",
    "    bins=n_bins)\n",
    "\n",
    "counts = [c/ratings_per_title_and_na_prices['Title'].count() for c in counts]\n",
    "# Format the counts with thousands separator\n",
    "formatted_counts = [f\"{count:.2%}\" for count in counts]\n",
    "\n",
    "# Add the counts as text to the bars\n",
    "histogram_trace.text = formatted_counts\n",
    "\n",
    "# Add the histogram trace to the figure\n",
    "fig.add_trace(histogram_trace)\n",
    "\n",
    "fig.update_layout(\n",
    "    title_text=\"Distribution of book titles based on % of ratings with missing price\",\n",
    "    title_font_size=20,\n",
    "    title_x=0.5,\n",
    "    title_y=0.95,\n",
    "    yaxis_title=\"Number of titles\",\n",
    "    xaxis_title = \"% of ratings with missing price\",\n",
    "    annotations=[\n",
    "        dict(\n",
    "            x=0,\n",
    "            y=-0.2,\n",
    "            xref=\"paper\",\n",
    "            yref=\"paper\",\n",
    "            text=f\"Total number of books is {ratings_per_title_and_na_prices['Title'].count():,}\",\n",
    "            showarrow=False,\n",
    "            font=dict(size=12)\n",
    "        )\n",
    "    ]\n",
    ")\n",
    "\n",
    "fig.show()"
   ]
  },
  {
   "cell_type": "markdown",
   "id": "abfccafe",
   "metadata": {},
   "source": [
    "-> Questions/Note:\n",
    "- we may not be able to use price in the model"
   ]
  },
  {
   "cell_type": "markdown",
   "id": "85124ad8",
   "metadata": {},
   "source": [
    "### 2.3 Book ratings"
   ]
  },
  {
   "cell_type": "markdown",
   "id": "9cf0f799",
   "metadata": {},
   "source": [
    "#### 2.3.1 Distribution of books based on the number of ratings they received"
   ]
  },
  {
   "cell_type": "code",
   "execution_count": null,
   "id": "9b763cc1",
   "metadata": {},
   "outputs": [],
   "source": [
    "# Create dataset to zoom on obs with ratings bwloe the 75th percentile\n",
    "perc_75 = count_ratings['reviews number'].quantile(0.75)\n",
    "no_outliers_count_ratings = count_ratings[\n",
    "    (count_ratings['reviews number'] <= perc_75)]"
   ]
  },
  {
   "cell_type": "code",
   "execution_count": null,
   "id": "dcd05220",
   "metadata": {},
   "outputs": [],
   "source": [
    "# Create subplots\n",
    "fig = make_subplots(\n",
    "    rows=1, \n",
    "    cols=2)\n",
    "\n",
    "\n",
    "# Plot boxplots of full dataset\n",
    "fig.add_trace(\n",
    "    go.Box(y=count_ratings['reviews number'], \n",
    "           name='Number of ratings per title',\n",
    "           showlegend=False),\n",
    "    row = 1,\n",
    "    col=1\n",
    "    )\n",
    "\n",
    "# Plot boxplots excluding data with ratings > 2.5 std deviation\n",
    "fig.add_trace(\n",
    "    go.Box(y=no_outliers_count_ratings['reviews number'], \n",
    "           name='Number of ratings per title (excluding outliers)',\n",
    "           showlegend=False),\n",
    "    row = 1,\n",
    "    col=2\n",
    "    )\n",
    "\n",
    "# Update layout to add titles\n",
    "fig.update_layout(\n",
    "    title_text=\"Boxplots of number of ratings per book\",\n",
    "    title_font_size=24,\n",
    "    title_x=0.5,\n",
    "    title_y=0.95,\n",
    "    yaxis_title=\"Number of Ratings\"\n",
    ")\n",
    "\n",
    "fig.show()\n"
   ]
  },
  {
   "cell_type": "markdown",
   "id": "88f5a2b8",
   "metadata": {},
   "source": [
    "-> Questions/notes:\n",
    "Few books have a high number of ratings, while 75th percent of the books have between 1 and 8 ratings.\n",
    "Question: do we want to take only those books with high number of ratings?\n",
    "For example below is the number of books with at least 100 reviews:"
   ]
  },
  {
   "cell_type": "code",
   "execution_count": null,
   "id": "816b5d81",
   "metadata": {},
   "outputs": [],
   "source": [
    "print(f\"Number of books with at least 100 ratings:{count_ratings[count_ratings['reviews number'] >= 100]['reviews number'].count(): ,}\")"
   ]
  },
  {
   "cell_type": "markdown",
   "id": "f3947ef8",
   "metadata": {},
   "source": [
    "#### 2.3.2 Distribution of the average rating"
   ]
  },
  {
   "cell_type": "code",
   "execution_count": null,
   "id": "c02f73ae",
   "metadata": {},
   "outputs": [],
   "source": [
    "# Set up number of bins\n",
    "n_bins = 5\n",
    "\n",
    "# Create a new figure\n",
    "fig = go.Figure()\n",
    "\n",
    "# Add histogram trace to the figure with 10 bins\n",
    "histogram_trace = go.Histogram(x=avg_ratings['average rating'], \n",
    "                               nbinsx=n_bins, \n",
    "                               name=\"avg rating distribution\")\n",
    "\n",
    "# Compute the counts for each bin\n",
    "counts, bins = np.histogram(\n",
    "    avg_ratings['average rating'], \n",
    "    bins=n_bins)\n",
    "\n",
    "# Format the counts with thousands separator\n",
    "formatted_counts = [f\"{count:,}\" for count in counts]\n",
    "\n",
    "# Add the counts as text to the bars\n",
    "histogram_trace.text = formatted_counts\n",
    "\n",
    "# Add the histogram trace to the figure\n",
    "fig.add_trace(histogram_trace)\n",
    "\n",
    "# Update layout\n",
    "fig.update_layout(\n",
    "    title_text=\"Distribution of book titles based on average rating\",\n",
    "    title_font_size=20,\n",
    "    title_x=0.5,\n",
    "    title_y=0.95,\n",
    "    yaxis_title=\"Number of titles\",\n",
    "    xaxis_title=\"Average rating\",\n",
    "    annotations=[\n",
    "        dict(\n",
    "            x=0,\n",
    "            y=-0.2,\n",
    "            xref=\"paper\",\n",
    "            yref=\"paper\",\n",
    "            text=f\"Total number of books is {avg_ratings['Title'].count():,}\",\n",
    "            showarrow=False,\n",
    "            font=dict(size=12)\n",
    "        )\n",
    "    ]\n",
    ")\n",
    "\n",
    "# Show the figure\n",
    "fig.show()\n"
   ]
  },
  {
   "cell_type": "markdown",
   "id": "a3c70493",
   "metadata": {},
   "source": [
    "-> Questions/notes:\n",
    "- most books have a 4 and 5 rating\n",
    "    - could this skewed ditribution impact our analysis?"
   ]
  }
 ],
 "metadata": {
  "kernelspec": {
   "display_name": "Python 3 (ipykernel)",
   "language": "python",
   "name": "python3"
  },
  "language_info": {
   "codemirror_mode": {
    "name": "ipython",
    "version": 3
   },
   "file_extension": ".py",
   "mimetype": "text/x-python",
   "name": "python",
   "nbconvert_exporter": "python",
   "pygments_lexer": "ipython3",
   "version": "3.11.5"
  }
 },
 "nbformat": 4,
 "nbformat_minor": 5
}
