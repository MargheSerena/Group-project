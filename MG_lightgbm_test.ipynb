{
 "cells": [
  {
   "cell_type": "markdown",
   "id": "6dce3a85-2c8b-4ed4-94bc-163c3d88442a",
   "metadata": {
    "editable": true,
    "slideshow": {
     "slide_type": ""
    },
    "tags": []
   },
   "source": [
    "# Lightgbm model test notebook"
   ]
  },
  {
   "cell_type": "code",
   "execution_count": 4,
   "id": "0b963b4c-86d6-42df-b80f-9f31aa489d9e",
   "metadata": {
    "scrolled": true
   },
   "outputs": [
    {
     "name": "stdout",
     "output_type": "stream",
     "text": [
      "Running `brew update --auto-update`...\n",
      "\u0007\u001b[34m==>\u001b[0m \u001b[1mHomebrew collects anonymous analytics.\u001b[0m\n",
      "\u001b[1mRead the analytics documentation (and how to opt-out) here:\n",
      "  \u001b[4mhttps://docs.brew.sh/Analytics\u001b[24m\u001b[0m\n",
      "No analytics have been recorded yet (nor will be during this `brew` run).\n",
      "\n",
      "\u001b[34m==>\u001b[0m \u001b[1mHomebrew is run entirely by unpaid volunteers. Please consider donating:\u001b[0m\n",
      "  \u001b[4mhttps://github.com/Homebrew/brew#donations\u001b[24m\n",
      "\n",
      "\u001b[34m==>\u001b[0m \u001b[1mAuto-updated Homebrew!\u001b[0m\n",
      "Updated 2 taps (homebrew/core and homebrew/cask).\n",
      "\u001b[34m==>\u001b[0m \u001b[1mNew Formulae\u001b[0m\n",
      "actions-batch              jtbl                       prjtrellis\n",
      "appwrite                   k8sgpt                     proto\n",
      "asmfmt                     kin                        protoc-gen-js\n",
      "autobrr                    kiota                      ratchet\n",
      "bluez                      ktfmt                      rathole\n",
      "bpftop                     kubeshark                  rattler-build\n",
      "c-blosc2                   kubetui                    rawdog\n",
      "c3c                        libnsbmp                   redict\n",
      "c4core                     libnsgif                   robin-map\n",
      "cargo-fuzz                 liborigin                  rsyncy\n",
      "cargo-llvm-cov             libscfg                    rtabmap\n",
      "cekit                      libspelling                ruby@3.2\n",
      "cmake-language-server      libsql                     scala@3.3\n",
      "cotp                       libwapcaplet               scnlib\n",
      "csvlens                    limesuite                  seam\n",
      "deadfinder                 lsusb-laniksj              senpai\n",
      "dhall-toml                 magic-wormhole.rs          sigi\n",
      "dissent                    manim                      sqlboiler\n",
      "doltgres                   mantra                     srgn\n",
      "dotslash                   mariadb@11.2               ssh3\n",
      "edbrowse                   mdsh                       sshpass\n",
      "edgevpn                    mlx                        steamguard-cli\n",
      "envio                      mmdbinspect                sugarjar\n",
      "erlang_ls                  moon                       sui\n",
      "flowpipe                   mtm                        tartufo\n",
      "g-ls                       mubeng                     taskopen\n",
      "gimmecert                  navidrome                  terrapin-scanner\n",
      "git-grab                   ncmdump                    tfautomv\n",
      "git-split-diffs            neosync                    tomlplusplus\n",
      "gitu                       netaddr                    typstfmt\n",
      "glasskube                  netsurf-buildsystem        urlscan\n",
      "gnmic                      nmail                      uv\n",
      "go@1.21                    noseyparker                valkey\n",
      "gptscript                  nowplaying-cli             veilid\n",
      "greenmask                  npm-check-updates          vfox\n",
      "halp                       openjph                    vrc-get\n",
      "helm-docs                  overarch                   vulkan-profiles\n",
      "helm-ls                    overtls                    vulkan-volk\n",
      "hopscotch-map              pass-import                wasmedge\n",
      "icloudpd                   pawk                       whisperkit-cli\n",
      "ignite                     phodav                     wstunnel\n",
      "ingress2gateway            pivit                      xcode-build-server\n",
      "inlyne                     pkl                        yo\n",
      "jnv                        podman-tui                 zigmod\n",
      "jot                        policy_sentry              zipkin\n",
      "\u001b[34m==>\u001b[0m \u001b[1mNew Casks\u001b[0m\n",
      "acreom                                   jyutping\n",
      "amneziavpn                               kit\n",
      "apidog-europe                            lightburn\n",
      "aqua                                     lookaway\n",
      "arctic                                   loungy\n",
      "arturia-software-center                  lunarbar\n",
      "bitbox                                   lyricsfinder\n",
      "bugdom2                                  markedit\n",
      "cahier                                   motion\n",
      "capcut                                   mumuplayer\n",
      "cleanclip                                nightshade\n",
      "cleanupbuddy                             notesollama\n",
      "clearvpn                                 nperf\n",
      "deelay                                   nrfutil\n",
      "dnsmonitor                               ollamac\n",
      "domzilla-caffeine                        openthesaurus-deutsch\n",
      "dosbox-staging                           overlayed\n",
      "easydevo                                 phoenix-code\n",
      "elecom-mouse-util                        pile\n",
      "emby                                     posture-pal\n",
      "endless-sky-high-dpi                     prettyclean\n",
      "fixkey                                   proton-mail\n",
      "freeshow                                 qdirstat\n",
      "fujifilm-x-raw-studio                    segger-ozone\n",
      "galaxybudsclient                         shadow-bot\n",
      "gitbutler                                starnet2\n",
      "godspeed                                 stashpad\n",
      "hancom-docs                              steinberg-activation-manager\n",
      "ia-markdown-dictionary                   taccy\n",
      "ia-presenter                             theiaide\n",
      "ibkr                                     timelapze\n",
      "insomnium                                upscayl\n",
      "instantview                              wakatime\n",
      "ireal-pro                                wifiman\n",
      "irpf2024                                 xcodepilot\n",
      "jamie                                    yes24-ebook\n",
      "jan                                      youlean-loudness-meter\n",
      "jordanbaird-ice                          znote\n",
      "juxtacode\n",
      "\n",
      "\u001b[33mWarning:\u001b[0m Treating cmake as a formula. For the cask, use homebrew/cask/cmake or specify the `--cask` flag.\n",
      "\u001b[34m==>\u001b[0m \u001b[1mDownloading https://ghcr.io/v2/homebrew/core/cmake/manifests/3.29.1\u001b[0m\n",
      "######################################################################### 100.0%\n",
      "\u001b[32m==>\u001b[0m \u001b[1mFetching \u001b[32mcmake\u001b[39m\u001b[0m\n",
      "\u001b[34m==>\u001b[0m \u001b[1mDownloading https://ghcr.io/v2/homebrew/core/cmake/blobs/sha256:8d9b7d484d37\u001b[0m\n",
      "######################################################################### 100.0%\n",
      "\u001b[34m==>\u001b[0m \u001b[1mDownloading https://ghcr.io/v2/homebrew/core/libomp/manifests/18.1.3\u001b[0m\n",
      "######################################################################### 100.0%\n",
      "\u001b[32m==>\u001b[0m \u001b[1mFetching \u001b[32mlibomp\u001b[39m\u001b[0m\n",
      "\u001b[34m==>\u001b[0m \u001b[1mDownloading https://ghcr.io/v2/homebrew/core/libomp/blobs/sha256:c5fe36d638c\u001b[0m\n",
      "######################################################################### 100.0%\n",
      "\u001b[34m==>\u001b[0m \u001b[1mPouring cmake--3.29.1.arm64_sonoma.bottle.tar.gz\u001b[0m\n",
      "\u001b[34m==>\u001b[0m \u001b[1mCaveats\u001b[0m\n",
      "To install the CMake documentation, run:\n",
      "  brew install cmake-docs\n",
      "\n",
      "Emacs Lisp files have been installed to:\n",
      "  /opt/homebrew/share/emacs/site-lisp/cmake\n",
      "\u001b[34m==>\u001b[0m \u001b[1mSummary\u001b[0m\n",
      "🍺  /opt/homebrew/Cellar/cmake/3.29.1: 3,384 files, 55.5MB\n",
      "\u001b[34m==>\u001b[0m \u001b[1mRunning `brew cleanup cmake`...\u001b[0m\n",
      "Disable this behaviour by setting HOMEBREW_NO_INSTALL_CLEANUP.\n",
      "Hide these hints with HOMEBREW_NO_ENV_HINTS (see `man brew`).\n",
      "\u001b[34m==>\u001b[0m \u001b[1mPouring libomp--18.1.3.arm64_sonoma.bottle.tar.gz\u001b[0m\n",
      "\u001b[34m==>\u001b[0m \u001b[1mCaveats\u001b[0m\n",
      "libomp is keg-only, which means it was not symlinked into /opt/homebrew,\n",
      "because it can override GCC headers and result in broken builds.\n",
      "\n",
      "For compilers to find libomp you may need to set:\n",
      "  export LDFLAGS=\"-L/opt/homebrew/opt/libomp/lib\"\n",
      "  export CPPFLAGS=\"-I/opt/homebrew/opt/libomp/include\"\n",
      "\u001b[34m==>\u001b[0m \u001b[1mSummary\u001b[0m\n",
      "🍺  /opt/homebrew/Cellar/libomp/18.1.3: 8 files, 1.7MB\n",
      "\u001b[34m==>\u001b[0m \u001b[1mRunning `brew cleanup libomp`...\u001b[0m\n",
      "\u001b[32m==>\u001b[0m \u001b[1m`brew cleanup` has not been run in the last 30 days, running now...\u001b[0m\n",
      "Disable this behaviour by setting HOMEBREW_NO_INSTALL_CLEANUP.\n",
      "Hide these hints with HOMEBREW_NO_ENV_HINTS (see `man brew`).\n",
      "\u001b[32m==>\u001b[0m \u001b[1mCaveats\u001b[0m\n",
      "\u001b[34m==>\u001b[0m \u001b[1mcmake\u001b[0m\n",
      "To install the CMake documentation, run:\n",
      "  brew install cmake-docs\n",
      "\n",
      "Emacs Lisp files have been installed to:\n",
      "  /opt/homebrew/share/emacs/site-lisp/cmake\n",
      "\u001b[34m==>\u001b[0m \u001b[1mlibomp\u001b[0m\n",
      "libomp is keg-only, which means it was not symlinked into /opt/homebrew,\n",
      "because it can override GCC headers and result in broken builds.\n",
      "\n",
      "For compilers to find libomp you may need to set:\n",
      "  export LDFLAGS=\"-L/opt/homebrew/opt/libomp/lib\"\n",
      "  export CPPFLAGS=\"-I/opt/homebrew/opt/libomp/include\"\n",
      "Collecting lightgbm\n",
      "  Using cached lightgbm-4.3.0.tar.gz (1.7 MB)\n",
      "  Installing build dependencies ... \u001b[?25ldone\n",
      "\u001b[?25h  Getting requirements to build wheel ... \u001b[?25ldone\n",
      "\u001b[?25h  Installing backend dependencies ... \u001b[?25ldone\n",
      "\u001b[?25h  Preparing metadata (pyproject.toml) ... \u001b[?25ldone\n",
      "\u001b[?25hRequirement already satisfied: numpy in /Users/meganguidry/miniconda3/lib/python3.11/site-packages (from lightgbm) (1.26.2)\n",
      "Requirement already satisfied: scipy in /Users/meganguidry/miniconda3/lib/python3.11/site-packages (from lightgbm) (1.11.4)\n",
      "Building wheels for collected packages: lightgbm\n",
      "  Building wheel for lightgbm (pyproject.toml) ... \u001b[?25ldone\n",
      "\u001b[?25h  Created wheel for lightgbm: filename=lightgbm-4.3.0-py3-none-macosx_14_0_arm64.whl size=1408561 sha256=f41d5429c95b85a12b9d20a736177f8e99bebe21685f628fa5cedb6c4fefe176\n",
      "  Stored in directory: /Users/meganguidry/Library/Caches/pip/wheels/f4/d1/f4/3cd66516e5a05b0879846879dfb06e5a087f453adb405a5999\n",
      "Successfully built lightgbm\n",
      "Installing collected packages: lightgbm\n",
      "Successfully installed lightgbm-4.3.0\n"
     ]
    }
   ],
   "source": [
    "# !brew install cmake libomp\n",
    "# !pip install lightgbm"
   ]
  },
  {
   "cell_type": "code",
   "execution_count": 2,
   "id": "f6441738-00a4-467a-bc02-d7da68c6056b",
   "metadata": {
    "editable": true,
    "slideshow": {
     "slide_type": ""
    },
    "tags": []
   },
   "outputs": [],
   "source": [
    "import numpy as np # linear algebra\n",
    "import pandas as pd # data processing, CSV file I/O (e.g. pd.read_csv)\n",
    "import matplotlib.pyplot as plt # data visualization\n",
    "import seaborn as sns # statistical data visualization\n",
    "\n",
    "import lightgbm as lgb\n"
   ]
  },
  {
   "cell_type": "code",
   "execution_count": 2,
   "id": "a348d070-d86f-49f3-8c1a-7a6aa2bbf3d3",
   "metadata": {
    "editable": true,
    "slideshow": {
     "slide_type": ""
    },
    "tags": []
   },
   "outputs": [],
   "source": [
    "X_train_full_df = pd.read_csv(\"X_train_NMF_topics.csv\")\n",
    "X_test_full_df = pd.read_csv(\"X_test_NMF_topics.csv\")"
   ]
  },
  {
   "cell_type": "code",
   "execution_count": 3,
   "id": "ce60fbc7-9c0d-428b-8235-6c81e506b284",
   "metadata": {},
   "outputs": [],
   "source": [
    "pd.set_option('display.max_columns', 500)"
   ]
  },
  {
   "cell_type": "markdown",
   "id": "0580c7bb-ab81-429d-8b0f-5881618e5c7f",
   "metadata": {},
   "source": [
    "## In this test the target variable will be \"weighted rating\""
   ]
  },
  {
   "cell_type": "markdown",
   "id": "b89dae6e-1d91-41af-b84e-aaf3b56a1aae",
   "metadata": {},
   "source": [
    "### Definining X_train, X_test, y_train, y_test"
   ]
  },
  {
   "cell_type": "code",
   "execution_count": 4,
   "id": "ae2093e2-c866-41f1-b6f9-f6fd85c8f82c",
   "metadata": {},
   "outputs": [],
   "source": [
    "columns_to_drop = [\"Title\",\"description\",\"authors\",\"image\",\n",
    "                   \"previewLink\",\"publisher\",\"infoLink\",\"categories\",\n",
    "                   \"index\",\"reviews number\",\"average rating\",\n",
    "                   \"median rating\",\"min review date_x\",\"min review date_y\",\n",
    "                   \"weighted rating\",\"date\",\"description_language\",\"tokens\"]\n",
    "\n",
    "X_train = X_train_full_df.drop(columns_to_drop, axis = 1)\n",
    "X_test = X_test_full_df.drop(columns_to_drop, axis = 1)\n",
    "\n",
    "# change the year feature to an integer\n",
    "X_train[\"year\"] = X_train[\"year\"].astype(int)\n",
    "X_test[\"year\"] = X_test[\"year\"].astype(int)\n",
    "\n",
    "y_train = X_train_full_df[\"weighted rating\"]\n",
    "y_test = X_test_full_df[\"weighted rating\"]"
   ]
  },
  {
   "cell_type": "markdown",
   "id": "ed41c2f4-0513-47ef-a8ed-bc9098a724e7",
   "metadata": {},
   "source": [
    "### Hyperparameters for lightgbm"
   ]
  },
  {
   "cell_type": "code",
   "execution_count": 6,
   "id": "3561127b-e9c9-419b-bc8b-1595d48b5e74",
   "metadata": {},
   "outputs": [],
   "source": [
    "hyper_params = {\n",
    "    'task': 'train',\n",
    "    'boosting_type': 'gbdt',\n",
    "    'objective': 'regression',\n",
    "    'metric': ['l1','l2'],\n",
    "    'learning_rate': 0.005,\n",
    "    'feature_fraction': 0.9,\n",
    "    'bagging_fraction': 0.7,\n",
    "    'bagging_freq': 10,\n",
    "    'verbose': 0,\n",
    "    \"max_depth\": 8,\n",
    "    \"num_leaves\": 128,  \n",
    "    \"max_bin\": 512,\n",
    "    \"num_iterations\": 100000\n",
    "}"
   ]
  },
  {
   "cell_type": "code",
   "execution_count": 7,
   "id": "28af9e27-4f28-4dc2-8999-871466883251",
   "metadata": {},
   "outputs": [],
   "source": [
    "# hyper_params = {\n",
    "#     'task': 'train',\n",
    "#     'boosting_type': 'gbdt',\n",
    "#     'objective': 'regression',\n",
    "#     'metric': ['l1','l2'],\n",
    "#     'learning_rate': 0.1, # Changed to default\n",
    "#     'verbose': 0,\n",
    "#     \"max_depth\": 8,\n",
    "#     \"num_leaves\": 10,  \n",
    "# }\n",
    "\n",
    "hyper_params = {\n",
    "    'task': 'train',\n",
    "    'objective': 'regression',\n",
    "    'metric': ['l1','l2'],\n",
    "    'learning_rate': 0.1, # Changed to default\n",
    "    'verbose': 0,\n",
    "    \"max_depth\": 8,\n",
    "    \"num_leaves\": 10,  \n",
    "}"
   ]
  },
  {
   "cell_type": "code",
   "execution_count": null,
   "id": "32e8f800-5344-4425-802b-d4aa3cfcc446",
   "metadata": {},
   "outputs": [
    {
     "name": "stderr",
     "output_type": "stream",
     "text": [
      "/Users/meganguidry/miniconda3/lib/python3.11/site-packages/lightgbm/engine.py:172: UserWarning: Found `num_boost_round` in params. Will use it instead of argument\n",
      "  _log_warning(f\"Found `{alias}` in params. Will use it instead of argument\")\n"
     ]
    },
    {
     "name": "stdout",
     "output_type": "stream",
     "text": [
      "[LightGBM] [Warning] num_iterations is set=100, num_boost_round=100 will be ignored. Current value: num_iterations=100\n",
      "[LightGBM] [Warning] Accuracy may be bad since you didn't explicitly set num_leaves OR 2^max_depth > num_leaves. (num_leaves=31).\n"
     ]
    }
   ],
   "source": [
    "# # Constructing the lgbdataset object\n",
    "# lgb_train = lgb.Dataset(X_train, y_train)\n",
    "# lgb_eval = lgb.Dataset(X_test, y_test, reference=lgb_train)\n",
    "\n",
    "\n",
    "# Instantiating and fitting the lightgbm model\n",
    "# gbm = lgb.LGBMRegressor(hyper_params)\n",
    "\n",
    "gbm = lgb.LGBMRegressor(\n",
    "    boosting_type= 'gbdt',\n",
    "    n_estimators=100,\n",
    "    learning_rate= 0.1, # Changed to default\n",
    "    num_boost_round=100,\n",
    "    max_depth=5\n",
    ")\n",
    "\n",
    "# gbm.fit(X_train, y_train,\n",
    "#         eval_set=[(X_test, y_test)],\n",
    "#         eval_metric='l1',\n",
    "#         callbacks=[\n",
    "#         lgb.early_stopping(stopping_rounds=3),\n",
    "#     ])\n",
    "\n",
    "gbm.fit(X_train, y_train)"
   ]
  },
  {
   "cell_type": "code",
   "execution_count": null,
   "id": "deb2d551-8794-47be-a089-fd4e38847626",
   "metadata": {},
   "outputs": [],
   "source": []
  },
  {
   "cell_type": "code",
   "execution_count": 6,
   "id": "5010f73c-253f-44f7-81db-f63a9537ed9f",
   "metadata": {},
   "outputs": [],
   "source": [
    "# # Constructing the lgbdataset object\n",
    "# lgb_train = lgb.Dataset(X_train, y_train)\n",
    "# lgb_eval = lgb.Dataset(X_test, y_test, reference=lgb_train)\n",
    "\n",
    "# # changed early stopping rounds from 30 to 5\n",
    "\n",
    "# lgb_model = lgb.train(hyper_params,\n",
    "#                       train_set=lgb_train,\n",
    "#                       valid_sets=lgb_eval,\n",
    "#                       callbacks=[lgb.early_stopping(stopping_rounds=5)]\n",
    "#                      )"
   ]
  },
  {
   "cell_type": "code",
   "execution_count": null,
   "id": "59f41559-34c3-4269-9c19-3943b6952736",
   "metadata": {},
   "outputs": [],
   "source": []
  },
  {
   "cell_type": "code",
   "execution_count": null,
   "id": "9027267c-18f6-481d-91c0-ab8e0f2bb93a",
   "metadata": {},
   "outputs": [],
   "source": []
  },
  {
   "cell_type": "code",
   "execution_count": null,
   "id": "1c3e3900-3ef5-4cee-95b1-42ed97309e03",
   "metadata": {},
   "outputs": [],
   "source": []
  },
  {
   "cell_type": "code",
   "execution_count": null,
   "id": "e0badabb-be1a-4ab2-83f1-1bf8c6275c8a",
   "metadata": {},
   "outputs": [],
   "source": []
  },
  {
   "cell_type": "code",
   "execution_count": null,
   "id": "fccb993a-a689-47ea-b4a9-1429657ebc7a",
   "metadata": {},
   "outputs": [],
   "source": []
  },
  {
   "cell_type": "code",
   "execution_count": null,
   "id": "79b7b150-9d43-4547-823a-560b601af797",
   "metadata": {},
   "outputs": [],
   "source": [
    "y_pred = gbm.predict(X_train, num_iteration=bgm.best_iteration_)"
   ]
  },
  {
   "cell_type": "code",
   "execution_count": null,
   "id": "f0066f8b-3e86-45bc-8693-5871e5a9ae7f",
   "metadata": {},
   "outputs": [],
   "source": [
    "# Basic RMSE\n",
    "print('The rmse of prediction is:', round(mean_squared_log_error(y_pred, y_train) ** 0.5, 5))"
   ]
  },
  {
   "cell_type": "code",
   "execution_count": null,
   "id": "74ec2679-5c29-4fb3-9dc8-44c8f12229ed",
   "metadata": {},
   "outputs": [],
   "source": []
  },
  {
   "cell_type": "code",
   "execution_count": null,
   "id": "76d2a053-e732-463a-acb5-26e5ff2ac46a",
   "metadata": {},
   "outputs": [],
   "source": []
  },
  {
   "cell_type": "code",
   "execution_count": null,
   "id": "130df16e-ff64-41e3-941e-e36c738d5d1c",
   "metadata": {},
   "outputs": [],
   "source": []
  },
  {
   "cell_type": "code",
   "execution_count": null,
   "id": "534462a4-bc1a-45f5-97f4-d3d1ffdb8156",
   "metadata": {},
   "outputs": [],
   "source": []
  },
  {
   "cell_type": "code",
   "execution_count": null,
   "id": "45e4ba3a-b0de-4e2d-bc1e-90b941f60007",
   "metadata": {},
   "outputs": [],
   "source": []
  },
  {
   "cell_type": "markdown",
   "id": "a0e95b4f-c4af-4df2-8cc7-26d64a9d5156",
   "metadata": {},
   "source": [
    "# CATBOOST!"
   ]
  },
  {
   "cell_type": "code",
   "execution_count": 3,
   "id": "0ac6e276-1162-4b2c-8e35-af2206ce1ff5",
   "metadata": {
    "editable": true,
    "slideshow": {
     "slide_type": ""
    },
    "tags": []
   },
   "outputs": [],
   "source": [
    "# Define X_train, X_test, y_train, y_test for the datasets with AND without the book cover encodings:\n",
    "\n",
    "# Import NMF_topics datafiles (these do not include image embeddings\n",
    "X_train_full_df = pd.read_csv(\"X_train_NMF_topics.csv\")\n",
    "X_test_full_df = pd.read_csv(\"X_test_NMF_topics.csv\")"
   ]
  },
  {
   "cell_type": "code",
   "execution_count": 5,
   "id": "7dd1b053-98f1-49fb-9a1a-3bcc3005a7ea",
   "metadata": {
    "editable": true,
    "slideshow": {
     "slide_type": ""
    },
    "tags": []
   },
   "outputs": [],
   "source": [
    "# Define the train/test split for the datasets that do not \n",
    "# include image embeddings:\n",
    "\n",
    "# Identify the columns that we do not want in our feature set:\n",
    "columns_to_drop = [\"Title\",\"description\",\"authors\",\"image\",\n",
    "                   \"previewLink\",\"publisher\",\"infoLink\",\"categories\",\n",
    "                   \"reviews number\",\"average rating\",\n",
    "                   \"median rating\",\"min review date_x\",\"min review date_y\",\n",
    "                   \"weighted rating\",\"date\",\"description_language\",\"tokens\"]\n",
    "\n",
    "# Remove the unwanted features:\n",
    "X_train_NOIMAGE = X_train_full_df.drop(columns_to_drop, axis = 1)\n",
    "X_test_NOIMAGE = X_test_full_df.drop(columns_to_drop, axis = 1)\n",
    "\n",
    "# change the year feature to an integer\n",
    "X_train_NOIMAGE[\"year\"] = X_train_NOIMAGE[\"year\"].astype(int)\n",
    "X_test_NOIMAGE[\"year\"] = X_test_NOIMAGE[\"year\"].astype(int)\n",
    "\n",
    "# Set the target variable\n",
    "y_train = X_train_full_df[\"weighted rating\"]\n",
    "y_test = X_test_full_df[\"weighted rating\"]\n",
    "\n",
    "# remember to drop index!!!"
   ]
  },
  {
   "cell_type": "code",
   "execution_count": 6,
   "id": "14fcc916-d5f8-477d-9a7c-bdceba2e7507",
   "metadata": {
    "editable": true,
    "slideshow": {
     "slide_type": ""
    },
    "tags": []
   },
   "outputs": [
    {
     "data": {
      "text/html": [
       "<div>\n",
       "<style scoped>\n",
       "    .dataframe tbody tr th:only-of-type {\n",
       "        vertical-align: middle;\n",
       "    }\n",
       "\n",
       "    .dataframe tbody tr th {\n",
       "        vertical-align: top;\n",
       "    }\n",
       "\n",
       "    .dataframe thead th {\n",
       "        text-align: right;\n",
       "    }\n",
       "</style>\n",
       "<table border=\"1\" class=\"dataframe\">\n",
       "  <thead>\n",
       "    <tr style=\"text-align: right;\">\n",
       "      <th></th>\n",
       "      <th>index</th>\n",
       "      <th>year</th>\n",
       "      <th>nostalgia</th>\n",
       "      <th>self-published/debut</th>\n",
       "      <th>story/anthology</th>\n",
       "      <th>womens_fiction</th>\n",
       "      <th>childrens_books</th>\n",
       "      <th>classic</th>\n",
       "      <th>family_drama</th>\n",
       "      <th>digital_books/recreations</th>\n",
       "      <th>...</th>\n",
       "      <th>reprint</th>\n",
       "      <th>bestselling_author</th>\n",
       "      <th>romance</th>\n",
       "      <th>unkonwn</th>\n",
       "      <th>teen</th>\n",
       "      <th>novel</th>\n",
       "      <th>world/war/historical_fiction</th>\n",
       "      <th>unknown</th>\n",
       "      <th>young_adult</th>\n",
       "      <th>coming_of_age</th>\n",
       "    </tr>\n",
       "  </thead>\n",
       "  <tbody>\n",
       "    <tr>\n",
       "      <th>0</th>\n",
       "      <td>3</td>\n",
       "      <td>2005</td>\n",
       "      <td>0.007321</td>\n",
       "      <td>0.000000</td>\n",
       "      <td>0.000000</td>\n",
       "      <td>0.0</td>\n",
       "      <td>0.000000</td>\n",
       "      <td>0.0</td>\n",
       "      <td>0.017810</td>\n",
       "      <td>0.0</td>\n",
       "      <td>...</td>\n",
       "      <td>0.001315</td>\n",
       "      <td>0.0</td>\n",
       "      <td>0.040636</td>\n",
       "      <td>0.0</td>\n",
       "      <td>0.000214</td>\n",
       "      <td>0.000000</td>\n",
       "      <td>0.010339</td>\n",
       "      <td>0.0</td>\n",
       "      <td>0.0</td>\n",
       "      <td>0.000000</td>\n",
       "    </tr>\n",
       "    <tr>\n",
       "      <th>1</th>\n",
       "      <td>24</td>\n",
       "      <td>2001</td>\n",
       "      <td>0.017931</td>\n",
       "      <td>0.000181</td>\n",
       "      <td>0.016551</td>\n",
       "      <td>0.0</td>\n",
       "      <td>0.011345</td>\n",
       "      <td>0.0</td>\n",
       "      <td>0.004711</td>\n",
       "      <td>0.0</td>\n",
       "      <td>...</td>\n",
       "      <td>0.000000</td>\n",
       "      <td>0.0</td>\n",
       "      <td>0.009457</td>\n",
       "      <td>0.0</td>\n",
       "      <td>0.000000</td>\n",
       "      <td>0.006398</td>\n",
       "      <td>0.000197</td>\n",
       "      <td>0.0</td>\n",
       "      <td>0.0</td>\n",
       "      <td>0.000621</td>\n",
       "    </tr>\n",
       "  </tbody>\n",
       "</table>\n",
       "<p>2 rows × 22 columns</p>\n",
       "</div>"
      ],
      "text/plain": [
       "   index  year  nostalgia  self-published/debut  story/anthology  \\\n",
       "0      3  2005   0.007321              0.000000         0.000000   \n",
       "1     24  2001   0.017931              0.000181         0.016551   \n",
       "\n",
       "   womens_fiction  childrens_books  classic  family_drama  \\\n",
       "0             0.0         0.000000      0.0      0.017810   \n",
       "1             0.0         0.011345      0.0      0.004711   \n",
       "\n",
       "   digital_books/recreations  ...   reprint  bestselling_author   romance  \\\n",
       "0                        0.0  ...  0.001315                 0.0  0.040636   \n",
       "1                        0.0  ...  0.000000                 0.0  0.009457   \n",
       "\n",
       "   unkonwn      teen     novel  world/war/historical_fiction  unknown  \\\n",
       "0      0.0  0.000214  0.000000                      0.010339      0.0   \n",
       "1      0.0  0.000000  0.006398                      0.000197      0.0   \n",
       "\n",
       "   young_adult  coming_of_age  \n",
       "0          0.0       0.000000  \n",
       "1          0.0       0.000621  \n",
       "\n",
       "[2 rows x 22 columns]"
      ]
     },
     "execution_count": 6,
     "metadata": {},
     "output_type": "execute_result"
    }
   ],
   "source": [
    "X_train_NOIMAGE.head(2)"
   ]
  },
  {
   "cell_type": "code",
   "execution_count": 7,
   "id": "42474f51-9a4f-4e27-ae79-51269e2eaa05",
   "metadata": {
    "editable": true,
    "slideshow": {
     "slide_type": ""
    },
    "tags": []
   },
   "outputs": [],
   "source": [
    "#Import dataset with embeddings\n",
    "title_embeddings_df = pd.read_pickle(\n",
    "    'original_data/English_fiction_pre_PCA_3_with_av_pool_embeddings')"
   ]
  },
  {
   "cell_type": "code",
   "execution_count": 8,
   "id": "892ab9e9-48f5-49a0-95af-024d46895d40",
   "metadata": {
    "editable": true,
    "slideshow": {
     "slide_type": ""
    },
    "tags": []
   },
   "outputs": [],
   "source": [
    "# Select only necessary features (features needed for merging)\n",
    "title_embeddings_df = title_embeddings_df[[\"index\", \"Title\", \"Embedding\"]]\n",
    "title_embeddings_df = title_embeddings_df.set_index(\"index\")"
   ]
  },
  {
   "cell_type": "code",
   "execution_count": 9,
   "id": "d5062a3f-c8b4-432e-875c-e1d7c37f4a20",
   "metadata": {
    "editable": true,
    "slideshow": {
     "slide_type": ""
    },
    "tags": []
   },
   "outputs": [],
   "source": [
    "# Convert array to columns\n",
    "embeddings_df = title_embeddings_df['Embedding'].apply(pd.Series)\n",
    "embeddings_df = embeddings_df.add_prefix('image_')"
   ]
  },
  {
   "cell_type": "code",
   "execution_count": 10,
   "id": "f8ec4807-6490-44b0-a51b-23399eb85c8b",
   "metadata": {
    "editable": true,
    "slideshow": {
     "slide_type": ""
    },
    "tags": []
   },
   "outputs": [],
   "source": [
    "# Now include images in the dataset:\n",
    "X_train_withIMAGE = X_train_NOIMAGE.merge(\n",
    "    embeddings_df,\n",
    "    left_on='index', \n",
    "    right_on=embeddings_df.index,\n",
    "    how = 'inner')\n",
    "\n",
    "X_test_withIMAGE = X_test_NOIMAGE.merge(\n",
    "    embeddings_df,\n",
    "    left_on='index', \n",
    "    right_on=embeddings_df.index,\n",
    "    how = 'inner')\n",
    "\n",
    "y_train_NOIMAGE = X_train_full_df[\"weighted rating\"]\n",
    "y_test_NOIMAGE = X_test_full_df[\"weighted rating\"]"
   ]
  },
  {
   "cell_type": "code",
   "execution_count": 11,
   "id": "63a59afd-8f12-4d11-b526-1698bb63d450",
   "metadata": {
    "editable": true,
    "slideshow": {
     "slide_type": ""
    },
    "tags": []
   },
   "outputs": [],
   "source": [
    "# Drop index from data before inserting into ML models:\n",
    "X_train_NOIMAGE = X_train_NOIMAGE.drop(\"index\", axis = 1)\n",
    "X_test_NOIMAGE = X_test_NOIMAGE.drop(\"index\", axis = 1)\n",
    "\n",
    "X_train_withIMAGE = X_train_withIMAGE.drop(\"index\", axis = 1)\n",
    "X_test_withIMAGE = X_test_withIMAGE.drop(\"index\", axis = 1)"
   ]
  },
  {
   "cell_type": "code",
   "execution_count": 108,
   "id": "3ef6559d-778a-4335-9824-39bda1a84246",
   "metadata": {
    "editable": true,
    "scrolled": true,
    "slideshow": {
     "slide_type": ""
    },
    "tags": []
   },
   "outputs": [],
   "source": [
    "# !pip install catboost"
   ]
  },
  {
   "cell_type": "code",
   "execution_count": null,
   "id": "98448ffc-6ff2-4637-b37d-b41a1aa16744",
   "metadata": {
    "editable": true,
    "scrolled": true,
    "slideshow": {
     "slide_type": ""
    },
    "tags": []
   },
   "outputs": [],
   "source": [
    "import catboost as cb\n",
    "import lightgbm as lgb\n",
    "from sklearn.metrics import mean_squared_error, mean_absolute_error\n",
    "\n",
    "# Build and fit a CatBoost regressor\n",
    "lgbm_reg = lgb.LGBMRegressor(n_estimators=100, learning_rate=0.1, max_depth=3, random_state=42)\n",
    "\n",
    "lgbm_reg.fit(X_train_withIMAGE, y_train)\n",
    "\n",
    "# Calculate the predictions on the test set\n",
    "pred =lgbm_reg.predict(X_test_withIMAGE)\n",
    "\n",
    "# Evaluate the performance using the RMSE\n",
    "rmse_lgbm = np.sqrt(mean_squared_error(y_test, pred))\n",
    "mse_lgbm = mean_squared_error(y_test, pred)\n",
    "print('MSE (CatBoost): {:.5f}'.format(mse_lgbm))\n",
    "print('RMSE (CatBoost): {:.5f}'.format(rmse_lgbm))"
   ]
  },
  {
   "cell_type": "code",
   "execution_count": null,
   "id": "653ccd71-0066-4f05-8f2e-b7de46b33ddc",
   "metadata": {},
   "outputs": [],
   "source": []
  },
  {
   "cell_type": "code",
   "execution_count": null,
   "id": "d85d3b7a-3971-45d7-9576-1de1885fd1b5",
   "metadata": {},
   "outputs": [],
   "source": []
  },
  {
   "cell_type": "code",
   "execution_count": null,
   "id": "fcd6b1c7-98bd-423e-8ec5-f03d8d964200",
   "metadata": {},
   "outputs": [],
   "source": []
  },
  {
   "cell_type": "code",
   "execution_count": 22,
   "id": "280f4118-51a8-42b6-b229-89d2b6143b45",
   "metadata": {
    "editable": true,
    "slideshow": {
     "slide_type": ""
    },
    "tags": []
   },
   "outputs": [],
   "source": [
    "import catboost as cb\n",
    "from sklearn.metrics import mean_squared_error, mean_absolute_error\n",
    "\n",
    "def catboost_execute(X_train,\n",
    "                     X_test,\n",
    "                     y_train,\n",
    "                     y_test,\n",
    "                     num_estimators,\n",
    "                     learn_rate,\n",
    "                     depth_max, \n",
    "                     reg_lambda_val\n",
    "                     ):\n",
    "    solution = {}\n",
    "    # Build and fit a CatBoost regressor\n",
    "    reg_cat = cb.CatBoostRegressor(n_estimators=num_estimators, \n",
    "                                   learning_rate=learn_rate, \n",
    "                                   max_depth=depth_max,\n",
    "                                   reg_lambda=reg_lambda_val,\n",
    "                                   random_state=42)\n",
    "    \n",
    "    reg_cat.fit(X_train, y_train)\n",
    "    \n",
    "    # Calculate the predictions on the test set\n",
    "    pred =reg_cat.predict(X_test)\n",
    "    \n",
    "    # Evaluate the performance using the RMSE\n",
    "    rmse_cat = np.sqrt(mean_squared_error(y_test, pred))\n",
    "    mse_cat = mean_squared_error(y_test, pred)\n",
    "    mae_cat = mean_absolute_error(y_test, pred)\n",
    "    print('MSE (CatBoost): {:.5f}'.format(mse_cat))\n",
    "    print('RMSE (CatBoost): {:.5f}'.format(rmse_cat))\n",
    "    \n",
    "    solution[\"MSE\"] = mse_cat\n",
    "    solution[\"RMSE\"] = rmse_cat\n",
    "    solution[\"MAE\"] = mae_cat\n",
    "    \n",
    "    return solution"
   ]
  },
  {
   "cell_type": "code",
   "execution_count": 25,
   "id": "e3441c4a-b7c2-43a0-95f9-9d95bbabfb4a",
   "metadata": {
    "editable": true,
    "slideshow": {
     "slide_type": ""
    },
    "tags": []
   },
   "outputs": [
    {
     "name": "stdout",
     "output_type": "stream",
     "text": [
      "0:\tlearn: 0.2071123\ttotal: 2.19ms\tremaining: 217ms\n",
      "1:\tlearn: 0.2066845\ttotal: 3.69ms\tremaining: 181ms\n",
      "2:\tlearn: 0.2063497\ttotal: 5.39ms\tremaining: 174ms\n",
      "3:\tlearn: 0.2060414\ttotal: 6.98ms\tremaining: 168ms\n",
      "4:\tlearn: 0.2058017\ttotal: 9.29ms\tremaining: 177ms\n",
      "5:\tlearn: 0.2055639\ttotal: 11.4ms\tremaining: 179ms\n",
      "6:\tlearn: 0.2053610\ttotal: 14ms\tremaining: 186ms\n",
      "7:\tlearn: 0.2051861\ttotal: 15.3ms\tremaining: 177ms\n",
      "8:\tlearn: 0.2050392\ttotal: 16.8ms\tremaining: 169ms\n",
      "9:\tlearn: 0.2048980\ttotal: 18.1ms\tremaining: 163ms\n",
      "10:\tlearn: 0.2047170\ttotal: 19.5ms\tremaining: 158ms\n",
      "11:\tlearn: 0.2045851\ttotal: 20.8ms\tremaining: 152ms\n",
      "12:\tlearn: 0.2044324\ttotal: 22.2ms\tremaining: 148ms\n",
      "13:\tlearn: 0.2043099\ttotal: 23.4ms\tremaining: 144ms\n",
      "14:\tlearn: 0.2041952\ttotal: 24.6ms\tremaining: 139ms\n",
      "15:\tlearn: 0.2041202\ttotal: 25.8ms\tremaining: 136ms\n",
      "16:\tlearn: 0.2040210\ttotal: 27ms\tremaining: 132ms\n",
      "17:\tlearn: 0.2038989\ttotal: 28.3ms\tremaining: 129ms\n",
      "18:\tlearn: 0.2038299\ttotal: 29.8ms\tremaining: 127ms\n",
      "19:\tlearn: 0.2037355\ttotal: 32.1ms\tremaining: 128ms\n",
      "20:\tlearn: 0.2036537\ttotal: 34.8ms\tremaining: 131ms\n",
      "21:\tlearn: 0.2035949\ttotal: 36.7ms\tremaining: 130ms\n",
      "22:\tlearn: 0.2035027\ttotal: 38.1ms\tremaining: 127ms\n",
      "23:\tlearn: 0.2034292\ttotal: 39.6ms\tremaining: 125ms\n",
      "24:\tlearn: 0.2033628\ttotal: 42.4ms\tremaining: 127ms\n",
      "25:\tlearn: 0.2033055\ttotal: 44.2ms\tremaining: 126ms\n",
      "26:\tlearn: 0.2032058\ttotal: 46ms\tremaining: 124ms\n",
      "27:\tlearn: 0.2031361\ttotal: 47.6ms\tremaining: 122ms\n",
      "28:\tlearn: 0.2030723\ttotal: 49ms\tremaining: 120ms\n",
      "29:\tlearn: 0.2030212\ttotal: 50.4ms\tremaining: 118ms\n",
      "30:\tlearn: 0.2029592\ttotal: 51.8ms\tremaining: 115ms\n",
      "31:\tlearn: 0.2028830\ttotal: 52.8ms\tremaining: 112ms\n",
      "32:\tlearn: 0.2028252\ttotal: 54.1ms\tremaining: 110ms\n",
      "33:\tlearn: 0.2027847\ttotal: 55.2ms\tremaining: 107ms\n",
      "34:\tlearn: 0.2027306\ttotal: 56.2ms\tremaining: 104ms\n",
      "35:\tlearn: 0.2026611\ttotal: 57.4ms\tremaining: 102ms\n",
      "36:\tlearn: 0.2026071\ttotal: 58.9ms\tremaining: 100ms\n",
      "37:\tlearn: 0.2025438\ttotal: 60.2ms\tremaining: 98.1ms\n",
      "38:\tlearn: 0.2024861\ttotal: 61.3ms\tremaining: 95.8ms\n",
      "39:\tlearn: 0.2024278\ttotal: 62.8ms\tremaining: 94.2ms\n",
      "40:\tlearn: 0.2023819\ttotal: 64.4ms\tremaining: 92.7ms\n",
      "41:\tlearn: 0.2023046\ttotal: 65.8ms\tremaining: 90.9ms\n",
      "42:\tlearn: 0.2022753\ttotal: 67.5ms\tremaining: 89.4ms\n",
      "43:\tlearn: 0.2022365\ttotal: 68.5ms\tremaining: 87.2ms\n",
      "44:\tlearn: 0.2022069\ttotal: 69.8ms\tremaining: 85.3ms\n",
      "45:\tlearn: 0.2021589\ttotal: 71ms\tremaining: 83.4ms\n",
      "46:\tlearn: 0.2021289\ttotal: 72.7ms\tremaining: 81.9ms\n",
      "47:\tlearn: 0.2020453\ttotal: 74.8ms\tremaining: 81ms\n",
      "48:\tlearn: 0.2019933\ttotal: 76.5ms\tremaining: 79.7ms\n",
      "49:\tlearn: 0.2019584\ttotal: 77.9ms\tremaining: 77.9ms\n",
      "50:\tlearn: 0.2019150\ttotal: 79.7ms\tremaining: 76.5ms\n",
      "51:\tlearn: 0.2018922\ttotal: 80.8ms\tremaining: 74.6ms\n",
      "52:\tlearn: 0.2018617\ttotal: 82.2ms\tremaining: 72.9ms\n",
      "53:\tlearn: 0.2018361\ttotal: 84.2ms\tremaining: 71.7ms\n",
      "54:\tlearn: 0.2018136\ttotal: 86.2ms\tremaining: 70.5ms\n",
      "55:\tlearn: 0.2017736\ttotal: 87.8ms\tremaining: 69ms\n",
      "56:\tlearn: 0.2017530\ttotal: 89.3ms\tremaining: 67.4ms\n",
      "57:\tlearn: 0.2017254\ttotal: 90.6ms\tremaining: 65.6ms\n",
      "58:\tlearn: 0.2016823\ttotal: 92ms\tremaining: 64ms\n",
      "59:\tlearn: 0.2016483\ttotal: 93.1ms\tremaining: 62.1ms\n",
      "60:\tlearn: 0.2015916\ttotal: 94.4ms\tremaining: 60.3ms\n",
      "61:\tlearn: 0.2015743\ttotal: 95.9ms\tremaining: 58.8ms\n",
      "62:\tlearn: 0.2015254\ttotal: 97.5ms\tremaining: 57.3ms\n",
      "63:\tlearn: 0.2014856\ttotal: 99.2ms\tremaining: 55.8ms\n",
      "64:\tlearn: 0.2014700\ttotal: 100ms\tremaining: 54.1ms\n",
      "65:\tlearn: 0.2014432\ttotal: 102ms\tremaining: 52.3ms\n",
      "66:\tlearn: 0.2014163\ttotal: 103ms\tremaining: 50.7ms\n",
      "67:\tlearn: 0.2013992\ttotal: 104ms\tremaining: 48.9ms\n",
      "68:\tlearn: 0.2013738\ttotal: 105ms\tremaining: 47.2ms\n",
      "69:\tlearn: 0.2013463\ttotal: 107ms\tremaining: 45.7ms\n",
      "70:\tlearn: 0.2013252\ttotal: 108ms\tremaining: 44.2ms\n",
      "71:\tlearn: 0.2013080\ttotal: 109ms\tremaining: 42.5ms\n",
      "72:\tlearn: 0.2012878\ttotal: 111ms\tremaining: 40.9ms\n",
      "73:\tlearn: 0.2012570\ttotal: 112ms\tremaining: 39.3ms\n",
      "74:\tlearn: 0.2012401\ttotal: 113ms\tremaining: 37.6ms\n",
      "75:\tlearn: 0.2011915\ttotal: 114ms\tremaining: 36.1ms\n",
      "76:\tlearn: 0.2011439\ttotal: 116ms\tremaining: 34.5ms\n",
      "77:\tlearn: 0.2011222\ttotal: 117ms\tremaining: 32.9ms\n",
      "78:\tlearn: 0.2011073\ttotal: 118ms\tremaining: 31.4ms\n",
      "79:\tlearn: 0.2010517\ttotal: 119ms\tremaining: 29.8ms\n",
      "80:\tlearn: 0.2010310\ttotal: 120ms\tremaining: 28.2ms\n",
      "81:\tlearn: 0.2010001\ttotal: 122ms\tremaining: 26.8ms\n",
      "82:\tlearn: 0.2009772\ttotal: 123ms\tremaining: 25.2ms\n",
      "83:\tlearn: 0.2009521\ttotal: 124ms\tremaining: 23.6ms\n",
      "84:\tlearn: 0.2009327\ttotal: 125ms\tremaining: 22ms\n",
      "85:\tlearn: 0.2008816\ttotal: 126ms\tremaining: 20.5ms\n",
      "86:\tlearn: 0.2008549\ttotal: 127ms\tremaining: 19ms\n",
      "87:\tlearn: 0.2008402\ttotal: 128ms\tremaining: 17.5ms\n",
      "88:\tlearn: 0.2008159\ttotal: 130ms\tremaining: 16ms\n",
      "89:\tlearn: 0.2007518\ttotal: 131ms\tremaining: 14.6ms\n",
      "90:\tlearn: 0.2007268\ttotal: 132ms\tremaining: 13.1ms\n",
      "91:\tlearn: 0.2006646\ttotal: 134ms\tremaining: 11.6ms\n",
      "92:\tlearn: 0.2006487\ttotal: 135ms\tremaining: 10.1ms\n",
      "93:\tlearn: 0.2006004\ttotal: 136ms\tremaining: 8.67ms\n",
      "94:\tlearn: 0.2005472\ttotal: 137ms\tremaining: 7.2ms\n",
      "95:\tlearn: 0.2005286\ttotal: 138ms\tremaining: 5.75ms\n",
      "96:\tlearn: 0.2005140\ttotal: 139ms\tremaining: 4.3ms\n",
      "97:\tlearn: 0.2004817\ttotal: 140ms\tremaining: 2.87ms\n",
      "98:\tlearn: 0.2004566\ttotal: 142ms\tremaining: 1.43ms\n",
      "99:\tlearn: 0.2004384\ttotal: 143ms\tremaining: 0us\n",
      "MSE (CatBoost): 0.04304\n",
      "RMSE (CatBoost): 0.20745\n"
     ]
    },
    {
     "data": {
      "text/plain": [
       "{'MSE': 0.04303574772664888,\n",
       " 'RMSE': 0.20745059104916735,\n",
       " 'MAE': 0.13340316107184907}"
      ]
     },
     "execution_count": 25,
     "metadata": {},
     "output_type": "execute_result"
    }
   ],
   "source": [
    "# default values 100, 0.1, 3\n",
    "\n",
    "catboost_execute(X_train_NOIMAGE,\n",
    "                 X_test_NOIMAGE,\n",
    "                 y_train,\n",
    "                 y_test,\n",
    "                 100,\n",
    "                 0.1,\n",
    "                 3,\n",
    "                 3)"
   ]
  },
  {
   "cell_type": "code",
   "execution_count": null,
   "id": "4f91b8fc-cc81-41cb-b2fd-d37efc15aad9",
   "metadata": {
    "editable": true,
    "slideshow": {
     "slide_type": ""
    },
    "tags": []
   },
   "outputs": [],
   "source": []
  },
  {
   "cell_type": "code",
   "execution_count": null,
   "id": "3a3b65e7-5a00-4540-95cc-861c8576775b",
   "metadata": {},
   "outputs": [],
   "source": []
  },
  {
   "cell_type": "code",
   "execution_count": null,
   "id": "7ef854b0-a4d3-499b-8a1e-269495b181c3",
   "metadata": {},
   "outputs": [],
   "source": []
  },
  {
   "cell_type": "code",
   "execution_count": null,
   "id": "e206c5b2-058f-4044-9bff-de339b89790f",
   "metadata": {},
   "outputs": [],
   "source": []
  },
  {
   "cell_type": "code",
   "execution_count": null,
   "id": "b5e0e84a-5357-4aa8-8967-3db6574eca75",
   "metadata": {},
   "outputs": [],
   "source": []
  },
  {
   "cell_type": "code",
   "execution_count": null,
   "id": "ed0ae77e-eab7-4c62-a500-b668e616d693",
   "metadata": {},
   "outputs": [],
   "source": []
  }
 ],
 "metadata": {
  "kernelspec": {
   "display_name": "Python 3 (ipykernel)",
   "language": "python",
   "name": "python3"
  },
  "language_info": {
   "codemirror_mode": {
    "name": "ipython",
    "version": 3
   },
   "file_extension": ".py",
   "mimetype": "text/x-python",
   "name": "python",
   "nbconvert_exporter": "python",
   "pygments_lexer": "ipython3",
   "version": "3.11.7"
  }
 },
 "nbformat": 4,
 "nbformat_minor": 5
}
