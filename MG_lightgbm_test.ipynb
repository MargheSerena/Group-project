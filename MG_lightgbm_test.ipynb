{
 "cells": [
  {
   "cell_type": "markdown",
   "id": "6dce3a85-2c8b-4ed4-94bc-163c3d88442a",
   "metadata": {
    "editable": true,
    "slideshow": {
     "slide_type": ""
    },
    "tags": []
   },
   "source": [
    "# Lightgbm model test notebook"
   ]
  },
  {
   "cell_type": "code",
   "execution_count": 4,
   "id": "0b963b4c-86d6-42df-b80f-9f31aa489d9e",
   "metadata": {
    "scrolled": true
   },
   "outputs": [
    {
     "name": "stdout",
     "output_type": "stream",
     "text": [
      "Running `brew update --auto-update`...\n",
      "\u0007\u001b[34m==>\u001b[0m \u001b[1mHomebrew collects anonymous analytics.\u001b[0m\n",
      "\u001b[1mRead the analytics documentation (and how to opt-out) here:\n",
      "  \u001b[4mhttps://docs.brew.sh/Analytics\u001b[24m\u001b[0m\n",
      "No analytics have been recorded yet (nor will be during this `brew` run).\n",
      "\n",
      "\u001b[34m==>\u001b[0m \u001b[1mHomebrew is run entirely by unpaid volunteers. Please consider donating:\u001b[0m\n",
      "  \u001b[4mhttps://github.com/Homebrew/brew#donations\u001b[24m\n",
      "\n",
      "\u001b[34m==>\u001b[0m \u001b[1mAuto-updated Homebrew!\u001b[0m\n",
      "Updated 2 taps (homebrew/core and homebrew/cask).\n",
      "\u001b[34m==>\u001b[0m \u001b[1mNew Formulae\u001b[0m\n",
      "actions-batch              jtbl                       prjtrellis\n",
      "appwrite                   k8sgpt                     proto\n",
      "asmfmt                     kin                        protoc-gen-js\n",
      "autobrr                    kiota                      ratchet\n",
      "bluez                      ktfmt                      rathole\n",
      "bpftop                     kubeshark                  rattler-build\n",
      "c-blosc2                   kubetui                    rawdog\n",
      "c3c                        libnsbmp                   redict\n",
      "c4core                     libnsgif                   robin-map\n",
      "cargo-fuzz                 liborigin                  rsyncy\n",
      "cargo-llvm-cov             libscfg                    rtabmap\n",
      "cekit                      libspelling                ruby@3.2\n",
      "cmake-language-server      libsql                     scala@3.3\n",
      "cotp                       libwapcaplet               scnlib\n",
      "csvlens                    limesuite                  seam\n",
      "deadfinder                 lsusb-laniksj              senpai\n",
      "dhall-toml                 magic-wormhole.rs          sigi\n",
      "dissent                    manim                      sqlboiler\n",
      "doltgres                   mantra                     srgn\n",
      "dotslash                   mariadb@11.2               ssh3\n",
      "edbrowse                   mdsh                       sshpass\n",
      "edgevpn                    mlx                        steamguard-cli\n",
      "envio                      mmdbinspect                sugarjar\n",
      "erlang_ls                  moon                       sui\n",
      "flowpipe                   mtm                        tartufo\n",
      "g-ls                       mubeng                     taskopen\n",
      "gimmecert                  navidrome                  terrapin-scanner\n",
      "git-grab                   ncmdump                    tfautomv\n",
      "git-split-diffs            neosync                    tomlplusplus\n",
      "gitu                       netaddr                    typstfmt\n",
      "glasskube                  netsurf-buildsystem        urlscan\n",
      "gnmic                      nmail                      uv\n",
      "go@1.21                    noseyparker                valkey\n",
      "gptscript                  nowplaying-cli             veilid\n",
      "greenmask                  npm-check-updates          vfox\n",
      "halp                       openjph                    vrc-get\n",
      "helm-docs                  overarch                   vulkan-profiles\n",
      "helm-ls                    overtls                    vulkan-volk\n",
      "hopscotch-map              pass-import                wasmedge\n",
      "icloudpd                   pawk                       whisperkit-cli\n",
      "ignite                     phodav                     wstunnel\n",
      "ingress2gateway            pivit                      xcode-build-server\n",
      "inlyne                     pkl                        yo\n",
      "jnv                        podman-tui                 zigmod\n",
      "jot                        policy_sentry              zipkin\n",
      "\u001b[34m==>\u001b[0m \u001b[1mNew Casks\u001b[0m\n",
      "acreom                                   jyutping\n",
      "amneziavpn                               kit\n",
      "apidog-europe                            lightburn\n",
      "aqua                                     lookaway\n",
      "arctic                                   loungy\n",
      "arturia-software-center                  lunarbar\n",
      "bitbox                                   lyricsfinder\n",
      "bugdom2                                  markedit\n",
      "cahier                                   motion\n",
      "capcut                                   mumuplayer\n",
      "cleanclip                                nightshade\n",
      "cleanupbuddy                             notesollama\n",
      "clearvpn                                 nperf\n",
      "deelay                                   nrfutil\n",
      "dnsmonitor                               ollamac\n",
      "domzilla-caffeine                        openthesaurus-deutsch\n",
      "dosbox-staging                           overlayed\n",
      "easydevo                                 phoenix-code\n",
      "elecom-mouse-util                        pile\n",
      "emby                                     posture-pal\n",
      "endless-sky-high-dpi                     prettyclean\n",
      "fixkey                                   proton-mail\n",
      "freeshow                                 qdirstat\n",
      "fujifilm-x-raw-studio                    segger-ozone\n",
      "galaxybudsclient                         shadow-bot\n",
      "gitbutler                                starnet2\n",
      "godspeed                                 stashpad\n",
      "hancom-docs                              steinberg-activation-manager\n",
      "ia-markdown-dictionary                   taccy\n",
      "ia-presenter                             theiaide\n",
      "ibkr                                     timelapze\n",
      "insomnium                                upscayl\n",
      "instantview                              wakatime\n",
      "ireal-pro                                wifiman\n",
      "irpf2024                                 xcodepilot\n",
      "jamie                                    yes24-ebook\n",
      "jan                                      youlean-loudness-meter\n",
      "jordanbaird-ice                          znote\n",
      "juxtacode\n",
      "\n",
      "\u001b[33mWarning:\u001b[0m Treating cmake as a formula. For the cask, use homebrew/cask/cmake or specify the `--cask` flag.\n",
      "\u001b[34m==>\u001b[0m \u001b[1mDownloading https://ghcr.io/v2/homebrew/core/cmake/manifests/3.29.1\u001b[0m\n",
      "######################################################################### 100.0%\n",
      "\u001b[32m==>\u001b[0m \u001b[1mFetching \u001b[32mcmake\u001b[39m\u001b[0m\n",
      "\u001b[34m==>\u001b[0m \u001b[1mDownloading https://ghcr.io/v2/homebrew/core/cmake/blobs/sha256:8d9b7d484d37\u001b[0m\n",
      "######################################################################### 100.0%\n",
      "\u001b[34m==>\u001b[0m \u001b[1mDownloading https://ghcr.io/v2/homebrew/core/libomp/manifests/18.1.3\u001b[0m\n",
      "######################################################################### 100.0%\n",
      "\u001b[32m==>\u001b[0m \u001b[1mFetching \u001b[32mlibomp\u001b[39m\u001b[0m\n",
      "\u001b[34m==>\u001b[0m \u001b[1mDownloading https://ghcr.io/v2/homebrew/core/libomp/blobs/sha256:c5fe36d638c\u001b[0m\n",
      "######################################################################### 100.0%\n",
      "\u001b[34m==>\u001b[0m \u001b[1mPouring cmake--3.29.1.arm64_sonoma.bottle.tar.gz\u001b[0m\n",
      "\u001b[34m==>\u001b[0m \u001b[1mCaveats\u001b[0m\n",
      "To install the CMake documentation, run:\n",
      "  brew install cmake-docs\n",
      "\n",
      "Emacs Lisp files have been installed to:\n",
      "  /opt/homebrew/share/emacs/site-lisp/cmake\n",
      "\u001b[34m==>\u001b[0m \u001b[1mSummary\u001b[0m\n",
      "🍺  /opt/homebrew/Cellar/cmake/3.29.1: 3,384 files, 55.5MB\n",
      "\u001b[34m==>\u001b[0m \u001b[1mRunning `brew cleanup cmake`...\u001b[0m\n",
      "Disable this behaviour by setting HOMEBREW_NO_INSTALL_CLEANUP.\n",
      "Hide these hints with HOMEBREW_NO_ENV_HINTS (see `man brew`).\n",
      "\u001b[34m==>\u001b[0m \u001b[1mPouring libomp--18.1.3.arm64_sonoma.bottle.tar.gz\u001b[0m\n",
      "\u001b[34m==>\u001b[0m \u001b[1mCaveats\u001b[0m\n",
      "libomp is keg-only, which means it was not symlinked into /opt/homebrew,\n",
      "because it can override GCC headers and result in broken builds.\n",
      "\n",
      "For compilers to find libomp you may need to set:\n",
      "  export LDFLAGS=\"-L/opt/homebrew/opt/libomp/lib\"\n",
      "  export CPPFLAGS=\"-I/opt/homebrew/opt/libomp/include\"\n",
      "\u001b[34m==>\u001b[0m \u001b[1mSummary\u001b[0m\n",
      "🍺  /opt/homebrew/Cellar/libomp/18.1.3: 8 files, 1.7MB\n",
      "\u001b[34m==>\u001b[0m \u001b[1mRunning `brew cleanup libomp`...\u001b[0m\n",
      "\u001b[32m==>\u001b[0m \u001b[1m`brew cleanup` has not been run in the last 30 days, running now...\u001b[0m\n",
      "Disable this behaviour by setting HOMEBREW_NO_INSTALL_CLEANUP.\n",
      "Hide these hints with HOMEBREW_NO_ENV_HINTS (see `man brew`).\n",
      "\u001b[32m==>\u001b[0m \u001b[1mCaveats\u001b[0m\n",
      "\u001b[34m==>\u001b[0m \u001b[1mcmake\u001b[0m\n",
      "To install the CMake documentation, run:\n",
      "  brew install cmake-docs\n",
      "\n",
      "Emacs Lisp files have been installed to:\n",
      "  /opt/homebrew/share/emacs/site-lisp/cmake\n",
      "\u001b[34m==>\u001b[0m \u001b[1mlibomp\u001b[0m\n",
      "libomp is keg-only, which means it was not symlinked into /opt/homebrew,\n",
      "because it can override GCC headers and result in broken builds.\n",
      "\n",
      "For compilers to find libomp you may need to set:\n",
      "  export LDFLAGS=\"-L/opt/homebrew/opt/libomp/lib\"\n",
      "  export CPPFLAGS=\"-I/opt/homebrew/opt/libomp/include\"\n",
      "Collecting lightgbm\n",
      "  Using cached lightgbm-4.3.0.tar.gz (1.7 MB)\n",
      "  Installing build dependencies ... \u001b[?25ldone\n",
      "\u001b[?25h  Getting requirements to build wheel ... \u001b[?25ldone\n",
      "\u001b[?25h  Installing backend dependencies ... \u001b[?25ldone\n",
      "\u001b[?25h  Preparing metadata (pyproject.toml) ... \u001b[?25ldone\n",
      "\u001b[?25hRequirement already satisfied: numpy in /Users/meganguidry/miniconda3/lib/python3.11/site-packages (from lightgbm) (1.26.2)\n",
      "Requirement already satisfied: scipy in /Users/meganguidry/miniconda3/lib/python3.11/site-packages (from lightgbm) (1.11.4)\n",
      "Building wheels for collected packages: lightgbm\n",
      "  Building wheel for lightgbm (pyproject.toml) ... \u001b[?25ldone\n",
      "\u001b[?25h  Created wheel for lightgbm: filename=lightgbm-4.3.0-py3-none-macosx_14_0_arm64.whl size=1408561 sha256=f41d5429c95b85a12b9d20a736177f8e99bebe21685f628fa5cedb6c4fefe176\n",
      "  Stored in directory: /Users/meganguidry/Library/Caches/pip/wheels/f4/d1/f4/3cd66516e5a05b0879846879dfb06e5a087f453adb405a5999\n",
      "Successfully built lightgbm\n",
      "Installing collected packages: lightgbm\n",
      "Successfully installed lightgbm-4.3.0\n"
     ]
    }
   ],
   "source": [
    "# !brew install cmake libomp\n",
    "# !pip install lightgbm"
   ]
  },
  {
   "cell_type": "code",
   "execution_count": 9,
   "id": "f6441738-00a4-467a-bc02-d7da68c6056b",
   "metadata": {
    "editable": true,
    "slideshow": {
     "slide_type": ""
    },
    "tags": []
   },
   "outputs": [],
   "source": [
    "import numpy as np # linear algebra\n",
    "import pandas as pd # data processing, CSV file I/O (e.g. pd.read_csv)\n",
    "import matplotlib.pyplot as plt # data visualization\n",
    "import seaborn as sns # statistical data visualization\n",
    "\n",
    "import lightgbm as lgb\n"
   ]
  },
  {
   "cell_type": "code",
   "execution_count": 10,
   "id": "a348d070-d86f-49f3-8c1a-7a6aa2bbf3d3",
   "metadata": {},
   "outputs": [],
   "source": [
    "X_train_full_df = pd.read_csv(\"X_train_NMF_topics.csv\")\n",
    "X_test_full_df = pd.read_csv(\"X_test_NMF_topics.csv\")"
   ]
  },
  {
   "cell_type": "code",
   "execution_count": 11,
   "id": "ce60fbc7-9c0d-428b-8235-6c81e506b284",
   "metadata": {},
   "outputs": [],
   "source": [
    "pd.set_option('display.max_columns', 500)"
   ]
  },
  {
   "cell_type": "markdown",
   "id": "0580c7bb-ab81-429d-8b0f-5881618e5c7f",
   "metadata": {},
   "source": [
    "## In this test the target variable will be \"weighted rating\""
   ]
  },
  {
   "cell_type": "markdown",
   "id": "b89dae6e-1d91-41af-b84e-aaf3b56a1aae",
   "metadata": {},
   "source": [
    "### Definining X_train, X_test, y_train, y_test"
   ]
  },
  {
   "cell_type": "code",
   "execution_count": 12,
   "id": "ae2093e2-c866-41f1-b6f9-f6fd85c8f82c",
   "metadata": {},
   "outputs": [],
   "source": [
    "columns_to_drop = [\"Title\",\"description\",\"authors\",\"image\",\n",
    "                   \"previewLink\",\"publisher\",\"infoLink\",\"categories\",\n",
    "                   \"index\",\"reviews number\",\"average rating\",\n",
    "                   \"median rating\",\"min review date_x\",\"min review date_y\",\n",
    "                   \"weighted rating\",\"date\",\"description_language\",\"tokens\"]\n",
    "\n",
    "X_train = X_train_full_df.drop(columns_to_drop, axis = 1)\n",
    "X_test = X_test_full_df.drop(columns_to_drop, axis = 1)\n",
    "\n",
    "# change the year feature to an integer\n",
    "X_train[\"year\"] = X_train[\"year\"].astype(int)\n",
    "X_test[\"year\"] = X_test[\"year\"].astype(int)\n",
    "\n",
    "y_train = X_train_full_df[\"weighted rating\"]\n",
    "y_test = X_test_full_df[\"weighted rating\"]"
   ]
  },
  {
   "cell_type": "markdown",
   "id": "ed41c2f4-0513-47ef-a8ed-bc9098a724e7",
   "metadata": {},
   "source": [
    "### Hyperparameters for lightgbm"
   ]
  },
  {
   "cell_type": "code",
   "execution_count": 6,
   "id": "3561127b-e9c9-419b-bc8b-1595d48b5e74",
   "metadata": {},
   "outputs": [],
   "source": [
    "hyper_params = {\n",
    "    'task': 'train',\n",
    "    'boosting_type': 'gbdt',\n",
    "    'objective': 'regression',\n",
    "    'metric': ['l1','l2'],\n",
    "    'learning_rate': 0.005,\n",
    "    'feature_fraction': 0.9,\n",
    "    'bagging_fraction': 0.7,\n",
    "    'bagging_freq': 10,\n",
    "    'verbose': 0,\n",
    "    \"max_depth\": 8,\n",
    "    \"num_leaves\": 128,  \n",
    "    \"max_bin\": 512,\n",
    "    \"num_iterations\": 100000\n",
    "}"
   ]
  },
  {
   "cell_type": "code",
   "execution_count": 7,
   "id": "28af9e27-4f28-4dc2-8999-871466883251",
   "metadata": {},
   "outputs": [],
   "source": [
    "# hyper_params = {\n",
    "#     'task': 'train',\n",
    "#     'boosting_type': 'gbdt',\n",
    "#     'objective': 'regression',\n",
    "#     'metric': ['l1','l2'],\n",
    "#     'learning_rate': 0.1, # Changed to default\n",
    "#     'verbose': 0,\n",
    "#     \"max_depth\": 8,\n",
    "#     \"num_leaves\": 10,  \n",
    "# }\n",
    "\n",
    "hyper_params = {\n",
    "    'task': 'train',\n",
    "    'objective': 'regression',\n",
    "    'metric': ['l1','l2'],\n",
    "    'learning_rate': 0.1, # Changed to default\n",
    "    'verbose': 0,\n",
    "    \"max_depth\": 8,\n",
    "    \"num_leaves\": 10,  \n",
    "}"
   ]
  },
  {
   "cell_type": "code",
   "execution_count": null,
   "id": "32e8f800-5344-4425-802b-d4aa3cfcc446",
   "metadata": {},
   "outputs": [
    {
     "name": "stderr",
     "output_type": "stream",
     "text": [
      "/Users/meganguidry/miniconda3/lib/python3.11/site-packages/lightgbm/engine.py:172: UserWarning: Found `num_boost_round` in params. Will use it instead of argument\n",
      "  _log_warning(f\"Found `{alias}` in params. Will use it instead of argument\")\n"
     ]
    },
    {
     "name": "stdout",
     "output_type": "stream",
     "text": [
      "[LightGBM] [Warning] num_iterations is set=100, num_boost_round=100 will be ignored. Current value: num_iterations=100\n",
      "[LightGBM] [Warning] Accuracy may be bad since you didn't explicitly set num_leaves OR 2^max_depth > num_leaves. (num_leaves=31).\n"
     ]
    }
   ],
   "source": [
    "# # Constructing the lgbdataset object\n",
    "# lgb_train = lgb.Dataset(X_train, y_train)\n",
    "# lgb_eval = lgb.Dataset(X_test, y_test, reference=lgb_train)\n",
    "\n",
    "\n",
    "# Instantiating and fitting the lightgbm model\n",
    "# gbm = lgb.LGBMRegressor(hyper_params)\n",
    "\n",
    "gbm = lgb.LGBMRegressor(\n",
    "    boosting_type= 'gbdt',\n",
    "    n_estimators=100,\n",
    "    learning_rate= 0.1, # Changed to default\n",
    "    num_boost_round=100,\n",
    "    max_depth=5\n",
    ")\n",
    "\n",
    "# gbm.fit(X_train, y_train,\n",
    "#         eval_set=[(X_test, y_test)],\n",
    "#         eval_metric='l1',\n",
    "#         callbacks=[\n",
    "#         lgb.early_stopping(stopping_rounds=3),\n",
    "#     ])\n",
    "\n",
    "gbm.fit(X_train, y_train)"
   ]
  },
  {
   "cell_type": "code",
   "execution_count": null,
   "id": "deb2d551-8794-47be-a089-fd4e38847626",
   "metadata": {},
   "outputs": [],
   "source": []
  },
  {
   "cell_type": "code",
   "execution_count": 6,
   "id": "5010f73c-253f-44f7-81db-f63a9537ed9f",
   "metadata": {},
   "outputs": [],
   "source": [
    "# # Constructing the lgbdataset object\n",
    "# lgb_train = lgb.Dataset(X_train, y_train)\n",
    "# lgb_eval = lgb.Dataset(X_test, y_test, reference=lgb_train)\n",
    "\n",
    "# # changed early stopping rounds from 30 to 5\n",
    "\n",
    "# lgb_model = lgb.train(hyper_params,\n",
    "#                       train_set=lgb_train,\n",
    "#                       valid_sets=lgb_eval,\n",
    "#                       callbacks=[lgb.early_stopping(stopping_rounds=5)]\n",
    "#                      )"
   ]
  },
  {
   "cell_type": "code",
   "execution_count": null,
   "id": "59f41559-34c3-4269-9c19-3943b6952736",
   "metadata": {},
   "outputs": [],
   "source": []
  },
  {
   "cell_type": "code",
   "execution_count": null,
   "id": "9027267c-18f6-481d-91c0-ab8e0f2bb93a",
   "metadata": {},
   "outputs": [],
   "source": []
  },
  {
   "cell_type": "code",
   "execution_count": null,
   "id": "1c3e3900-3ef5-4cee-95b1-42ed97309e03",
   "metadata": {},
   "outputs": [],
   "source": []
  },
  {
   "cell_type": "code",
   "execution_count": null,
   "id": "e0badabb-be1a-4ab2-83f1-1bf8c6275c8a",
   "metadata": {},
   "outputs": [],
   "source": []
  },
  {
   "cell_type": "code",
   "execution_count": null,
   "id": "fccb993a-a689-47ea-b4a9-1429657ebc7a",
   "metadata": {},
   "outputs": [],
   "source": []
  },
  {
   "cell_type": "code",
   "execution_count": null,
   "id": "79b7b150-9d43-4547-823a-560b601af797",
   "metadata": {},
   "outputs": [],
   "source": [
    "y_pred = gbm.predict(X_train, num_iteration=bgm.best_iteration_)"
   ]
  },
  {
   "cell_type": "code",
   "execution_count": null,
   "id": "f0066f8b-3e86-45bc-8693-5871e5a9ae7f",
   "metadata": {},
   "outputs": [],
   "source": [
    "# Basic RMSE\n",
    "print('The rmse of prediction is:', round(mean_squared_log_error(y_pred, y_train) ** 0.5, 5))"
   ]
  }
 ],
 "metadata": {
  "kernelspec": {
   "display_name": "Python 3 (ipykernel)",
   "language": "python",
   "name": "python3"
  },
  "language_info": {
   "codemirror_mode": {
    "name": "ipython",
    "version": 3
   },
   "file_extension": ".py",
   "mimetype": "text/x-python",
   "name": "python",
   "nbconvert_exporter": "python",
   "pygments_lexer": "ipython3",
   "version": "3.11.7"
  }
 },
 "nbformat": 4,
 "nbformat_minor": 5
}
