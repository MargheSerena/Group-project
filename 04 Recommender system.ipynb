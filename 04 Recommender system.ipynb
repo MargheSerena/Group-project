{
 "cells": [
  {
   "cell_type": "code",
   "execution_count": 28,
   "metadata": {},
   "outputs": [],
   "source": [
    "# Set up folders\n",
    "from EDA_functions import folders_set_up\n",
    "import os\n",
    "\n",
    "# Work with datarames\n",
    "import pandas as pd\n",
    "import numpy as np\n",
    "\n",
    "# Evaluate models\n",
    "from sklearn.metrics import mean_squared_error\n",
    "from sklearn.metrics import mean_absolute_error\n",
    "\n",
    "import pandas as pd\n",
    "import numpy as np\n",
    "\n",
    "from IPython.display import Image\n",
    "\n",
    "from surprise import Dataset\n",
    "from surprise import Reader\n",
    "from surprise import SVD # Matrix Factorization, Single Value Decomposition\n",
    "from surprise.model_selection import cross_validate\n",
    "\n",
    "#from scipy.sparse import spmatrixc"
   ]
  },
  {
   "cell_type": "markdown",
   "metadata": {},
   "source": [
    "### Folders\n",
    "Run the code below if you have the following structure:\n",
    "- Group-project: GitHub folder\n",
    "- 01 Input\n",
    "- 02 Output"
   ]
  },
  {
   "cell_type": "code",
   "execution_count": 2,
   "metadata": {},
   "outputs": [],
   "source": [
    "analysis_folder, input_folder, output_folder = folders_set_up.generate_folders()"
   ]
  },
  {
   "cell_type": "code",
   "execution_count": 13,
   "metadata": {},
   "outputs": [
    {
     "data": {
      "text/plain": [
       "Index(['Id', 'Title', 'Price', 'User_id', 'profileName', 'review/helpfulness',\n",
       "       'review/score', 'review/time', 'review/summary', 'review/text'],\n",
       "      dtype='object')"
      ]
     },
     "execution_count": 13,
     "metadata": {},
     "output_type": "execute_result"
    }
   ],
   "source": [
    "# Import ratings data\n",
    "title_level_df = pd.read_csv(os.path.join(input_folder,'Books_rating.csv'))\n",
    "\n",
    "title_level_df.columns"
   ]
  },
  {
   "cell_type": "code",
   "execution_count": 9,
   "metadata": {},
   "outputs": [
    {
     "data": {
      "text/plain": [
       "Index(['Unnamed: 0', 'Title', 'index'], dtype='object')"
      ]
     },
     "execution_count": 9,
     "metadata": {},
     "output_type": "execute_result"
    }
   ],
   "source": [
    "# Import train indices\n",
    "train_indices = pd.read_csv(\n",
    "    os.path.join(output_folder, \"train_indices.csv\")\n",
    ")\n",
    "\n",
    "train_indices.columns"
   ]
  },
  {
   "cell_type": "code",
   "execution_count": 14,
   "metadata": {},
   "outputs": [
    {
     "data": {
      "text/plain": [
       "(800337, 12)"
      ]
     },
     "execution_count": 14,
     "metadata": {},
     "output_type": "execute_result"
    }
   ],
   "source": [
    "# Keep ratings of books in the training dataset\n",
    "recommender_df = pd.merge(\n",
    "    train_indices,\n",
    "    title_level_df,\n",
    "    on = 'Title',\n",
    "    how = 'left'\n",
    ")\n",
    "\n",
    "recommender_df.shape"
   ]
  },
  {
   "cell_type": "code",
   "execution_count": 22,
   "metadata": {},
   "outputs": [
    {
     "data": {
      "text/plain": [
       "21419"
      ]
     },
     "execution_count": 22,
     "metadata": {},
     "output_type": "execute_result"
    }
   ],
   "source": [
    "recommender_df['Title'].nunique()"
   ]
  },
  {
   "cell_type": "code",
   "execution_count": 15,
   "metadata": {},
   "outputs": [
    {
     "data": {
      "text/plain": [
       "Index(['Unnamed: 0', 'Title', 'index', 'Id', 'Price', 'User_id', 'profileName',\n",
       "       'review/helpfulness', 'review/score', 'review/time', 'review/summary',\n",
       "       'review/text'],\n",
       "      dtype='object')"
      ]
     },
     "execution_count": 15,
     "metadata": {},
     "output_type": "execute_result"
    }
   ],
   "source": [
    "recommender_df.columns"
   ]
  },
  {
   "cell_type": "code",
   "execution_count": 29,
   "metadata": {},
   "outputs": [],
   "source": [
    "# Drop variables\n",
    "\n",
    "# https://surprise.readthedocs.io/en/stable/reader.html\n",
    "reader = Reader(rating_scale=(0.5, 4.0))\n",
    "#reader = Reader()\n",
    "\n",
    "data = Dataset.load_from_df(recommender_df[['Id', 'Title', 'review/score']], reader)\n"
   ]
  },
  {
   "cell_type": "code",
   "execution_count": 31,
   "metadata": {},
   "outputs": [
    {
     "name": "stdout",
     "output_type": "stream",
     "text": [
      "Evaluating RMSE, MAE, MSE of algorithm SVD on 3 split(s).\n",
      "\n",
      "                  Fold 1  Fold 2  Fold 3  Mean    Std     \n",
      "RMSE (testset)    1.1751  1.1772  1.1766  1.1763  0.0009  \n",
      "MAE (testset)     0.9748  0.9762  0.9748  0.9753  0.0007  \n",
      "MSE (testset)     1.3810  1.3858  1.3843  1.3837  0.0020  \n",
      "Fit time          2.40    2.51    2.72    2.55    0.13    \n",
      "Test time         0.89    0.99    0.86    0.91    0.05    \n"
     ]
    },
    {
     "data": {
      "text/plain": [
       "{'test_rmse': array([1.1751427 , 1.17722043, 1.1765651 ]),\n",
       " 'test_mae': array([0.97476733, 0.97623271, 0.97476084]),\n",
       " 'test_mse': array([1.38096036, 1.38584795, 1.38430543]),\n",
       " 'fit_time': (2.4044129848480225, 2.5144309997558594, 2.7174739837646484),\n",
       " 'test_time': (0.8920009136199951, 0.9874722957611084, 0.8648440837860107)}"
      ]
     },
     "execution_count": 31,
     "metadata": {},
     "output_type": "execute_result"
    }
   ],
   "source": [
    "svd = SVD()\n",
    "\n",
    "cross_validate(\n",
    "    svd, \n",
    "    data, \n",
    "    measures=['RMSE', 'MAE', 'MSE'], # RMSE - Root Mean Square Error (MSE)\n",
    "    cv=3, \n",
    "    verbose=True\n",
    ")"
   ]
  }
 ],
 "metadata": {
  "kernelspec": {
   "display_name": "Python 3",
   "language": "python",
   "name": "python3"
  },
  "language_info": {
   "codemirror_mode": {
    "name": "ipython",
    "version": 3
   },
   "file_extension": ".py",
   "mimetype": "text/x-python",
   "name": "python",
   "nbconvert_exporter": "python",
   "pygments_lexer": "ipython3",
   "version": "3.9.6"
  }
 },
 "nbformat": 4,
 "nbformat_minor": 2
}
