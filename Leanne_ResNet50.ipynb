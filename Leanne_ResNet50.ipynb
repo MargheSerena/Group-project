{
 "cells": [
  {
   "cell_type": "code",
   "execution_count": 47,
   "id": "606b518f-3a5e-4399-a447-839153b5cc68",
   "metadata": {},
   "outputs": [
    {
     "name": "stdout",
     "output_type": "stream",
     "text": [
      "Collecting lightgbm\n",
      "  Obtaining dependency information for lightgbm from https://files.pythonhosted.org/packages/e3/a9/3bfb8f52fee7ab0950bb94920776dbca00b9515ff5fa504374c059d6192c/lightgbm-4.3.0-py3-none-macosx_10_15_x86_64.macosx_11_6_x86_64.macosx_12_5_x86_64.whl.metadata\n",
      "  Downloading lightgbm-4.3.0-py3-none-macosx_10_15_x86_64.macosx_11_6_x86_64.macosx_12_5_x86_64.whl.metadata (19 kB)\n",
      "Requirement already satisfied: numpy in /usr/local/anaconda3/lib/python3.11/site-packages (from lightgbm) (1.24.3)\n",
      "Requirement already satisfied: scipy in /usr/local/anaconda3/lib/python3.11/site-packages (from lightgbm) (1.10.1)\n",
      "Downloading lightgbm-4.3.0-py3-none-macosx_10_15_x86_64.macosx_11_6_x86_64.macosx_12_5_x86_64.whl (1.8 MB)\n",
      "\u001b[2K   \u001b[90m━━━━━━━━━━━━━━━━━━━━━━━━━━━━━━━━━━━━━━━━\u001b[0m \u001b[32m1.8/1.8 MB\u001b[0m \u001b[31m3.8 MB/s\u001b[0m eta \u001b[36m0:00:00\u001b[0ma \u001b[36m0:00:01\u001b[0m\n",
      "\u001b[?25hInstalling collected packages: lightgbm\n",
      "Successfully installed lightgbm-4.3.0\n"
     ]
    }
   ],
   "source": [
    "!pip install lightgbm"
   ]
  },
  {
   "cell_type": "code",
   "execution_count": 48,
   "id": "4906697d-e2ad-4748-9f8d-5ea8f82d36c9",
   "metadata": {},
   "outputs": [
    {
     "ename": "OSError",
     "evalue": "dlopen(/usr/local/anaconda3/lib/python3.11/site-packages/lightgbm/lib/lib_lightgbm.so, 0x0006): Library not loaded: '/usr/local/opt/libomp/lib/libomp.dylib'\n  Referenced from: '/usr/local/anaconda3/lib/python3.11/site-packages/lightgbm/lib/lib_lightgbm.so'\n  Reason: tried: '/usr/local/opt/libomp/lib/libomp.dylib' (no such file), '/usr/local/lib/libomp.dylib' (no such file), '/usr/lib/libomp.dylib' (no such file)",
     "output_type": "error",
     "traceback": [
      "\u001b[0;31m---------------------------------------------------------------------------\u001b[0m",
      "\u001b[0;31mOSError\u001b[0m                                   Traceback (most recent call last)",
      "Cell \u001b[0;32mIn[48], line 1\u001b[0m\n\u001b[0;32m----> 1\u001b[0m \u001b[38;5;28;01mimport\u001b[39;00m \u001b[38;5;21;01mlightgbm\u001b[39;00m \u001b[38;5;28;01mas\u001b[39;00m \u001b[38;5;21;01mlgb\u001b[39;00m\n",
      "File \u001b[0;32m/usr/local/anaconda3/lib/python3.11/site-packages/lightgbm/__init__.py:8\u001b[0m\n\u001b[1;32m      2\u001b[0m \u001b[38;5;124;03m\"\"\"LightGBM, Light Gradient Boosting Machine.\u001b[39;00m\n\u001b[1;32m      3\u001b[0m \n\u001b[1;32m      4\u001b[0m \u001b[38;5;124;03mContributors: https://github.com/microsoft/LightGBM/graphs/contributors.\u001b[39;00m\n\u001b[1;32m      5\u001b[0m \u001b[38;5;124;03m\"\"\"\u001b[39;00m\n\u001b[1;32m      6\u001b[0m \u001b[38;5;28;01mfrom\u001b[39;00m \u001b[38;5;21;01mpathlib\u001b[39;00m \u001b[38;5;28;01mimport\u001b[39;00m Path\n\u001b[0;32m----> 8\u001b[0m \u001b[38;5;28;01mfrom\u001b[39;00m \u001b[38;5;21;01m.\u001b[39;00m\u001b[38;5;21;01mbasic\u001b[39;00m \u001b[38;5;28;01mimport\u001b[39;00m Booster, Dataset, Sequence, register_logger\n\u001b[1;32m      9\u001b[0m \u001b[38;5;28;01mfrom\u001b[39;00m \u001b[38;5;21;01m.\u001b[39;00m\u001b[38;5;21;01mcallback\u001b[39;00m \u001b[38;5;28;01mimport\u001b[39;00m EarlyStopException, early_stopping, log_evaluation, record_evaluation, reset_parameter\n\u001b[1;32m     10\u001b[0m \u001b[38;5;28;01mfrom\u001b[39;00m \u001b[38;5;21;01m.\u001b[39;00m\u001b[38;5;21;01mengine\u001b[39;00m \u001b[38;5;28;01mimport\u001b[39;00m CVBooster, cv, train\n",
      "File \u001b[0;32m/usr/local/anaconda3/lib/python3.11/site-packages/lightgbm/basic.py:247\u001b[0m\n\u001b[1;32m    245\u001b[0m     _LIB \u001b[38;5;241m=\u001b[39m Mock(ctypes\u001b[38;5;241m.\u001b[39mCDLL)  \u001b[38;5;66;03m# type: ignore\u001b[39;00m\n\u001b[1;32m    246\u001b[0m \u001b[38;5;28;01melse\u001b[39;00m:\n\u001b[0;32m--> 247\u001b[0m     _LIB \u001b[38;5;241m=\u001b[39m _load_lib()\n\u001b[1;32m    250\u001b[0m _NUMERIC_TYPES \u001b[38;5;241m=\u001b[39m (\u001b[38;5;28mint\u001b[39m, \u001b[38;5;28mfloat\u001b[39m, \u001b[38;5;28mbool\u001b[39m)\n\u001b[1;32m    251\u001b[0m _ArrayLike \u001b[38;5;241m=\u001b[39m Union[List, np\u001b[38;5;241m.\u001b[39mndarray, pd_Series]\n",
      "File \u001b[0;32m/usr/local/anaconda3/lib/python3.11/site-packages/lightgbm/basic.py:232\u001b[0m, in \u001b[0;36m_load_lib\u001b[0;34m()\u001b[0m\n\u001b[1;32m    230\u001b[0m \u001b[38;5;250m\u001b[39m\u001b[38;5;124;03m\"\"\"Load LightGBM library.\"\"\"\u001b[39;00m\n\u001b[1;32m    231\u001b[0m lib_path \u001b[38;5;241m=\u001b[39m find_lib_path()\n\u001b[0;32m--> 232\u001b[0m lib \u001b[38;5;241m=\u001b[39m ctypes\u001b[38;5;241m.\u001b[39mcdll\u001b[38;5;241m.\u001b[39mLoadLibrary(lib_path[\u001b[38;5;241m0\u001b[39m])\n\u001b[1;32m    233\u001b[0m lib\u001b[38;5;241m.\u001b[39mLGBM_GetLastError\u001b[38;5;241m.\u001b[39mrestype \u001b[38;5;241m=\u001b[39m ctypes\u001b[38;5;241m.\u001b[39mc_char_p\n\u001b[1;32m    234\u001b[0m callback \u001b[38;5;241m=\u001b[39m ctypes\u001b[38;5;241m.\u001b[39mCFUNCTYPE(\u001b[38;5;28;01mNone\u001b[39;00m, ctypes\u001b[38;5;241m.\u001b[39mc_char_p)\n",
      "File \u001b[0;32m/usr/local/anaconda3/lib/python3.11/ctypes/__init__.py:454\u001b[0m, in \u001b[0;36mLibraryLoader.LoadLibrary\u001b[0;34m(self, name)\u001b[0m\n\u001b[1;32m    453\u001b[0m \u001b[38;5;28;01mdef\u001b[39;00m \u001b[38;5;21mLoadLibrary\u001b[39m(\u001b[38;5;28mself\u001b[39m, name):\n\u001b[0;32m--> 454\u001b[0m     \u001b[38;5;28;01mreturn\u001b[39;00m \u001b[38;5;28mself\u001b[39m\u001b[38;5;241m.\u001b[39m_dlltype(name)\n",
      "File \u001b[0;32m/usr/local/anaconda3/lib/python3.11/ctypes/__init__.py:376\u001b[0m, in \u001b[0;36mCDLL.__init__\u001b[0;34m(self, name, mode, handle, use_errno, use_last_error, winmode)\u001b[0m\n\u001b[1;32m    373\u001b[0m \u001b[38;5;28mself\u001b[39m\u001b[38;5;241m.\u001b[39m_FuncPtr \u001b[38;5;241m=\u001b[39m _FuncPtr\n\u001b[1;32m    375\u001b[0m \u001b[38;5;28;01mif\u001b[39;00m handle \u001b[38;5;129;01mis\u001b[39;00m \u001b[38;5;28;01mNone\u001b[39;00m:\n\u001b[0;32m--> 376\u001b[0m     \u001b[38;5;28mself\u001b[39m\u001b[38;5;241m.\u001b[39m_handle \u001b[38;5;241m=\u001b[39m _dlopen(\u001b[38;5;28mself\u001b[39m\u001b[38;5;241m.\u001b[39m_name, mode)\n\u001b[1;32m    377\u001b[0m \u001b[38;5;28;01melse\u001b[39;00m:\n\u001b[1;32m    378\u001b[0m     \u001b[38;5;28mself\u001b[39m\u001b[38;5;241m.\u001b[39m_handle \u001b[38;5;241m=\u001b[39m handle\n",
      "\u001b[0;31mOSError\u001b[0m: dlopen(/usr/local/anaconda3/lib/python3.11/site-packages/lightgbm/lib/lib_lightgbm.so, 0x0006): Library not loaded: '/usr/local/opt/libomp/lib/libomp.dylib'\n  Referenced from: '/usr/local/anaconda3/lib/python3.11/site-packages/lightgbm/lib/lib_lightgbm.so'\n  Reason: tried: '/usr/local/opt/libomp/lib/libomp.dylib' (no such file), '/usr/local/lib/libomp.dylib' (no such file), '/usr/lib/libomp.dylib' (no such file)"
     ]
    }
   ],
   "source": [
    "import lightgbm as lgb"
   ]
  },
  {
   "cell_type": "code",
   "execution_count": 1,
   "id": "5077c5e7-a0ed-4fb0-bfcd-7d66bfa484c2",
   "metadata": {},
   "outputs": [
    {
     "name": "stderr",
     "output_type": "stream",
     "text": [
      "2024-04-03 20:39:18.228368: I tensorflow/core/platform/cpu_feature_guard.cc:210] This TensorFlow binary is optimized to use available CPU instructions in performance-critical operations.\n",
      "To enable the following instructions: AVX2 FMA, in other operations, rebuild TensorFlow with the appropriate compiler flags.\n"
     ]
    }
   ],
   "source": [
    "import numpy as np\n",
    "import pandas as pd\n",
    "import os \n",
    "os.environ[\"KERAS_BACKEND\"] = \"tensorflow\"\n",
    "import keras\n",
    "import tensorflow as tf\n",
    "from keras.applications.resnet import ResNet50\n",
    "from tensorflow.keras.preprocessing import image\n",
    "from keras.applications.resnet import preprocess_input, decode_predictions"
   ]
  },
  {
   "cell_type": "code",
   "execution_count": 27,
   "id": "70e133fd-a347-4454-9869-6efea73ac079",
   "metadata": {},
   "outputs": [
    {
     "name": "stdout",
     "output_type": "stream",
     "text": [
      "numpy-1.24.3\n",
      "pandas-1.5.3\n",
      "keras-3.1.1\n",
      "tensorflow-2.16.1\n"
     ]
    }
   ],
   "source": [
    "print(f\"numpy-{np.__version__}\")\n",
    "print(f\"pandas-{pd.__version__}\")\n",
    "print(f\"keras-{keras.__version__}\")\n",
    "print(f\"tensorflow-{tf.__version__}\")"
   ]
  },
  {
   "cell_type": "markdown",
   "id": "f4c70bd2-4b4b-4285-bd40-cf2ad2f3155c",
   "metadata": {},
   "source": [
    "The ResNet50 model without the top layers (specified by include_top=False) acts as a feature extractor. It takes preprocessed images as input and produces feature maps as output, where each feature map represents higher-level features learned by the model. These feature maps capture various aspects of the input images, such as edges, textures, and object parts."
   ]
  },
  {
   "cell_type": "code",
   "execution_count": 17,
   "id": "f32ca35c-5c20-40fe-8fc7-872feb938ca6",
   "metadata": {},
   "outputs": [],
   "source": [
    "model = ResNet50(weights='imagenet', include_top=False)"
   ]
  },
  {
   "cell_type": "code",
   "execution_count": 5,
   "id": "9b087af2-885d-4d26-a2e6-23ff9e83ddf4",
   "metadata": {},
   "outputs": [
    {
     "name": "stdout",
     "output_type": "stream",
     "text": [
      "1/1 [==============================] - 5s 5s/step\n"
     ]
    }
   ],
   "source": [
    "# testing on one image\n",
    "img_path = 'test_images/110369.jpg'\n",
    "img = image.load_img(img_path, target_size=(224, 224))\n",
    "image_array = image.img_to_array(img) # image to np array\n",
    "images_array = np.expand_dims(image_array, axis=0) # to add batch size [img1, img2, img3, ... img100]\n",
    "images = np.array([image_array, image_array, image_array, image_array, image_array])\n",
    "preprocessed_images_array = preprocess_input(images) # ResNet50 pre-processing: normalisation, BGR format\n",
    "embedding = model.predict(preprocessed_images_array) # features map / embedding\n",
    "embedding_flat = embedding.flatten()"
   ]
  },
  {
   "cell_type": "code",
   "execution_count": null,
   "id": "e0e4d159-94a6-402d-8a59-4d5ecda8c655",
   "metadata": {},
   "outputs": [],
   "source": [
    "def strip_and_convert(filename):\n",
    "    return int(filename.split('.')[0])"
   ]
  },
  {
   "cell_type": "code",
   "execution_count": 53,
   "id": "585caff9-4c0a-4a07-abe8-c7499761a953",
   "metadata": {},
   "outputs": [],
   "source": [
    "# load images\n",
    "directory = 'images'\n",
    "image_name_list = os.listdir(directory)\n",
    "image_name_list.sort(key=strip_and_convert)"
   ]
  },
  {
   "cell_type": "code",
   "execution_count": 56,
   "id": "499f7076-70cc-477c-bad3-d33a408353b0",
   "metadata": {},
   "outputs": [],
   "source": [
    "# generate partitions\n",
    "n = 1024\n",
    "l = len(image_name_list)\n",
    "partitions = np.array_split(image_name_list, range(n, l, n))"
   ]
  },
  {
   "cell_type": "code",
   "execution_count": 60,
   "id": "ce210d4a-95d5-417d-adfb-efeeb460e2b0",
   "metadata": {},
   "outputs": [
    {
     "name": "stdout",
     "output_type": "stream",
     "text": [
      "processing partition 0 (32 images)...\n",
      "\u001b[1m1/1\u001b[0m \u001b[32m━━━━━━━━━━━━━━━━━━━━\u001b[0m\u001b[37m\u001b[0m \u001b[1m1s\u001b[0m 1s/step\n",
      "saving results for partition 0...\n",
      "finished processing partition 0\n",
      "processing partition 1 (32 images)...\n",
      "\u001b[1m1/1\u001b[0m \u001b[32m━━━━━━━━━━━━━━━━━━━━\u001b[0m\u001b[37m\u001b[0m \u001b[1m1s\u001b[0m 1s/step\n",
      "saving results for partition 1...\n",
      "finished processing partition 1\n"
     ]
    }
   ],
   "source": [
    "# process partitions \n",
    "partition_number = 0\n",
    "for partition in partitions:\n",
    "    print(f\"processing partition {partition_number} ({len(partition)} images)...\")\n",
    "    \n",
    "    embedding_list = []\n",
    "    images = []\n",
    "    for image_name in partition:\n",
    "        img_path = os.path.join(directory, image_name)\n",
    "        img = image.load_img(img_path, target_size=(224, 224))\n",
    "        image_array = image.img_to_array(img)\n",
    "        images.append(image_array)\n",
    "    \n",
    "    images_array = np.array(images)\n",
    "    preprocessed_images_array = preprocess_input(images_array) # ResNet50 pre-processing: normalisation, BGR format\n",
    "    embeddings = model.predict(preprocessed_images_array) # features map / embedding\n",
    "    \n",
    "    for embedding in embeddings:\n",
    "        embedding_flat = embedding.flatten()\n",
    "        embedding_list.append(embedding_flat)\n",
    "\n",
    "    df = pd.DataFrame({\n",
    "        'ImageName': partition,\n",
    "        'Embedding': embedding_list})\n",
    "    df['ImageName'] = df['ImageName'].apply(strip_and_convert)\n",
    "    \n",
    "\n",
    "    print(f\"saving results for partition {partition_number}...\")\n",
    "    filename = f\"./embeddings_{partition_number}.pickle.gz\"\n",
    "    df.to_pickle(filename)\n",
    "    print(f\"finished processing partition {partition_number}\")\n",
    "    partition_number += 1\n",
    "    "
   ]
  },
  {
   "cell_type": "code",
   "execution_count": 62,
   "id": "2299c00f-53e0-441e-9392-b9a67a9f7606",
   "metadata": {},
   "outputs": [],
   "source": [
    "# check we can read the pickle file\n",
    "df_2 = pd.read_pickle(\"./embeddings_0.pickle.gz\")"
   ]
  },
  {
   "cell_type": "code",
   "execution_count": 63,
   "id": "68a28ff1-65b0-487d-aed7-95cd77451a09",
   "metadata": {},
   "outputs": [
    {
     "data": {
      "text/html": [
       "<div>\n",
       "<style scoped>\n",
       "    .dataframe tbody tr th:only-of-type {\n",
       "        vertical-align: middle;\n",
       "    }\n",
       "\n",
       "    .dataframe tbody tr th {\n",
       "        vertical-align: top;\n",
       "    }\n",
       "\n",
       "    .dataframe thead th {\n",
       "        text-align: right;\n",
       "    }\n",
       "</style>\n",
       "<table border=\"1\" class=\"dataframe\">\n",
       "  <thead>\n",
       "    <tr style=\"text-align: right;\">\n",
       "      <th></th>\n",
       "      <th>ImageName</th>\n",
       "      <th>Embedding</th>\n",
       "    </tr>\n",
       "  </thead>\n",
       "  <tbody>\n",
       "    <tr>\n",
       "      <th>0</th>\n",
       "      <td>0</td>\n",
       "      <td>[0.0, 2.6630778, 0.0, 0.0, 0.0, 0.0, 0.0, 0.0,...</td>\n",
       "    </tr>\n",
       "    <tr>\n",
       "      <th>1</th>\n",
       "      <td>1</td>\n",
       "      <td>[0.0, 0.0, 0.0, 0.0, 0.0, 0.0, 0.0, 0.0, 0.0, ...</td>\n",
       "    </tr>\n",
       "    <tr>\n",
       "      <th>2</th>\n",
       "      <td>2</td>\n",
       "      <td>[0.0, 0.0, 0.0, 0.0, 0.0, 0.0, 0.0, 0.0, 0.0, ...</td>\n",
       "    </tr>\n",
       "    <tr>\n",
       "      <th>3</th>\n",
       "      <td>3</td>\n",
       "      <td>[0.0, 0.0, 0.0, 0.0, 0.0, 0.0, 0.0, 0.0, 0.0, ...</td>\n",
       "    </tr>\n",
       "    <tr>\n",
       "      <th>4</th>\n",
       "      <td>5</td>\n",
       "      <td>[0.0, 0.0, 0.0, 0.0, 0.0, 0.0, 0.0, 0.0, 0.0, ...</td>\n",
       "    </tr>\n",
       "  </tbody>\n",
       "</table>\n",
       "</div>"
      ],
      "text/plain": [
       "   ImageName                                          Embedding\n",
       "0          0  [0.0, 2.6630778, 0.0, 0.0, 0.0, 0.0, 0.0, 0.0,...\n",
       "1          1  [0.0, 0.0, 0.0, 0.0, 0.0, 0.0, 0.0, 0.0, 0.0, ...\n",
       "2          2  [0.0, 0.0, 0.0, 0.0, 0.0, 0.0, 0.0, 0.0, 0.0, ...\n",
       "3          3  [0.0, 0.0, 0.0, 0.0, 0.0, 0.0, 0.0, 0.0, 0.0, ...\n",
       "4          5  [0.0, 0.0, 0.0, 0.0, 0.0, 0.0, 0.0, 0.0, 0.0, ..."
      ]
     },
     "execution_count": 63,
     "metadata": {},
     "output_type": "execute_result"
    }
   ],
   "source": [
    "df_2.head()"
   ]
  },
  {
   "cell_type": "code",
   "execution_count": 65,
   "id": "b5fbed21-26a4-41b6-bc01-1541ffde25a8",
   "metadata": {},
   "outputs": [
    {
     "data": {
      "text/plain": [
       "156.5712890625"
      ]
     },
     "execution_count": 65,
     "metadata": {},
     "output_type": "execute_result"
    }
   ],
   "source": [
    "len(image_name_list)/1024"
   ]
  },
  {
   "cell_type": "code",
   "execution_count": 2,
   "id": "dafc315d-9dfe-4e3c-b34b-ef7526696eec",
   "metadata": {},
   "outputs": [],
   "source": [
    "# creating slice of images based on cleaning from 02/04/24\n",
    "cleaned_df = pd.read_csv('English_fiction_pre_PCA_3.csv')"
   ]
  },
  {
   "cell_type": "code",
   "execution_count": 4,
   "id": "32d50fcc-a4dc-44b6-af9e-71fb6e9c7287",
   "metadata": {},
   "outputs": [
    {
     "data": {
      "text/plain": [
       "(26774, 18)"
      ]
     },
     "execution_count": 4,
     "metadata": {},
     "output_type": "execute_result"
    }
   ],
   "source": [
    "cleaned_df.shape"
   ]
  },
  {
   "cell_type": "code",
   "execution_count": 10,
   "id": "e40a0cde-e162-4a90-8d54-b71cc888bdc5",
   "metadata": {},
   "outputs": [
    {
     "data": {
      "text/html": [
       "<div>\n",
       "<style scoped>\n",
       "    .dataframe tbody tr th:only-of-type {\n",
       "        vertical-align: middle;\n",
       "    }\n",
       "\n",
       "    .dataframe tbody tr th {\n",
       "        vertical-align: top;\n",
       "    }\n",
       "\n",
       "    .dataframe thead th {\n",
       "        text-align: right;\n",
       "    }\n",
       "</style>\n",
       "<table border=\"1\" class=\"dataframe\">\n",
       "  <thead>\n",
       "    <tr style=\"text-align: right;\">\n",
       "      <th></th>\n",
       "      <th>Title</th>\n",
       "      <th>description</th>\n",
       "      <th>authors</th>\n",
       "      <th>image</th>\n",
       "      <th>previewLink</th>\n",
       "      <th>publisher</th>\n",
       "      <th>infoLink</th>\n",
       "      <th>categories</th>\n",
       "      <th>index</th>\n",
       "      <th>reviews number</th>\n",
       "      <th>average rating</th>\n",
       "      <th>median rating</th>\n",
       "      <th>min review date</th>\n",
       "      <th>max review date</th>\n",
       "      <th>weighted rating</th>\n",
       "      <th>date</th>\n",
       "      <th>year</th>\n",
       "      <th>description_language</th>\n",
       "    </tr>\n",
       "  </thead>\n",
       "  <tbody>\n",
       "    <tr>\n",
       "      <th>0</th>\n",
       "      <td>Whispers of the Wicked Saints</td>\n",
       "      <td>Julia Thomas finds her life spinning out of co...</td>\n",
       "      <td>['Veronica Haddon']</td>\n",
       "      <td>http://books.google.com/books/content?id=aRSIg...</td>\n",
       "      <td>http://books.google.nl/books?id=aRSIgJlq6JwC&amp;d...</td>\n",
       "      <td>iUniverse</td>\n",
       "      <td>http://books.google.nl/books?id=aRSIgJlq6JwC&amp;d...</td>\n",
       "      <td>['fiction']</td>\n",
       "      <td>3</td>\n",
       "      <td>32</td>\n",
       "      <td>3.718750</td>\n",
       "      <td>5.0</td>\n",
       "      <td>2005-02-14</td>\n",
       "      <td>2006-07-01</td>\n",
       "      <td>3.938400</td>\n",
       "      <td>2005-02-01</td>\n",
       "      <td>2005.0</td>\n",
       "      <td>English</td>\n",
       "    </tr>\n",
       "    <tr>\n",
       "      <th>1</th>\n",
       "      <td>The Forbidden Stories of Marta Veneranda</td>\n",
       "      <td>Marta Veneranda, a Latina neoyorkina, finds th...</td>\n",
       "      <td>['Sonia Rivera-Valdes']</td>\n",
       "      <td>http://books.google.com/books/content?id=A7aYb...</td>\n",
       "      <td>http://books.google.nl/books?id=A7aYbAvagu8C&amp;p...</td>\n",
       "      <td>Seven Stories Press</td>\n",
       "      <td>http://books.google.nl/books?id=A7aYbAvagu8C&amp;d...</td>\n",
       "      <td>['fiction']</td>\n",
       "      <td>24</td>\n",
       "      <td>1</td>\n",
       "      <td>5.000000</td>\n",
       "      <td>5.0</td>\n",
       "      <td>2005-01-24</td>\n",
       "      <td>2005-01-24</td>\n",
       "      <td>4.306145</td>\n",
       "      <td>2001-03-06</td>\n",
       "      <td>2001.0</td>\n",
       "      <td>English</td>\n",
       "    </tr>\n",
       "    <tr>\n",
       "      <th>2</th>\n",
       "      <td>Tess and the Highlander</td>\n",
       "      <td>In 1543, on a windswept isle off of Scotland, ...</td>\n",
       "      <td>['May Mcgoldrick']</td>\n",
       "      <td>http://books.google.com/books/content?id=VmCRS...</td>\n",
       "      <td>http://books.google.nl/books?id=VmCRSPmY3WkC&amp;d...</td>\n",
       "      <td>Harper Collins</td>\n",
       "      <td>http://books.google.nl/books?id=VmCRSPmY3WkC&amp;d...</td>\n",
       "      <td>['juvenile fiction']</td>\n",
       "      <td>42</td>\n",
       "      <td>17</td>\n",
       "      <td>4.235294</td>\n",
       "      <td>5.0</td>\n",
       "      <td>2002-10-22</td>\n",
       "      <td>2011-05-25</td>\n",
       "      <td>4.256189</td>\n",
       "      <td>2002-11-01</td>\n",
       "      <td>2002.0</td>\n",
       "      <td>English</td>\n",
       "    </tr>\n",
       "    <tr>\n",
       "      <th>3</th>\n",
       "      <td>Eight Men And A Lady (Elizabeth Sinclair, Harl...</td>\n",
       "      <td>Eight Men And A Lady by Elizabeth Sinclair rel...</td>\n",
       "      <td>['Elizabeth Sinclair']</td>\n",
       "      <td>http://books.google.com/books/content?id=Z6uzJ...</td>\n",
       "      <td>http://books.google.nl/books?id=Z6uzJgLWViUC&amp;q...</td>\n",
       "      <td>Harlequin Treasury-Harlequin American Romance 90s</td>\n",
       "      <td>http://books.google.nl/books?id=Z6uzJgLWViUC&amp;d...</td>\n",
       "      <td>['fiction']</td>\n",
       "      <td>49</td>\n",
       "      <td>2</td>\n",
       "      <td>5.000000</td>\n",
       "      <td>5.0</td>\n",
       "      <td>1998-04-16</td>\n",
       "      <td>2000-05-14</td>\n",
       "      <td>4.336313</td>\n",
       "      <td>1997-01-01</td>\n",
       "      <td>1997.0</td>\n",
       "      <td>English</td>\n",
       "    </tr>\n",
       "    <tr>\n",
       "      <th>4</th>\n",
       "      <td>Night World: Daughters Of Darkness</td>\n",
       "      <td>\"There’s something strange about the new girls...</td>\n",
       "      <td>['L.J. Smith']</td>\n",
       "      <td>http://books.google.com/books/content?id=c9icD...</td>\n",
       "      <td>http://books.google.nl/books?id=c9icDQAAQBAJ&amp;p...</td>\n",
       "      <td>Simon and Schuster</td>\n",
       "      <td>http://books.google.nl/books?id=c9icDQAAQBAJ&amp;d...</td>\n",
       "      <td>['juvenile fiction']</td>\n",
       "      <td>73</td>\n",
       "      <td>134</td>\n",
       "      <td>4.768657</td>\n",
       "      <td>5.0</td>\n",
       "      <td>1996-08-07</td>\n",
       "      <td>2012-09-18</td>\n",
       "      <td>4.701517</td>\n",
       "      <td>2016-12-06</td>\n",
       "      <td>2016.0</td>\n",
       "      <td>English</td>\n",
       "    </tr>\n",
       "  </tbody>\n",
       "</table>\n",
       "</div>"
      ],
      "text/plain": [
       "                                               Title  \\\n",
       "0                      Whispers of the Wicked Saints   \n",
       "1           The Forbidden Stories of Marta Veneranda   \n",
       "2                            Tess and the Highlander   \n",
       "3  Eight Men And A Lady (Elizabeth Sinclair, Harl...   \n",
       "4                 Night World: Daughters Of Darkness   \n",
       "\n",
       "                                         description                  authors  \\\n",
       "0  Julia Thomas finds her life spinning out of co...      ['Veronica Haddon']   \n",
       "1  Marta Veneranda, a Latina neoyorkina, finds th...  ['Sonia Rivera-Valdes']   \n",
       "2  In 1543, on a windswept isle off of Scotland, ...       ['May Mcgoldrick']   \n",
       "3  Eight Men And A Lady by Elizabeth Sinclair rel...   ['Elizabeth Sinclair']   \n",
       "4  \"There’s something strange about the new girls...           ['L.J. Smith']   \n",
       "\n",
       "                                               image  \\\n",
       "0  http://books.google.com/books/content?id=aRSIg...   \n",
       "1  http://books.google.com/books/content?id=A7aYb...   \n",
       "2  http://books.google.com/books/content?id=VmCRS...   \n",
       "3  http://books.google.com/books/content?id=Z6uzJ...   \n",
       "4  http://books.google.com/books/content?id=c9icD...   \n",
       "\n",
       "                                         previewLink  \\\n",
       "0  http://books.google.nl/books?id=aRSIgJlq6JwC&d...   \n",
       "1  http://books.google.nl/books?id=A7aYbAvagu8C&p...   \n",
       "2  http://books.google.nl/books?id=VmCRSPmY3WkC&d...   \n",
       "3  http://books.google.nl/books?id=Z6uzJgLWViUC&q...   \n",
       "4  http://books.google.nl/books?id=c9icDQAAQBAJ&p...   \n",
       "\n",
       "                                           publisher  \\\n",
       "0                                          iUniverse   \n",
       "1                                Seven Stories Press   \n",
       "2                                     Harper Collins   \n",
       "3  Harlequin Treasury-Harlequin American Romance 90s   \n",
       "4                                 Simon and Schuster   \n",
       "\n",
       "                                            infoLink            categories  \\\n",
       "0  http://books.google.nl/books?id=aRSIgJlq6JwC&d...           ['fiction']   \n",
       "1  http://books.google.nl/books?id=A7aYbAvagu8C&d...           ['fiction']   \n",
       "2  http://books.google.nl/books?id=VmCRSPmY3WkC&d...  ['juvenile fiction']   \n",
       "3  http://books.google.nl/books?id=Z6uzJgLWViUC&d...           ['fiction']   \n",
       "4  http://books.google.nl/books?id=c9icDQAAQBAJ&d...  ['juvenile fiction']   \n",
       "\n",
       "   index  reviews number  average rating  median rating min review date  \\\n",
       "0      3              32        3.718750            5.0      2005-02-14   \n",
       "1     24               1        5.000000            5.0      2005-01-24   \n",
       "2     42              17        4.235294            5.0      2002-10-22   \n",
       "3     49               2        5.000000            5.0      1998-04-16   \n",
       "4     73             134        4.768657            5.0      1996-08-07   \n",
       "\n",
       "  max review date  weighted rating        date    year description_language  \n",
       "0      2006-07-01         3.938400  2005-02-01  2005.0              English  \n",
       "1      2005-01-24         4.306145  2001-03-06  2001.0              English  \n",
       "2      2011-05-25         4.256189  2002-11-01  2002.0              English  \n",
       "3      2000-05-14         4.336313  1997-01-01  1997.0              English  \n",
       "4      2012-09-18         4.701517  2016-12-06  2016.0              English  "
      ]
     },
     "execution_count": 10,
     "metadata": {},
     "output_type": "execute_result"
    }
   ],
   "source": [
    "cleaned_df.head()"
   ]
  },
  {
   "cell_type": "code",
   "execution_count": 41,
   "id": "82c4ab27-92b9-42a2-9bc3-96a16db0fc9e",
   "metadata": {},
   "outputs": [
    {
     "name": "stdout",
     "output_type": "stream",
     "text": [
      "<class 'pandas.core.frame.DataFrame'>\n",
      "RangeIndex: 26774 entries, 0 to 26773\n",
      "Data columns (total 18 columns):\n",
      " #   Column                Non-Null Count  Dtype  \n",
      "---  ------                --------------  -----  \n",
      " 0   Title                 26774 non-null  object \n",
      " 1   description           26774 non-null  object \n",
      " 2   authors               26774 non-null  object \n",
      " 3   image                 26774 non-null  object \n",
      " 4   previewLink           26774 non-null  object \n",
      " 5   publisher             26774 non-null  object \n",
      " 6   infoLink              26774 non-null  object \n",
      " 7   categories            26774 non-null  object \n",
      " 8   index                 26774 non-null  int64  \n",
      " 9   reviews number        26774 non-null  int64  \n",
      " 10  average rating        26774 non-null  float64\n",
      " 11  median rating         26774 non-null  float64\n",
      " 12  min review date       26774 non-null  object \n",
      " 13  max review date       26774 non-null  object \n",
      " 14  weighted rating       26774 non-null  float64\n",
      " 15  date                  26774 non-null  object \n",
      " 16  year                  26774 non-null  float64\n",
      " 17  description_language  26774 non-null  object \n",
      "dtypes: float64(4), int64(2), object(12)\n",
      "memory usage: 3.7+ MB\n"
     ]
    }
   ],
   "source": [
    "cleaned_df.info()"
   ]
  },
  {
   "cell_type": "code",
   "execution_count": 21,
   "id": "e90cef25-1ba2-4b4b-8969-360f65ea7c52",
   "metadata": {},
   "outputs": [],
   "source": [
    "indices_cleaned_df = cleaned_df['index'].to_list()"
   ]
  },
  {
   "cell_type": "code",
   "execution_count": 23,
   "id": "a16fcb39-9b61-42af-bab8-c4a5117a8161",
   "metadata": {},
   "outputs": [
    {
     "data": {
      "text/plain": [
       "[3, 24, 42, 49, 73, 83, 115, 116, 131, 132]"
      ]
     },
     "execution_count": 23,
     "metadata": {},
     "output_type": "execute_result"
    }
   ],
   "source": [
    "indices_cleaned_df[:10]"
   ]
  },
  {
   "cell_type": "code",
   "execution_count": 24,
   "id": "1d1d84bd-b53f-4e4c-b10a-add4c015def6",
   "metadata": {},
   "outputs": [
    {
     "data": {
      "text/plain": [
       "26774"
      ]
     },
     "execution_count": 24,
     "metadata": {},
     "output_type": "execute_result"
    }
   ],
   "source": [
    "len(indices_cleaned_df)"
   ]
  },
  {
   "cell_type": "code",
   "execution_count": 28,
   "id": "ff871971-29a1-4024-9761-0cc8274b1f33",
   "metadata": {},
   "outputs": [],
   "source": [
    "directory = 'results'\n",
    "results_files = os.listdir(directory)"
   ]
  },
  {
   "cell_type": "code",
   "execution_count": 30,
   "id": "bf5011d0-012c-456f-9f5b-14db2adc62d5",
   "metadata": {},
   "outputs": [
    {
     "data": {
      "text/plain": [
       "157"
      ]
     },
     "execution_count": 30,
     "metadata": {},
     "output_type": "execute_result"
    }
   ],
   "source": [
    "len(results_files)"
   ]
  },
  {
   "cell_type": "code",
   "execution_count": 34,
   "id": "5c4a1ac5-b65a-43c7-a10d-6d18c0286e58",
   "metadata": {},
   "outputs": [],
   "source": [
    "filtered_embeddings = []\n",
    "\n",
    "# read one pickle batch\n",
    "for result_file in results_files:\n",
    "    result_path = os.path.join(directory, result_file)\n",
    "    df = pd.read_pickle(result_path)\n",
    "    filtered_df = df[df['ImageName'].isin(indices_cleaned_df)]\n",
    "    filtered_embeddings.append(filtered_df)\n"
   ]
  },
  {
   "cell_type": "code",
   "execution_count": 35,
   "id": "bb6037a7-d89a-4ddd-b362-e9a1d1256da8",
   "metadata": {},
   "outputs": [
    {
     "data": {
      "text/plain": [
       "157"
      ]
     },
     "execution_count": 35,
     "metadata": {},
     "output_type": "execute_result"
    }
   ],
   "source": [
    "len(filtered_embeddings)"
   ]
  },
  {
   "cell_type": "code",
   "execution_count": 36,
   "id": "c4d788dc-87aa-4125-8e9c-d43b4e134b32",
   "metadata": {},
   "outputs": [],
   "source": [
    "filtered_embeddings_df = pd.concat(filtered_embeddings, ignore_index=True)"
   ]
  },
  {
   "cell_type": "code",
   "execution_count": 37,
   "id": "86a27dd4-2022-46f3-9dfe-50b1e55e8e99",
   "metadata": {},
   "outputs": [
    {
     "data": {
      "text/plain": [
       "(26774, 2)"
      ]
     },
     "execution_count": 37,
     "metadata": {},
     "output_type": "execute_result"
    }
   ],
   "source": [
    "filtered_embeddings_df.shape"
   ]
  },
  {
   "cell_type": "code",
   "execution_count": 38,
   "id": "0a65fea7-5ec7-4815-b580-c2b3c20f85fb",
   "metadata": {},
   "outputs": [
    {
     "data": {
      "text/html": [
       "<div>\n",
       "<style scoped>\n",
       "    .dataframe tbody tr th:only-of-type {\n",
       "        vertical-align: middle;\n",
       "    }\n",
       "\n",
       "    .dataframe tbody tr th {\n",
       "        vertical-align: top;\n",
       "    }\n",
       "\n",
       "    .dataframe thead th {\n",
       "        text-align: right;\n",
       "    }\n",
       "</style>\n",
       "<table border=\"1\" class=\"dataframe\">\n",
       "  <thead>\n",
       "    <tr style=\"text-align: right;\">\n",
       "      <th></th>\n",
       "      <th>ImageName</th>\n",
       "      <th>Embedding</th>\n",
       "    </tr>\n",
       "  </thead>\n",
       "  <tbody>\n",
       "    <tr>\n",
       "      <th>0</th>\n",
       "      <td>134733</td>\n",
       "      <td>[0.0, 0.0, 0.0, 0.0, 0.0, 0.0, 0.0, 0.0, 0.0, ...</td>\n",
       "    </tr>\n",
       "    <tr>\n",
       "      <th>1</th>\n",
       "      <td>134736</td>\n",
       "      <td>[0.65182924, 0.0, 0.0, 0.0, 0.0, 0.0, 0.0, 0.0...</td>\n",
       "    </tr>\n",
       "    <tr>\n",
       "      <th>2</th>\n",
       "      <td>134739</td>\n",
       "      <td>[0.0, 0.0, 0.0, 0.0, 0.0, 0.0, 0.0, 0.0, 0.0, ...</td>\n",
       "    </tr>\n",
       "    <tr>\n",
       "      <th>3</th>\n",
       "      <td>134741</td>\n",
       "      <td>[0.0, 0.0, 0.0, 0.0, 0.0, 0.0, 0.0, 0.0, 0.0, ...</td>\n",
       "    </tr>\n",
       "    <tr>\n",
       "      <th>4</th>\n",
       "      <td>134743</td>\n",
       "      <td>[0.0, 0.0, 0.0, 0.0, 0.0, 0.0, 1.5643275, 0.0,...</td>\n",
       "    </tr>\n",
       "  </tbody>\n",
       "</table>\n",
       "</div>"
      ],
      "text/plain": [
       "   ImageName                                          Embedding\n",
       "0     134733  [0.0, 0.0, 0.0, 0.0, 0.0, 0.0, 0.0, 0.0, 0.0, ...\n",
       "1     134736  [0.65182924, 0.0, 0.0, 0.0, 0.0, 0.0, 0.0, 0.0...\n",
       "2     134739  [0.0, 0.0, 0.0, 0.0, 0.0, 0.0, 0.0, 0.0, 0.0, ...\n",
       "3     134741  [0.0, 0.0, 0.0, 0.0, 0.0, 0.0, 0.0, 0.0, 0.0, ...\n",
       "4     134743  [0.0, 0.0, 0.0, 0.0, 0.0, 0.0, 1.5643275, 0.0,..."
      ]
     },
     "execution_count": 38,
     "metadata": {},
     "output_type": "execute_result"
    }
   ],
   "source": [
    "filtered_embeddings_df.head()"
   ]
  },
  {
   "cell_type": "code",
   "execution_count": 39,
   "id": "2428190b-69a6-40e8-86b8-77f1e007ff33",
   "metadata": {},
   "outputs": [],
   "source": [
    "filtered_embeddings_df.sort_values('ImageName', inplace=True)"
   ]
  },
  {
   "cell_type": "code",
   "execution_count": 40,
   "id": "657aff8b-2870-48ac-a70c-680f7e13e882",
   "metadata": {},
   "outputs": [
    {
     "data": {
      "text/html": [
       "<div>\n",
       "<style scoped>\n",
       "    .dataframe tbody tr th:only-of-type {\n",
       "        vertical-align: middle;\n",
       "    }\n",
       "\n",
       "    .dataframe tbody tr th {\n",
       "        vertical-align: top;\n",
       "    }\n",
       "\n",
       "    .dataframe thead th {\n",
       "        text-align: right;\n",
       "    }\n",
       "</style>\n",
       "<table border=\"1\" class=\"dataframe\">\n",
       "  <thead>\n",
       "    <tr style=\"text-align: right;\">\n",
       "      <th></th>\n",
       "      <th>ImageName</th>\n",
       "      <th>Embedding</th>\n",
       "    </tr>\n",
       "  </thead>\n",
       "  <tbody>\n",
       "    <tr>\n",
       "      <th>24609</th>\n",
       "      <td>3</td>\n",
       "      <td>[0.0, 0.0, 0.0, 0.0, 0.0, 0.0, 0.0, 0.0, 0.0, ...</td>\n",
       "    </tr>\n",
       "    <tr>\n",
       "      <th>24610</th>\n",
       "      <td>24</td>\n",
       "      <td>[1.1416551, 0.0, 0.0, 0.0, 0.0, 0.0, 2.57376, ...</td>\n",
       "    </tr>\n",
       "    <tr>\n",
       "      <th>24611</th>\n",
       "      <td>42</td>\n",
       "      <td>[0.0, 0.0, 0.0, 0.0, 0.0, 0.0, 6.2108593, 0.0,...</td>\n",
       "    </tr>\n",
       "    <tr>\n",
       "      <th>24612</th>\n",
       "      <td>49</td>\n",
       "      <td>[0.0, 0.0, 0.0, 0.0, 0.0, 0.0, 0.0, 0.0, 0.0, ...</td>\n",
       "    </tr>\n",
       "    <tr>\n",
       "      <th>24613</th>\n",
       "      <td>73</td>\n",
       "      <td>[0.0, 0.0, 0.0, 0.0, 0.0, 0.0, 0.0, 0.0, 0.0, ...</td>\n",
       "    </tr>\n",
       "  </tbody>\n",
       "</table>\n",
       "</div>"
      ],
      "text/plain": [
       "       ImageName                                          Embedding\n",
       "24609          3  [0.0, 0.0, 0.0, 0.0, 0.0, 0.0, 0.0, 0.0, 0.0, ...\n",
       "24610         24  [1.1416551, 0.0, 0.0, 0.0, 0.0, 0.0, 2.57376, ...\n",
       "24611         42  [0.0, 0.0, 0.0, 0.0, 0.0, 0.0, 6.2108593, 0.0,...\n",
       "24612         49  [0.0, 0.0, 0.0, 0.0, 0.0, 0.0, 0.0, 0.0, 0.0, ...\n",
       "24613         73  [0.0, 0.0, 0.0, 0.0, 0.0, 0.0, 0.0, 0.0, 0.0, ..."
      ]
     },
     "execution_count": 40,
     "metadata": {},
     "output_type": "execute_result"
    }
   ],
   "source": [
    "filtered_embeddings_df.head()"
   ]
  },
  {
   "cell_type": "code",
   "execution_count": 49,
   "id": "8a19ad8e-a26c-4084-b28c-7bbb1f1afa25",
   "metadata": {},
   "outputs": [
    {
     "name": "stdout",
     "output_type": "stream",
     "text": [
      "<class 'pandas.core.frame.DataFrame'>\n",
      "Int64Index: 26774 entries, 24609 to 9626\n",
      "Data columns (total 2 columns):\n",
      " #   Column     Non-Null Count  Dtype \n",
      "---  ------     --------------  ----- \n",
      " 0   ImageName  26774 non-null  int64 \n",
      " 1   Embedding  26774 non-null  object\n",
      "dtypes: int64(1), object(1)\n",
      "memory usage: 627.5+ KB\n"
     ]
    }
   ],
   "source": [
    "filtered_embeddings_df.info()"
   ]
  },
  {
   "cell_type": "code",
   "execution_count": 43,
   "id": "83ffaf37-78f6-48a9-a6d4-6cf36f08888c",
   "metadata": {},
   "outputs": [],
   "source": [
    "cleaned_df_with_embeddings = cleaned_df.set_index('index').join(filtered_embeddings_df.set_index('ImageName'))"
   ]
  },
  {
   "cell_type": "code",
   "execution_count": 45,
   "id": "5f02d74e-54e7-41c1-93c8-d7350c02f99a",
   "metadata": {},
   "outputs": [
    {
     "data": {
      "text/plain": [
       "(26774, 18)"
      ]
     },
     "execution_count": 45,
     "metadata": {},
     "output_type": "execute_result"
    }
   ],
   "source": [
    "cleaned_df_with_embeddings.shape"
   ]
  },
  {
   "cell_type": "code",
   "execution_count": 50,
   "id": "b0f7918f-c9de-42a1-bca6-2a1913d2b302",
   "metadata": {},
   "outputs": [
    {
     "name": "stdout",
     "output_type": "stream",
     "text": [
      "<class 'pandas.core.frame.DataFrame'>\n",
      "Int64Index: 26774 entries, 3 to 212402\n",
      "Data columns (total 18 columns):\n",
      " #   Column                Non-Null Count  Dtype  \n",
      "---  ------                --------------  -----  \n",
      " 0   Title                 26774 non-null  object \n",
      " 1   description           26774 non-null  object \n",
      " 2   authors               26774 non-null  object \n",
      " 3   image                 26774 non-null  object \n",
      " 4   previewLink           26774 non-null  object \n",
      " 5   publisher             26774 non-null  object \n",
      " 6   infoLink              26774 non-null  object \n",
      " 7   categories            26774 non-null  object \n",
      " 8   reviews number        26774 non-null  int64  \n",
      " 9   average rating        26774 non-null  float64\n",
      " 10  median rating         26774 non-null  float64\n",
      " 11  min review date       26774 non-null  object \n",
      " 12  max review date       26774 non-null  object \n",
      " 13  weighted rating       26774 non-null  float64\n",
      " 14  date                  26774 non-null  object \n",
      " 15  year                  26774 non-null  float64\n",
      " 16  description_language  26774 non-null  object \n",
      " 17  Embedding             26774 non-null  object \n",
      "dtypes: float64(4), int64(1), object(13)\n",
      "memory usage: 4.9+ MB\n"
     ]
    }
   ],
   "source": [
    "cleaned_df_with_embeddings.info()"
   ]
  },
  {
   "cell_type": "code",
   "execution_count": 46,
   "id": "a8014527-52a8-4f55-83be-65f68eaf7c58",
   "metadata": {},
   "outputs": [],
   "source": [
    "cleaned_df_with_embeddings.to_pickle('English_fiction_pre_PCA_3_with_embeddings.gz')"
   ]
  },
  {
   "cell_type": "code",
   "execution_count": 51,
   "id": "b735fd2e-a380-4eef-a810-16e53940357b",
   "metadata": {},
   "outputs": [],
   "source": [
    "df_embedding_batch_0 = pd.read_pickle('results/embeddings_0.pickle.gz')"
   ]
  },
  {
   "cell_type": "code",
   "execution_count": 52,
   "id": "8f170bba-4963-494b-876f-543b11b88c5f",
   "metadata": {},
   "outputs": [
    {
     "data": {
      "text/html": [
       "<div>\n",
       "<style scoped>\n",
       "    .dataframe tbody tr th:only-of-type {\n",
       "        vertical-align: middle;\n",
       "    }\n",
       "\n",
       "    .dataframe tbody tr th {\n",
       "        vertical-align: top;\n",
       "    }\n",
       "\n",
       "    .dataframe thead th {\n",
       "        text-align: right;\n",
       "    }\n",
       "</style>\n",
       "<table border=\"1\" class=\"dataframe\">\n",
       "  <thead>\n",
       "    <tr style=\"text-align: right;\">\n",
       "      <th></th>\n",
       "      <th>ImageName</th>\n",
       "      <th>Embedding</th>\n",
       "    </tr>\n",
       "  </thead>\n",
       "  <tbody>\n",
       "    <tr>\n",
       "      <th>0</th>\n",
       "      <td>0</td>\n",
       "      <td>[0.0, 2.6699476, 0.0, 0.0, 0.0, 0.0, 0.0, 0.0,...</td>\n",
       "    </tr>\n",
       "    <tr>\n",
       "      <th>1</th>\n",
       "      <td>1</td>\n",
       "      <td>[0.0, 0.0, 0.0, 0.0, 0.0, 0.0, 0.0, 0.0, 0.0, ...</td>\n",
       "    </tr>\n",
       "    <tr>\n",
       "      <th>2</th>\n",
       "      <td>2</td>\n",
       "      <td>[0.0, 0.0, 0.0, 0.0, 0.0, 0.0, 0.0, 0.0, 0.0, ...</td>\n",
       "    </tr>\n",
       "    <tr>\n",
       "      <th>3</th>\n",
       "      <td>3</td>\n",
       "      <td>[0.0, 0.0, 0.0, 0.0, 0.0, 0.0, 0.0, 0.0, 0.0, ...</td>\n",
       "    </tr>\n",
       "    <tr>\n",
       "      <th>4</th>\n",
       "      <td>5</td>\n",
       "      <td>[0.0, 0.0, 0.0, 0.0, 0.0, 0.0, 0.0, 0.0, 0.0, ...</td>\n",
       "    </tr>\n",
       "  </tbody>\n",
       "</table>\n",
       "</div>"
      ],
      "text/plain": [
       "   ImageName                                          Embedding\n",
       "0          0  [0.0, 2.6699476, 0.0, 0.0, 0.0, 0.0, 0.0, 0.0,...\n",
       "1          1  [0.0, 0.0, 0.0, 0.0, 0.0, 0.0, 0.0, 0.0, 0.0, ...\n",
       "2          2  [0.0, 0.0, 0.0, 0.0, 0.0, 0.0, 0.0, 0.0, 0.0, ...\n",
       "3          3  [0.0, 0.0, 0.0, 0.0, 0.0, 0.0, 0.0, 0.0, 0.0, ...\n",
       "4          5  [0.0, 0.0, 0.0, 0.0, 0.0, 0.0, 0.0, 0.0, 0.0, ..."
      ]
     },
     "execution_count": 52,
     "metadata": {},
     "output_type": "execute_result"
    }
   ],
   "source": [
    "df_embedding_batch_0.head()"
   ]
  },
  {
   "cell_type": "code",
   "execution_count": 53,
   "id": "8b69169e-0a0f-44f2-86c8-0285a5b6ef27",
   "metadata": {},
   "outputs": [
    {
     "name": "stdout",
     "output_type": "stream",
     "text": [
      "<class 'pandas.core.frame.DataFrame'>\n",
      "RangeIndex: 1024 entries, 0 to 1023\n",
      "Data columns (total 2 columns):\n",
      " #   Column     Non-Null Count  Dtype \n",
      "---  ------     --------------  ----- \n",
      " 0   ImageName  1024 non-null   int64 \n",
      " 1   Embedding  1024 non-null   object\n",
      "dtypes: int64(1), object(1)\n",
      "memory usage: 16.1+ KB\n"
     ]
    }
   ],
   "source": [
    "df_embedding_batch_0.info()"
   ]
  },
  {
   "cell_type": "code",
   "execution_count": 54,
   "id": "8cd46184-0c58-4773-b608-1adca889fba6",
   "metadata": {},
   "outputs": [
    {
     "data": {
      "text/plain": [
       "100352"
      ]
     },
     "execution_count": 54,
     "metadata": {},
     "output_type": "execute_result"
    }
   ],
   "source": [
    "len(df_embedding_batch_0['Embedding'][0])"
   ]
  },
  {
   "cell_type": "code",
   "execution_count": 55,
   "id": "81e968d7-40cc-4fd5-adc8-ec5f749904a7",
   "metadata": {},
   "outputs": [
    {
     "data": {
      "text/plain": [
       "numpy.ndarray"
      ]
     },
     "execution_count": 55,
     "metadata": {},
     "output_type": "execute_result"
    }
   ],
   "source": [
    "type(df_embedding_batch_0['Embedding'][0])"
   ]
  },
  {
   "cell_type": "code",
   "execution_count": null,
   "id": "12fe6fa7-3a41-4db0-9a08-17ef05617de1",
   "metadata": {},
   "outputs": [],
   "source": []
  }
 ],
 "metadata": {
  "kernelspec": {
   "display_name": "Python 3 (ipykernel)",
   "language": "python",
   "name": "python3"
  },
  "language_info": {
   "codemirror_mode": {
    "name": "ipython",
    "version": 3
   },
   "file_extension": ".py",
   "mimetype": "text/x-python",
   "name": "python",
   "nbconvert_exporter": "python",
   "pygments_lexer": "ipython3",
   "version": "3.11.4"
  }
 },
 "nbformat": 4,
 "nbformat_minor": 5
}
