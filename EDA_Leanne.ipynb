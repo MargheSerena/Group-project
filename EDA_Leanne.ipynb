{
 "cells": [
  {
   "cell_type": "code",
   "execution_count": 1,
   "id": "14a20548-8d48-432a-9efc-d0282c9a0df3",
   "metadata": {},
   "outputs": [],
   "source": [
    "import pandas as pd\n",
    "import os\n",
    "import numpy as np\n",
    "import seaborn as sns\n",
    "import matplotlib.pyplot as plt\n",
    "import plotly.graph_objects as go\n",
    "import plotly.express as px\n",
    "from plotly.subplots import make_subplots\n",
    "from EDA_functions import books_cleaning_steps\n",
    "\n",
    "import datetime\n",
    "\n",
    "# EDA functions\n",
    "from EDA_functions import ratings_cleaning_steps\n"
   ]
  },
  {
   "cell_type": "code",
   "execution_count": 2,
   "id": "ed8f79fb-94c4-4ba4-bb19-53238e31e44e",
   "metadata": {},
   "outputs": [],
   "source": [
    "github_folder = os.getcwd()\n",
    "main_folder = os.path.dirname(github_folder)"
   ]
  },
  {
   "cell_type": "code",
   "execution_count": 3,
   "id": "fb54e63d-e38a-4dbe-8e99-8ba486befdf7",
   "metadata": {},
   "outputs": [],
   "source": [
    "amz_ratings = pd.read_csv(os.path.join(main_folder,'Books_rating.csv'))"
   ]
  },
  {
   "cell_type": "code",
   "execution_count": 4,
   "id": "5ab89610-384d-4e2f-8c44-ba44a8524a6a",
   "metadata": {},
   "outputs": [
    {
     "data": {
      "text/html": [
       "<div>\n",
       "<style scoped>\n",
       "    .dataframe tbody tr th:only-of-type {\n",
       "        vertical-align: middle;\n",
       "    }\n",
       "\n",
       "    .dataframe tbody tr th {\n",
       "        vertical-align: top;\n",
       "    }\n",
       "\n",
       "    .dataframe thead th {\n",
       "        text-align: right;\n",
       "    }\n",
       "</style>\n",
       "<table border=\"1\" class=\"dataframe\">\n",
       "  <thead>\n",
       "    <tr style=\"text-align: right;\">\n",
       "      <th></th>\n",
       "      <th>Id</th>\n",
       "      <th>Title</th>\n",
       "      <th>Price</th>\n",
       "      <th>User_id</th>\n",
       "      <th>profileName</th>\n",
       "      <th>review/helpfulness</th>\n",
       "      <th>review/score</th>\n",
       "      <th>review/time</th>\n",
       "      <th>review/summary</th>\n",
       "      <th>review/text</th>\n",
       "    </tr>\n",
       "  </thead>\n",
       "  <tbody>\n",
       "    <tr>\n",
       "      <th>0</th>\n",
       "      <td>1882931173</td>\n",
       "      <td>Its Only Art If Its Well Hung!</td>\n",
       "      <td>NaN</td>\n",
       "      <td>AVCGYZL8FQQTD</td>\n",
       "      <td>Jim of Oz \"jim-of-oz\"</td>\n",
       "      <td>7/7</td>\n",
       "      <td>4.0</td>\n",
       "      <td>940636800</td>\n",
       "      <td>Nice collection of Julie Strain images</td>\n",
       "      <td>This is only for Julie Strain fans. It's a col...</td>\n",
       "    </tr>\n",
       "    <tr>\n",
       "      <th>1</th>\n",
       "      <td>0826414346</td>\n",
       "      <td>Dr. Seuss: American Icon</td>\n",
       "      <td>NaN</td>\n",
       "      <td>A30TK6U7DNS82R</td>\n",
       "      <td>Kevin Killian</td>\n",
       "      <td>10/10</td>\n",
       "      <td>5.0</td>\n",
       "      <td>1095724800</td>\n",
       "      <td>Really Enjoyed It</td>\n",
       "      <td>I don't care much for Dr. Seuss but after read...</td>\n",
       "    </tr>\n",
       "    <tr>\n",
       "      <th>2</th>\n",
       "      <td>0826414346</td>\n",
       "      <td>Dr. Seuss: American Icon</td>\n",
       "      <td>NaN</td>\n",
       "      <td>A3UH4UZ4RSVO82</td>\n",
       "      <td>John Granger</td>\n",
       "      <td>10/11</td>\n",
       "      <td>5.0</td>\n",
       "      <td>1078790400</td>\n",
       "      <td>Essential for every personal and Public Library</td>\n",
       "      <td>If people become the books they read and if \"t...</td>\n",
       "    </tr>\n",
       "    <tr>\n",
       "      <th>3</th>\n",
       "      <td>0826414346</td>\n",
       "      <td>Dr. Seuss: American Icon</td>\n",
       "      <td>NaN</td>\n",
       "      <td>A2MVUWT453QH61</td>\n",
       "      <td>Roy E. Perry \"amateur philosopher\"</td>\n",
       "      <td>7/7</td>\n",
       "      <td>4.0</td>\n",
       "      <td>1090713600</td>\n",
       "      <td>Phlip Nel gives silly Seuss a serious treatment</td>\n",
       "      <td>Theodore Seuss Geisel (1904-1991), aka &amp;quot;D...</td>\n",
       "    </tr>\n",
       "    <tr>\n",
       "      <th>4</th>\n",
       "      <td>0826414346</td>\n",
       "      <td>Dr. Seuss: American Icon</td>\n",
       "      <td>NaN</td>\n",
       "      <td>A22X4XUPKF66MR</td>\n",
       "      <td>D. H. Richards \"ninthwavestore\"</td>\n",
       "      <td>3/3</td>\n",
       "      <td>4.0</td>\n",
       "      <td>1107993600</td>\n",
       "      <td>Good academic overview</td>\n",
       "      <td>Philip Nel - Dr. Seuss: American IconThis is b...</td>\n",
       "    </tr>\n",
       "  </tbody>\n",
       "</table>\n",
       "</div>"
      ],
      "text/plain": [
       "           Id                           Title  Price         User_id  \\\n",
       "0  1882931173  Its Only Art If Its Well Hung!    NaN   AVCGYZL8FQQTD   \n",
       "1  0826414346        Dr. Seuss: American Icon    NaN  A30TK6U7DNS82R   \n",
       "2  0826414346        Dr. Seuss: American Icon    NaN  A3UH4UZ4RSVO82   \n",
       "3  0826414346        Dr. Seuss: American Icon    NaN  A2MVUWT453QH61   \n",
       "4  0826414346        Dr. Seuss: American Icon    NaN  A22X4XUPKF66MR   \n",
       "\n",
       "                          profileName review/helpfulness  review/score  \\\n",
       "0               Jim of Oz \"jim-of-oz\"                7/7           4.0   \n",
       "1                       Kevin Killian              10/10           5.0   \n",
       "2                        John Granger              10/11           5.0   \n",
       "3  Roy E. Perry \"amateur philosopher\"                7/7           4.0   \n",
       "4     D. H. Richards \"ninthwavestore\"                3/3           4.0   \n",
       "\n",
       "   review/time                                   review/summary  \\\n",
       "0    940636800           Nice collection of Julie Strain images   \n",
       "1   1095724800                                Really Enjoyed It   \n",
       "2   1078790400  Essential for every personal and Public Library   \n",
       "3   1090713600  Phlip Nel gives silly Seuss a serious treatment   \n",
       "4   1107993600                           Good academic overview   \n",
       "\n",
       "                                         review/text  \n",
       "0  This is only for Julie Strain fans. It's a col...  \n",
       "1  I don't care much for Dr. Seuss but after read...  \n",
       "2  If people become the books they read and if \"t...  \n",
       "3  Theodore Seuss Geisel (1904-1991), aka &quot;D...  \n",
       "4  Philip Nel - Dr. Seuss: American IconThis is b...  "
      ]
     },
     "execution_count": 4,
     "metadata": {},
     "output_type": "execute_result"
    }
   ],
   "source": [
    "amz_ratings.head()"
   ]
  },
  {
   "cell_type": "markdown",
   "id": "5db1eb8b-dfcb-49a2-91df-51b00eb1aa5b",
   "metadata": {},
   "source": [
    "Questions/notes\\\n",
    "How is the 'review/summary' field produced?\\\n",
    "Is this Amazon doing some NLP?"
   ]
  },
  {
   "cell_type": "code",
   "execution_count": 5,
   "id": "381edb7a-e8d8-4c47-96a5-1068d26679a3",
   "metadata": {},
   "outputs": [
    {
     "data": {
      "text/plain": [
       "'Nice collection of Julie Strain images'"
      ]
     },
     "execution_count": 5,
     "metadata": {},
     "output_type": "execute_result"
    }
   ],
   "source": [
    "amz_ratings[\"review/summary\"][0]"
   ]
  },
  {
   "cell_type": "code",
   "execution_count": 6,
   "id": "39fabdd8-4bf4-46a2-9138-23a271fcd759",
   "metadata": {},
   "outputs": [
    {
     "data": {
      "text/plain": [
       "\"This is only for Julie Strain fans. It's a collection of her photos -- about 80 pages worth with a nice section of paintings by Olivia.If you're looking for heavy literary content, this isn't the place to find it -- there's only about 2 pages with text and everything else is photos.Bottom line: if you only want one book, the Six Foot One ... is probably a better choice, however, if you like Julie like I like Julie, you won't go wrong on this one either.\""
      ]
     },
     "execution_count": 6,
     "metadata": {},
     "output_type": "execute_result"
    }
   ],
   "source": [
    "amz_ratings[\"review/text\"][0]"
   ]
  },
  {
   "cell_type": "code",
   "execution_count": 7,
   "id": "417cd65c-e15e-4358-8286-738171091bdf",
   "metadata": {},
   "outputs": [],
   "source": [
    "amz_books = pd.read_csv(os.path.join(main_folder,'books_data.csv'))"
   ]
  },
  {
   "cell_type": "code",
   "execution_count": 8,
   "id": "89b6c1c2-24ef-4b97-8317-fad75549f4e3",
   "metadata": {},
   "outputs": [
    {
     "data": {
      "text/html": [
       "<div>\n",
       "<style scoped>\n",
       "    .dataframe tbody tr th:only-of-type {\n",
       "        vertical-align: middle;\n",
       "    }\n",
       "\n",
       "    .dataframe tbody tr th {\n",
       "        vertical-align: top;\n",
       "    }\n",
       "\n",
       "    .dataframe thead th {\n",
       "        text-align: right;\n",
       "    }\n",
       "</style>\n",
       "<table border=\"1\" class=\"dataframe\">\n",
       "  <thead>\n",
       "    <tr style=\"text-align: right;\">\n",
       "      <th></th>\n",
       "      <th>Title</th>\n",
       "      <th>description</th>\n",
       "      <th>authors</th>\n",
       "      <th>image</th>\n",
       "      <th>previewLink</th>\n",
       "      <th>publisher</th>\n",
       "      <th>publishedDate</th>\n",
       "      <th>infoLink</th>\n",
       "      <th>categories</th>\n",
       "      <th>ratingsCount</th>\n",
       "    </tr>\n",
       "  </thead>\n",
       "  <tbody>\n",
       "    <tr>\n",
       "      <th>0</th>\n",
       "      <td>Its Only Art If Its Well Hung!</td>\n",
       "      <td>NaN</td>\n",
       "      <td>['Julie Strain']</td>\n",
       "      <td>http://books.google.com/books/content?id=DykPA...</td>\n",
       "      <td>http://books.google.nl/books?id=DykPAAAACAAJ&amp;d...</td>\n",
       "      <td>NaN</td>\n",
       "      <td>1996</td>\n",
       "      <td>http://books.google.nl/books?id=DykPAAAACAAJ&amp;d...</td>\n",
       "      <td>['Comics &amp; Graphic Novels']</td>\n",
       "      <td>NaN</td>\n",
       "    </tr>\n",
       "    <tr>\n",
       "      <th>1</th>\n",
       "      <td>Dr. Seuss: American Icon</td>\n",
       "      <td>Philip Nel takes a fascinating look into the k...</td>\n",
       "      <td>['Philip Nel']</td>\n",
       "      <td>http://books.google.com/books/content?id=IjvHQ...</td>\n",
       "      <td>http://books.google.nl/books?id=IjvHQsCn_pgC&amp;p...</td>\n",
       "      <td>A&amp;C Black</td>\n",
       "      <td>2005-01-01</td>\n",
       "      <td>http://books.google.nl/books?id=IjvHQsCn_pgC&amp;d...</td>\n",
       "      <td>['Biography &amp; Autobiography']</td>\n",
       "      <td>NaN</td>\n",
       "    </tr>\n",
       "    <tr>\n",
       "      <th>2</th>\n",
       "      <td>Wonderful Worship in Smaller Churches</td>\n",
       "      <td>This resource includes twelve principles in un...</td>\n",
       "      <td>['David R. Ray']</td>\n",
       "      <td>http://books.google.com/books/content?id=2tsDA...</td>\n",
       "      <td>http://books.google.nl/books?id=2tsDAAAACAAJ&amp;d...</td>\n",
       "      <td>NaN</td>\n",
       "      <td>2000</td>\n",
       "      <td>http://books.google.nl/books?id=2tsDAAAACAAJ&amp;d...</td>\n",
       "      <td>['Religion']</td>\n",
       "      <td>NaN</td>\n",
       "    </tr>\n",
       "    <tr>\n",
       "      <th>3</th>\n",
       "      <td>Whispers of the Wicked Saints</td>\n",
       "      <td>Julia Thomas finds her life spinning out of co...</td>\n",
       "      <td>['Veronica Haddon']</td>\n",
       "      <td>http://books.google.com/books/content?id=aRSIg...</td>\n",
       "      <td>http://books.google.nl/books?id=aRSIgJlq6JwC&amp;d...</td>\n",
       "      <td>iUniverse</td>\n",
       "      <td>2005-02</td>\n",
       "      <td>http://books.google.nl/books?id=aRSIgJlq6JwC&amp;d...</td>\n",
       "      <td>['Fiction']</td>\n",
       "      <td>NaN</td>\n",
       "    </tr>\n",
       "    <tr>\n",
       "      <th>4</th>\n",
       "      <td>Nation Dance: Religion, Identity and Cultural ...</td>\n",
       "      <td>NaN</td>\n",
       "      <td>['Edward Long']</td>\n",
       "      <td>NaN</td>\n",
       "      <td>http://books.google.nl/books?id=399SPgAACAAJ&amp;d...</td>\n",
       "      <td>NaN</td>\n",
       "      <td>2003-03-01</td>\n",
       "      <td>http://books.google.nl/books?id=399SPgAACAAJ&amp;d...</td>\n",
       "      <td>NaN</td>\n",
       "      <td>NaN</td>\n",
       "    </tr>\n",
       "  </tbody>\n",
       "</table>\n",
       "</div>"
      ],
      "text/plain": [
       "                                               Title  \\\n",
       "0                     Its Only Art If Its Well Hung!   \n",
       "1                           Dr. Seuss: American Icon   \n",
       "2              Wonderful Worship in Smaller Churches   \n",
       "3                      Whispers of the Wicked Saints   \n",
       "4  Nation Dance: Religion, Identity and Cultural ...   \n",
       "\n",
       "                                         description              authors  \\\n",
       "0                                                NaN     ['Julie Strain']   \n",
       "1  Philip Nel takes a fascinating look into the k...       ['Philip Nel']   \n",
       "2  This resource includes twelve principles in un...     ['David R. Ray']   \n",
       "3  Julia Thomas finds her life spinning out of co...  ['Veronica Haddon']   \n",
       "4                                                NaN      ['Edward Long']   \n",
       "\n",
       "                                               image  \\\n",
       "0  http://books.google.com/books/content?id=DykPA...   \n",
       "1  http://books.google.com/books/content?id=IjvHQ...   \n",
       "2  http://books.google.com/books/content?id=2tsDA...   \n",
       "3  http://books.google.com/books/content?id=aRSIg...   \n",
       "4                                                NaN   \n",
       "\n",
       "                                         previewLink  publisher publishedDate  \\\n",
       "0  http://books.google.nl/books?id=DykPAAAACAAJ&d...        NaN          1996   \n",
       "1  http://books.google.nl/books?id=IjvHQsCn_pgC&p...  A&C Black    2005-01-01   \n",
       "2  http://books.google.nl/books?id=2tsDAAAACAAJ&d...        NaN          2000   \n",
       "3  http://books.google.nl/books?id=aRSIgJlq6JwC&d...  iUniverse       2005-02   \n",
       "4  http://books.google.nl/books?id=399SPgAACAAJ&d...        NaN    2003-03-01   \n",
       "\n",
       "                                            infoLink  \\\n",
       "0  http://books.google.nl/books?id=DykPAAAACAAJ&d...   \n",
       "1  http://books.google.nl/books?id=IjvHQsCn_pgC&d...   \n",
       "2  http://books.google.nl/books?id=2tsDAAAACAAJ&d...   \n",
       "3  http://books.google.nl/books?id=aRSIgJlq6JwC&d...   \n",
       "4  http://books.google.nl/books?id=399SPgAACAAJ&d...   \n",
       "\n",
       "                      categories  ratingsCount  \n",
       "0    ['Comics & Graphic Novels']           NaN  \n",
       "1  ['Biography & Autobiography']           NaN  \n",
       "2                   ['Religion']           NaN  \n",
       "3                    ['Fiction']           NaN  \n",
       "4                            NaN           NaN  "
      ]
     },
     "execution_count": 8,
     "metadata": {},
     "output_type": "execute_result"
    }
   ],
   "source": [
    "amz_books.head()"
   ]
  },
  {
   "cell_type": "markdown",
   "id": "89cc563c-6ce4-45ce-a15f-aa4d63d869f0",
   "metadata": {},
   "source": [
    "### Reviewing Megan and Margherita's EDA pre meet-up"
   ]
  },
  {
   "cell_type": "code",
   "execution_count": 9,
   "id": "ddae46ef-8cf3-46a9-af98-79c400f07083",
   "metadata": {},
   "outputs": [
    {
     "name": "stdout",
     "output_type": "stream",
     "text": [
      "212,404\n"
     ]
    }
   ],
   "source": [
    "print(f\"{amz_ratings['Title'].unique().shape[0]:,}\")"
   ]
  },
  {
   "cell_type": "code",
   "execution_count": 10,
   "id": "92be806b-4c79-4df7-9cf7-d7da32d9f3c8",
   "metadata": {},
   "outputs": [
    {
     "name": "stdout",
     "output_type": "stream",
     "text": [
      "212,404\n"
     ]
    }
   ],
   "source": [
    "print(f\"{amz_books['Title'].unique().shape[0]:,}\")"
   ]
  },
  {
   "cell_type": "markdown",
   "id": "0739800b-d74b-49e2-aa6a-683d6cba13d5",
   "metadata": {},
   "source": [
    "-> There are the same number of unique book titles in each df"
   ]
  },
  {
   "cell_type": "code",
   "execution_count": 11,
   "id": "052873e6-ccf9-4a86-af2f-a953e624efe1",
   "metadata": {},
   "outputs": [
    {
     "data": {
      "text/plain": [
       "Title                 1\n",
       "description       68442\n",
       "authors           31413\n",
       "image             52075\n",
       "previewLink       23836\n",
       "publisher         75886\n",
       "publishedDate     25305\n",
       "infoLink          23836\n",
       "categories        41199\n",
       "ratingsCount     162652\n",
       "dtype: int64"
      ]
     },
     "execution_count": 11,
     "metadata": {},
     "output_type": "execute_result"
    }
   ],
   "source": [
    "amz_books.isnull().sum()"
   ]
  },
  {
   "cell_type": "code",
   "execution_count": 12,
   "id": "0f722dbd-9219-4abc-90e5-9e11d217b60b",
   "metadata": {},
   "outputs": [
    {
     "data": {
      "text/plain": [
       "Id                          0\n",
       "Title                     208\n",
       "Price                 2518829\n",
       "User_id                561787\n",
       "profileName            561905\n",
       "review/helpfulness          0\n",
       "review/score                0\n",
       "review/time                 0\n",
       "review/summary            407\n",
       "review/text                 8\n",
       "dtype: int64"
      ]
     },
     "execution_count": 12,
     "metadata": {},
     "output_type": "execute_result"
    }
   ],
   "source": [
    "amz_ratings.isnull().sum()"
   ]
  },
  {
   "cell_type": "markdown",
   "id": "e02a85d4-59a0-4d73-9e20-f3de963b942a",
   "metadata": {},
   "source": [
    "Unique titles from each df combined, to verify they are the same unique titles in each df!"
   ]
  },
  {
   "cell_type": "code",
   "execution_count": 13,
   "id": "cb95f060-36f1-46db-8bd5-7f0c753deab6",
   "metadata": {},
   "outputs": [],
   "source": [
    "unique_titles_amz_books = amz_books['Title'].unique()\n",
    "unique_titles_amz_ratings = amz_ratings['Title'].unique()\n",
    "\n",
    "combined_titles = pd.concat([pd.Series(unique_titles_amz_books), pd.Series(unique_titles_amz_ratings)], axis=0)\n",
    "\n",
    "# Reset index to ensure it's continuous\n",
    "combined_titles = combined_titles.reset_index(drop=True)"
   ]
  },
  {
   "cell_type": "code",
   "execution_count": 14,
   "id": "e835122c-4296-4aee-acc2-0d698ea5202f",
   "metadata": {},
   "outputs": [
    {
     "name": "stdout",
     "output_type": "stream",
     "text": [
      "212,404\n"
     ]
    }
   ],
   "source": [
    "print(f\"{combined_titles.unique().shape[0]:,}\")"
   ]
  },
  {
   "cell_type": "code",
   "execution_count": 15,
   "id": "586af7e9-dea5-46d0-a789-8e0f2be5701b",
   "metadata": {},
   "outputs": [
    {
     "data": {
      "text/plain": [
       "2"
      ]
     },
     "execution_count": 15,
     "metadata": {},
     "output_type": "execute_result"
    }
   ],
   "source": [
    "combined_titles.isnull().sum()"
   ]
  },
  {
   "cell_type": "markdown",
   "id": "c0fcac0e-02eb-463d-bdf9-c1be75755ab2",
   "metadata": {},
   "source": [
    "# Books EDA"
   ]
  },
  {
   "cell_type": "code",
   "execution_count": 16,
   "id": "b1e897fe-6fd0-4d93-a4fb-9ac6d0426b84",
   "metadata": {},
   "outputs": [
    {
     "data": {
      "text/html": [
       "<div>\n",
       "<style scoped>\n",
       "    .dataframe tbody tr th:only-of-type {\n",
       "        vertical-align: middle;\n",
       "    }\n",
       "\n",
       "    .dataframe tbody tr th {\n",
       "        vertical-align: top;\n",
       "    }\n",
       "\n",
       "    .dataframe thead th {\n",
       "        text-align: right;\n",
       "    }\n",
       "</style>\n",
       "<table border=\"1\" class=\"dataframe\">\n",
       "  <thead>\n",
       "    <tr style=\"text-align: right;\">\n",
       "      <th></th>\n",
       "      <th>Title</th>\n",
       "      <th>description</th>\n",
       "      <th>authors</th>\n",
       "      <th>image</th>\n",
       "      <th>previewLink</th>\n",
       "      <th>publisher</th>\n",
       "      <th>publishedDate</th>\n",
       "      <th>infoLink</th>\n",
       "      <th>categories</th>\n",
       "      <th>ratingsCount</th>\n",
       "    </tr>\n",
       "  </thead>\n",
       "  <tbody>\n",
       "    <tr>\n",
       "      <th>0</th>\n",
       "      <td>Its Only Art If Its Well Hung!</td>\n",
       "      <td>NaN</td>\n",
       "      <td>['Julie Strain']</td>\n",
       "      <td>http://books.google.com/books/content?id=DykPA...</td>\n",
       "      <td>http://books.google.nl/books?id=DykPAAAACAAJ&amp;d...</td>\n",
       "      <td>NaN</td>\n",
       "      <td>1996</td>\n",
       "      <td>http://books.google.nl/books?id=DykPAAAACAAJ&amp;d...</td>\n",
       "      <td>['Comics &amp; Graphic Novels']</td>\n",
       "      <td>NaN</td>\n",
       "    </tr>\n",
       "    <tr>\n",
       "      <th>1</th>\n",
       "      <td>Dr. Seuss: American Icon</td>\n",
       "      <td>Philip Nel takes a fascinating look into the k...</td>\n",
       "      <td>['Philip Nel']</td>\n",
       "      <td>http://books.google.com/books/content?id=IjvHQ...</td>\n",
       "      <td>http://books.google.nl/books?id=IjvHQsCn_pgC&amp;p...</td>\n",
       "      <td>A&amp;C Black</td>\n",
       "      <td>2005-01-01</td>\n",
       "      <td>http://books.google.nl/books?id=IjvHQsCn_pgC&amp;d...</td>\n",
       "      <td>['Biography &amp; Autobiography']</td>\n",
       "      <td>NaN</td>\n",
       "    </tr>\n",
       "    <tr>\n",
       "      <th>2</th>\n",
       "      <td>Wonderful Worship in Smaller Churches</td>\n",
       "      <td>This resource includes twelve principles in un...</td>\n",
       "      <td>['David R. Ray']</td>\n",
       "      <td>http://books.google.com/books/content?id=2tsDA...</td>\n",
       "      <td>http://books.google.nl/books?id=2tsDAAAACAAJ&amp;d...</td>\n",
       "      <td>NaN</td>\n",
       "      <td>2000</td>\n",
       "      <td>http://books.google.nl/books?id=2tsDAAAACAAJ&amp;d...</td>\n",
       "      <td>['Religion']</td>\n",
       "      <td>NaN</td>\n",
       "    </tr>\n",
       "    <tr>\n",
       "      <th>3</th>\n",
       "      <td>Whispers of the Wicked Saints</td>\n",
       "      <td>Julia Thomas finds her life spinning out of co...</td>\n",
       "      <td>['Veronica Haddon']</td>\n",
       "      <td>http://books.google.com/books/content?id=aRSIg...</td>\n",
       "      <td>http://books.google.nl/books?id=aRSIgJlq6JwC&amp;d...</td>\n",
       "      <td>iUniverse</td>\n",
       "      <td>2005-02</td>\n",
       "      <td>http://books.google.nl/books?id=aRSIgJlq6JwC&amp;d...</td>\n",
       "      <td>['Fiction']</td>\n",
       "      <td>NaN</td>\n",
       "    </tr>\n",
       "    <tr>\n",
       "      <th>4</th>\n",
       "      <td>Nation Dance: Religion, Identity and Cultural ...</td>\n",
       "      <td>NaN</td>\n",
       "      <td>['Edward Long']</td>\n",
       "      <td>NaN</td>\n",
       "      <td>http://books.google.nl/books?id=399SPgAACAAJ&amp;d...</td>\n",
       "      <td>NaN</td>\n",
       "      <td>2003-03-01</td>\n",
       "      <td>http://books.google.nl/books?id=399SPgAACAAJ&amp;d...</td>\n",
       "      <td>NaN</td>\n",
       "      <td>NaN</td>\n",
       "    </tr>\n",
       "  </tbody>\n",
       "</table>\n",
       "</div>"
      ],
      "text/plain": [
       "                                               Title  \\\n",
       "0                     Its Only Art If Its Well Hung!   \n",
       "1                           Dr. Seuss: American Icon   \n",
       "2              Wonderful Worship in Smaller Churches   \n",
       "3                      Whispers of the Wicked Saints   \n",
       "4  Nation Dance: Religion, Identity and Cultural ...   \n",
       "\n",
       "                                         description              authors  \\\n",
       "0                                                NaN     ['Julie Strain']   \n",
       "1  Philip Nel takes a fascinating look into the k...       ['Philip Nel']   \n",
       "2  This resource includes twelve principles in un...     ['David R. Ray']   \n",
       "3  Julia Thomas finds her life spinning out of co...  ['Veronica Haddon']   \n",
       "4                                                NaN      ['Edward Long']   \n",
       "\n",
       "                                               image  \\\n",
       "0  http://books.google.com/books/content?id=DykPA...   \n",
       "1  http://books.google.com/books/content?id=IjvHQ...   \n",
       "2  http://books.google.com/books/content?id=2tsDA...   \n",
       "3  http://books.google.com/books/content?id=aRSIg...   \n",
       "4                                                NaN   \n",
       "\n",
       "                                         previewLink  publisher publishedDate  \\\n",
       "0  http://books.google.nl/books?id=DykPAAAACAAJ&d...        NaN          1996   \n",
       "1  http://books.google.nl/books?id=IjvHQsCn_pgC&p...  A&C Black    2005-01-01   \n",
       "2  http://books.google.nl/books?id=2tsDAAAACAAJ&d...        NaN          2000   \n",
       "3  http://books.google.nl/books?id=aRSIgJlq6JwC&d...  iUniverse       2005-02   \n",
       "4  http://books.google.nl/books?id=399SPgAACAAJ&d...        NaN    2003-03-01   \n",
       "\n",
       "                                            infoLink  \\\n",
       "0  http://books.google.nl/books?id=DykPAAAACAAJ&d...   \n",
       "1  http://books.google.nl/books?id=IjvHQsCn_pgC&d...   \n",
       "2  http://books.google.nl/books?id=2tsDAAAACAAJ&d...   \n",
       "3  http://books.google.nl/books?id=aRSIgJlq6JwC&d...   \n",
       "4  http://books.google.nl/books?id=399SPgAACAAJ&d...   \n",
       "\n",
       "                      categories  ratingsCount  \n",
       "0    ['Comics & Graphic Novels']           NaN  \n",
       "1  ['Biography & Autobiography']           NaN  \n",
       "2                   ['Religion']           NaN  \n",
       "3                    ['Fiction']           NaN  \n",
       "4                            NaN           NaN  "
      ]
     },
     "execution_count": 16,
     "metadata": {},
     "output_type": "execute_result"
    }
   ],
   "source": [
    "amz_books.head()"
   ]
  },
  {
   "cell_type": "code",
   "execution_count": 17,
   "id": "dd792ea8-3f46-471f-8cc1-96359f4fd689",
   "metadata": {},
   "outputs": [
    {
     "name": "stdout",
     "output_type": "stream",
     "text": [
      "<class 'pandas.core.frame.DataFrame'>\n",
      "RangeIndex: 212404 entries, 0 to 212403\n",
      "Data columns (total 10 columns):\n",
      " #   Column         Non-Null Count   Dtype  \n",
      "---  ------         --------------   -----  \n",
      " 0   Title          212403 non-null  object \n",
      " 1   description    143962 non-null  object \n",
      " 2   authors        180991 non-null  object \n",
      " 3   image          160329 non-null  object \n",
      " 4   previewLink    188568 non-null  object \n",
      " 5   publisher      136518 non-null  object \n",
      " 6   publishedDate  187099 non-null  object \n",
      " 7   infoLink       188568 non-null  object \n",
      " 8   categories     171205 non-null  object \n",
      " 9   ratingsCount   49752 non-null   float64\n",
      "dtypes: float64(1), object(9)\n",
      "memory usage: 16.2+ MB\n"
     ]
    }
   ],
   "source": [
    "amz_books.info()"
   ]
  },
  {
   "cell_type": "code",
   "execution_count": 18,
   "id": "296a12ec-1af5-4cbc-a434-5c6737da155a",
   "metadata": {},
   "outputs": [
    {
     "data": {
      "text/plain": [
       "(212404, 10)"
      ]
     },
     "execution_count": 18,
     "metadata": {},
     "output_type": "execute_result"
    }
   ],
   "source": [
    "amz_books.shape"
   ]
  },
  {
   "cell_type": "code",
   "execution_count": 19,
   "id": "7e660fe9-9b68-4476-8a26-2061733525aa",
   "metadata": {},
   "outputs": [
    {
     "data": {
      "text/plain": [
       "Title                 1\n",
       "description       68442\n",
       "authors           31413\n",
       "image             52075\n",
       "previewLink       23836\n",
       "publisher         75886\n",
       "publishedDate     25305\n",
       "infoLink          23836\n",
       "categories        41199\n",
       "ratingsCount     162652\n",
       "dtype: int64"
      ]
     },
     "execution_count": 19,
     "metadata": {},
     "output_type": "execute_result"
    }
   ],
   "source": [
    "amz_books.isnull().sum()"
   ]
  },
  {
   "cell_type": "code",
   "execution_count": 20,
   "id": "3de042de-2166-45a5-80cf-4578e75a5ccf",
   "metadata": {},
   "outputs": [],
   "source": [
    "# ratings count is average rating for each title"
   ]
  },
  {
   "cell_type": "code",
   "execution_count": 21,
   "id": "82ce43b3-76ed-4ef8-b897-bca24e422a5e",
   "metadata": {},
   "outputs": [
    {
     "name": "stdout",
     "output_type": "stream",
     "text": [
      "212,404\n"
     ]
    }
   ],
   "source": [
    "print(f\"{amz_books['Title'].unique().shape[0]:,}\")"
   ]
  },
  {
   "cell_type": "code",
   "execution_count": 22,
   "id": "80354bb6-2d00-47ad-a035-ac1cb39b08e1",
   "metadata": {},
   "outputs": [
    {
     "name": "stdout",
     "output_type": "stream",
     "text": [
      "127,279\n"
     ]
    }
   ],
   "source": [
    "print(f\"{amz_books['authors'].unique().shape[0]:,}\")"
   ]
  },
  {
   "cell_type": "code",
   "execution_count": 23,
   "id": "81061203-2e5b-429d-8a1b-fa0bf0302233",
   "metadata": {},
   "outputs": [
    {
     "name": "stdout",
     "output_type": "stream",
     "text": [
      "149,388\n"
     ]
    }
   ],
   "source": [
    "print(f\"{amz_books['image'].unique().shape[0]:,}\")"
   ]
  },
  {
   "cell_type": "code",
   "execution_count": 24,
   "id": "1254603f-56b4-4317-b64d-88902ca71b66",
   "metadata": {},
   "outputs": [
    {
     "name": "stdout",
     "output_type": "stream",
     "text": [
      "16,017\n"
     ]
    }
   ],
   "source": [
    "print(f\"{amz_books['publisher'].unique().shape[0]:,}\")"
   ]
  },
  {
   "cell_type": "code",
   "execution_count": 25,
   "id": "a4b4dfb3-1ec7-486a-b871-b427bea6581e",
   "metadata": {},
   "outputs": [
    {
     "data": {
      "text/plain": [
       "(212404, 10)"
      ]
     },
     "execution_count": 25,
     "metadata": {},
     "output_type": "execute_result"
    }
   ],
   "source": [
    "amz_books.shape"
   ]
  },
  {
   "cell_type": "code",
   "execution_count": 26,
   "id": "f9a76e99-ac2a-46b6-9ff9-5b1afe02d456",
   "metadata": {},
   "outputs": [],
   "source": [
    "# Convert 'dates' column to datetime\n",
    "amz_books['publishedDate'] = pd.to_datetime(amz_books['publishedDate'], errors='coerce')\n",
    "\n",
    "# Filter out NaN and dates containing '?'\n",
    "filtered_amz_books = amz_books[amz_books['publishedDate'].notna() & ~amz_books['publishedDate'].astype(str).str.contains('\\?', na=False)]\n"
   ]
  },
  {
   "cell_type": "code",
   "execution_count": 27,
   "id": "6f3e9d4b-b006-4a14-bb62-57fc8b94d1d1",
   "metadata": {},
   "outputs": [
    {
     "data": {
      "text/plain": [
       "Timestamp('1679-01-01 00:00:00')"
      ]
     },
     "execution_count": 27,
     "metadata": {},
     "output_type": "execute_result"
    }
   ],
   "source": [
    "filtered_amz_books['publishedDate'].min()"
   ]
  },
  {
   "cell_type": "code",
   "execution_count": 28,
   "id": "6b5b43bc-98a7-4152-8338-9d82d2805c4f",
   "metadata": {},
   "outputs": [
    {
     "data": {
      "text/plain": [
       "Timestamp('1983-12-14 23:35:05.709667776')"
      ]
     },
     "execution_count": 28,
     "metadata": {},
     "output_type": "execute_result"
    }
   ],
   "source": [
    "filtered_amz_books['publishedDate'].mean()"
   ]
  },
  {
   "cell_type": "code",
   "execution_count": 29,
   "id": "368ad9b5-5217-48d3-9a54-c69cded4d206",
   "metadata": {},
   "outputs": [
    {
     "data": {
      "text/plain": [
       "Timestamp('2025-01-01 00:00:00')"
      ]
     },
     "execution_count": 29,
     "metadata": {},
     "output_type": "execute_result"
    }
   ],
   "source": [
    "filtered_amz_books['publishedDate'].max()"
   ]
  },
  {
   "cell_type": "code",
   "execution_count": 30,
   "id": "7b7be12f-6864-4f2d-80b9-b4c00a8e19ef",
   "metadata": {},
   "outputs": [
    {
     "data": {
      "text/plain": [
       "(90951, 10)"
      ]
     },
     "execution_count": 30,
     "metadata": {},
     "output_type": "execute_result"
    }
   ],
   "source": [
    "filtered_amz_books.shape"
   ]
  },
  {
   "cell_type": "code",
   "execution_count": 31,
   "id": "a2114536-3ad7-41a3-8a39-f5b7291a2579",
   "metadata": {},
   "outputs": [],
   "source": [
    "def clean_date(\n",
    "    df,\n",
    "    publishedDate_column: str    \n",
    "):\n",
    "    # Convert 'dates' column to datetime\n",
    "    df[publishedDate_column] = pd.to_datetime(df[publishedDate_column], errors='coerce')\n",
    "\n",
    "    # Filter out NaN and dates containing '?'\n",
    "    filtered_df = df[df[publishedDate_column].notna() & ~df[publishedDate_column].astype(str).str.contains('\\?', na=False)]\n",
    "    return filtered_df"
   ]
  },
  {
   "cell_type": "code",
   "execution_count": 32,
   "id": "8c1da51f-0ee5-4b6b-b318-83c2f0c157e7",
   "metadata": {},
   "outputs": [],
   "source": [
    "# function works in notebook, but havin trouble using .py file\n",
    "# error name 'pd' is not defined\n",
    "filtered_amz_books_2 = clean_date(\n",
    "    amz_books,\n",
    "    'publishedDate'   \n",
    ")"
   ]
  },
  {
   "cell_type": "code",
   "execution_count": 33,
   "id": "918270ab-9898-45ad-9347-368b7ce00d26",
   "metadata": {},
   "outputs": [
    {
     "data": {
      "text/plain": [
       "(90951, 10)"
      ]
     },
     "execution_count": 33,
     "metadata": {},
     "output_type": "execute_result"
    }
   ],
   "source": [
    "filtered_amz_books_2.shape"
   ]
  },
  {
   "cell_type": "code",
   "execution_count": 34,
   "id": "0a1df64f-cd59-4ee9-ac8d-2e1c3d2d0569",
   "metadata": {},
   "outputs": [],
   "source": [
    "# checking that clean_date function works\n",
    "filtered_amz_books_3 = books_cleaning_steps.clean_date(\n",
    "    amz_books,\n",
    "    'publishedDate'   \n",
    ")"
   ]
  },
  {
   "cell_type": "code",
   "execution_count": 40,
   "id": "b0f7c27b-fb8f-46d3-b6aa-399fc40c003a",
   "metadata": {},
   "outputs": [
    {
     "data": {
      "text/plain": [
       "(90951, 10)"
      ]
     },
     "execution_count": 40,
     "metadata": {},
     "output_type": "execute_result"
    }
   ],
   "source": [
    "filtered_amz_books_3.shape"
   ]
  },
  {
   "cell_type": "code",
   "execution_count": 35,
   "id": "e6197034-6af3-46f1-9493-68cc2d874280",
   "metadata": {},
   "outputs": [],
   "source": [
    "# amz_books_drop_nan_year = amz_books.dropna(how=\"any\", subset=[\"publishedDate_year\"])"
   ]
  },
  {
   "cell_type": "code",
   "execution_count": 36,
   "id": "c008dd1f-9cad-40ca-9d2f-fbd8ad54f674",
   "metadata": {},
   "outputs": [
    {
     "data": {
      "text/plain": [
       "187099"
      ]
     },
     "execution_count": 36,
     "metadata": {},
     "output_type": "execute_result"
    }
   ],
   "source": [
    "212404 - 25305"
   ]
  },
  {
   "cell_type": "code",
   "execution_count": 37,
   "id": "0309b1b2-6930-4a4a-95a7-4a3e76302466",
   "metadata": {},
   "outputs": [
    {
     "data": {
      "text/plain": [
       "187051"
      ]
     },
     "execution_count": 37,
     "metadata": {},
     "output_type": "execute_result"
    }
   ],
   "source": [
    "187099 - 45 - 3"
   ]
  },
  {
   "cell_type": "code",
   "execution_count": 38,
   "id": "0f93c984-6600-445f-ba2e-e9a941cbf4a1",
   "metadata": {},
   "outputs": [],
   "source": [
    "# amz_books_drop_nan_year = amz_books_drop_nan_year.drop(amz_books_drop_nan_year[amz_books_drop_nan_year['publishedDate_year'] == '20??'].index)"
   ]
  },
  {
   "cell_type": "code",
   "execution_count": 39,
   "id": "acad92ac-e1cc-4ef8-8659-0f74fa779d98",
   "metadata": {},
   "outputs": [
    {
     "name": "stdout",
     "output_type": "stream",
     "text": [
      "<class 'pandas.core.frame.DataFrame'>\n",
      "RangeIndex: 212404 entries, 0 to 212403\n",
      "Data columns (total 10 columns):\n",
      " #   Column         Non-Null Count   Dtype         \n",
      "---  ------         --------------   -----         \n",
      " 0   Title          212403 non-null  object        \n",
      " 1   description    143962 non-null  object        \n",
      " 2   authors        180991 non-null  object        \n",
      " 3   image          160329 non-null  object        \n",
      " 4   previewLink    188568 non-null  object        \n",
      " 5   publisher      136518 non-null  object        \n",
      " 6   publishedDate  90951 non-null   datetime64[ns]\n",
      " 7   infoLink       188568 non-null  object        \n",
      " 8   categories     171205 non-null  object        \n",
      " 9   ratingsCount   49752 non-null   float64       \n",
      "dtypes: datetime64[ns](1), float64(1), object(8)\n",
      "memory usage: 16.2+ MB\n"
     ]
    }
   ],
   "source": [
    "amz_books.info()"
   ]
  },
  {
   "cell_type": "code",
   "execution_count": null,
   "id": "de3c8b50-48e5-47bf-82a1-a2c3e2fa05a3",
   "metadata": {},
   "outputs": [],
   "source": []
  }
 ],
 "metadata": {
  "kernelspec": {
   "display_name": "Python 3 (ipykernel)",
   "language": "python",
   "name": "python3"
  },
  "language_info": {
   "codemirror_mode": {
    "name": "ipython",
    "version": 3
   },
   "file_extension": ".py",
   "mimetype": "text/x-python",
   "name": "python",
   "nbconvert_exporter": "python",
   "pygments_lexer": "ipython3",
   "version": "3.11.5"
  }
 },
 "nbformat": 4,
 "nbformat_minor": 5
}
